{
 "cells": [
  {
   "cell_type": "markdown",
   "metadata": {},
   "source": [
    "## Making Packages for upload to Github\n",
    "\n",
    "**TASK:** Create a github public repository to share a module or other function as Open Source.\n",
    "\n",
    "**MOTIVATION:**\n",
    "\n",
    "* To maintain the integrity and reproduce scientific results, it is important that both data **and** _code_ are preserved in a repository. \n",
    "\n",
    "* Document and package a module you have written. For example, you can complete this exercise with your `fibonacci modules`, you can put your `basic_stats` code into a module you wrote earlier in the class. (**If you want to go through this process with a different module you wrote, that is also good, even excellent**).\n",
    "\n",
    "* Use git to upload and maintain the basic_stats module.\n",
    "\n",
    "\n",
    "### Types of Projects\n",
    "\n",
    "[Ryan Abernathy](https://rabernat.github.io) recommends categorizing your intellectual output into one of three types:\n",
    "\n",
    "\n",
    "1. **Exploratory analyses**: When exploring a new idea, a single notebook or script is often all we need.\n",
    "1. **Single Paper or Research Report**: The \"paper\" is a standard unit of scientific output. The code related to a single paper usually belongs together. \n",
    "1. **Reusable software elements**: In the course of our research computing, we often identify specialized routines that we want to package for reuse in other projects, or by other scientists. This is where \"scripts\" become \"software.\"\n",
    "\n",
    "We will focus on the Reusable software element."
   ]
  },
  {
   "cell_type": "markdown",
   "metadata": {},
   "source": [
    "## Reuseable Software Elements\n",
    "\n",
    "Scientific software can perhaps be grouped into two categories: single-use \"scripts\" that are used in a very specific context to do a very specific thing (e.g.~to generate a specific figure for a paper), and reuseable components which encapsulate a more generic workflow. Once you find yourself repeating the same chunks of code in many different scripts or projects, it's time to start composing reusable software elements."
   ]
  },
  {
   "cell_type": "markdown",
   "metadata": {},
   "source": [
    "### Modules:\n",
    "\n",
    "Earlier in the class you have created a module.  Here, that code will get copied into a stand-alone Python .py file, so that it can be imported and executed by any other script or in the Python IDE. More info about [modules](https://docs.python.org/3/tutorial/modules.html).\n",
    "\n",
    "Below is an example module to compute the [Saturation vapor pressure]() for some common gases in the atmosphere.  I use this code as part of a toolbox on air-sea exchange.\n",
    "\n",
    "Included with this assignment is a file called`air_sea.py`, which contains the module definition for the satureation vapor pressure:\n",
    "\n",
    "```python\n",
    "\"\"\"\n",
    "Saturation Vapor Pressure in mb\n",
    "\"\"\"\n",
    "\n",
    "def sat_vp(T):\n",
    "\n",
    "    \"\"\"\n",
    "    Saturation Vapor Pressure in mb\n",
    "    % function es = sat_vp(T),\n",
    "    %- INPUT:\n",
    "    %-  1) Temperature in Deg. C\n",
    "    %- OUTPUT:\n",
    "    %-  1) vapor pressure in mb calculate the saturation vapor pressure in mb.  \n",
    "    %- \n",
    "    \"\"\"\n",
    "        \n",
    "    import numpy as np\n",
    "    \n",
    "    Lf = 2.453e6 # (J/kg)\n",
    "    Rv = 461.     # (J/kg)\n",
    "    \n",
    "    if (T <= 0):\n",
    "    \n",
    "        Tk = 273.15+T\n",
    "        \n",
    "        # es in hPa\n",
    "        loges =  -7.90298*(373.16/Tk-1) + 5.02808*np.log10(373.16/Tk) \\\n",
    "        - 1.3816e-7*(1011.344*(1-Tk/373.16)-1) + 8.1328e-3*(10**-3.49149*(373.16/Tk-1)-1) \\\n",
    "        + np.log10(1013.246)\n",
    "        es = 10**loges\n",
    "        \n",
    "    else:\n",
    "        Tk = 273.15+T\n",
    "        loges = Lf/Rv*(1/273.15 - 1/Tk)\n",
    "        es = 6.11*np.exp(loges)\n",
    "    return es\n",
    "\n",
    "```\n",
    "\n",
    "This module can be imported if it is in the same folder as this Jupyter notebook."
   ]
  },
  {
   "cell_type": "code",
   "execution_count": 1,
   "metadata": {},
   "outputs": [
    {
     "name": "stdout",
     "output_type": "stream",
     "text": [
      "Help on package air_sea:\n",
      "\n",
      "NAME\n",
      "    air_sea\n",
      "\n",
      "DESCRIPTION\n",
      "    Air-sea Package for Python\n",
      "        Version 1.0 Oct. 8, 2020\n",
      "        Author:  Brice Loose, Graduate School of Oceanography, URI.\n",
      "        Email: bloose@uri.edu\n",
      "        # \n",
      "        # DISCLAIMER:\n",
      "        #    This software is provided \"as is\" without warranty of any kind. \n",
      "        #=========================================================================\n",
      "\n",
      "PACKAGE CONTENTS\n",
      "    air_sea\n",
      "\n",
      "FUNCTIONS\n",
      "    sat_vp(T)\n",
      "        Saturation Vapor Pressure in mb\n",
      "        % function es = sat_vp(T),\n",
      "        %- INPUT:\n",
      "        %-  1) Temperature in Deg. C\n",
      "        %- OUTPUT:\n",
      "        %-  1) vapor pressure in mb calculate the saturation vapor pressure in mb.  \n",
      "        %-\n",
      "\n",
      "DATA\n",
      "    __all__ = ['sat_vp']\n",
      "\n",
      "FILE\n",
      "    /Users/huero/GDrive/teaching/OCG404/2023/Lab/Github_Lab/air_sea/__init__.py\n",
      "\n",
      "\n"
     ]
    }
   ],
   "source": [
    "import air_sea\n",
    "help(air_sea) "
   ]
  },
  {
   "cell_type": "markdown",
   "metadata": {},
   "source": [
    "And let's try using it to make a calculation"
   ]
  },
  {
   "cell_type": "code",
   "execution_count": 2,
   "metadata": {},
   "outputs": [
    {
     "data": {
      "text/plain": [
       "5.670131452875462"
      ]
     },
     "execution_count": 2,
     "metadata": {},
     "output_type": "execute_result"
    }
   ],
   "source": [
    "air_sea.sat_vp(-1)"
   ]
  },
  {
   "cell_type": "markdown",
   "metadata": {},
   "source": [
    "If the module is modified, you must restart the kernel or reload the module. "
   ]
  },
  {
   "cell_type": "code",
   "execution_count": 3,
   "metadata": {},
   "outputs": [
    {
     "data": {
      "text/plain": [
       "<module 'air_sea' from '/Users/huero/GDrive/teaching/OCG404/2021/Lectures+Notes/Week12_github/_Lab/air_sea/__init__.py'>"
      ]
     },
     "execution_count": 3,
     "metadata": {},
     "output_type": "execute_result"
    }
   ],
   "source": [
    "from importlib import reload\n",
    "reload(air_sea) "
   ]
  },
  {
   "cell_type": "markdown",
   "metadata": {},
   "source": [
    "Modules are a simple way to share code between different scripts or notebooks in the same project. _Module files must reside in the same directory as any script which imports them!_ This is a big limitation; it means you can't share modules between different projects.\n",
    "\n",
    "Once you have a piece of code that is general-purpose enough to share between projects, you need to create a package."
   ]
  },
  {
   "cell_type": "markdown",
   "metadata": {},
   "source": [
    "### Packages\n",
    "\n",
    "[Packages](https://docs.python.org/3/tutorial/modules.html#packages) are python's way of encapsulating reusable code elements for sharing with others. Packaging is a huge and complicated topic. We will just scratch the surface.\n",
    "\n",
    "We have already interacted with many packages already. Browse some of their github repositories to explore the structure of a large python package:\n",
    "\n",
    "* NumPy: <https://github.com/numpy/numpy>\n",
    "* Pandas: <https://github.com/pandas-dev/pandas>\n",
    "\n",
    "These packages all have a common basic structure. Imagine we wanted to turn the sat_vp module into a package called air-sea. It would look like this.\n",
    "\n",
    "    README.md\n",
    "    LICENSE\n",
    "    setup.py\n",
    "    air_sea/__init__.py\n",
    "    air_sea/sat_vp.py\n",
    "    \n",
    "The actual package is contained in the `air_sea` subdirectory. The other files are auxilliary files which help others understand and install your package. Here is an overview of what they do\n",
    "\n",
    "| File Name | Purpose |\n",
    "|-----------|---------|\n",
    "| `README.md` | Explain what the package is for |\n",
    "| `LICENSE` | Defines the legal terms under which other can use the package. [Open source](https://opensource.org/licenses/category) is encouraged! |\n",
    "| `setup.py` | A special python script which installs your package. ([more info](https://pythonhosted.org/an_example_pypi_project/setuptools.html)) |\n"
   ]
  },
  {
   "cell_type": "markdown",
   "metadata": {},
   "source": [
    "### The actual package\n",
    "\n",
    "The directory `air_sea` is the actual package. Any directory that contains an `__init__.py` file is recognized by python as a package. This file can be blank, but it needs to be present. "
   ]
  },
  {
   "cell_type": "markdown",
   "metadata": {},
   "source": [
    "`setup.py` is the magic file that makes your package installable and accessible anywhere. Here is a basic `setup.py`\n",
    "\n",
    "```python\n",
    "from setuptools import setup\n",
    "\n",
    "setup(\n",
    "    name = \"air_sea\",\n",
    "    version = \"0.0.1\",\n",
    "    author = \"Brice Loose\",\n",
    "    packages=['sat_vp'],\n",
    "    install_requires=['numpy','scipy.io'],\n",
    ")\n",
    "```\n",
    "\n",
    "To run the setup script, we call the following from the command line\n",
    "\n",
    "    python setup.py install\n",
    "    \n",
    "The package files are copied to our python library directory.\n",
    "If we plan to keep developing the package, we can install it in \"developer mode\" as\n",
    "\n",
    "    python setup.py develop\n",
    "\n",
    "In this case, the files are symlinked rather than copied."
   ]
  },
  {
   "cell_type": "markdown",
   "metadata": {},
   "source": [
    "### Follow similar steps to the github pages in-class activity.\n",
    "2. Back in a web browser, open your github.com account and make a new empty repository called `basic_stats` or some other name that describes what the code does. Edit the repository name and description.\n",
    "\n",
    "<img src=\"https://bloose.github.io/data_prototyping_scientific_computing/images/Git_clone.png\" width=\"600px\"/>\n",
    "\n",
    "3. Include a LICENSE and README.md.\n",
    "\n",
    "<img src=\"https://bloose.github.io/data_prototyping_scientific_computing/images/Git_repo.png\" width=\"600px\"/>\n",
    "\n",
    "4. Copy the .git URL to your clipboard in preparation to clone the repository to your local computer."
   ]
  },
  {
   "cell_type": "markdown",
   "metadata": {},
   "source": [
    "### Clone the empty basic_stats repository and copy in your python files.\n",
    "\n",
    "Use the `git clone` command to make a local copy of your repository that you can modify and push. \n",
    "\n",
    "~~~\n",
    "]$ cd ~                 # Change to your home directory\n",
    "]$ cd git_repos/\n",
    "]$ git clone [repository_url].git   #this should be copied from the code dropdown.\n",
    "]$ cd [repository_name]     # Change into the directory you created.\n",
    "~~~\n",
    "\n",
    "1. Add setup.py to the repository folder.\n",
    "1. Make a folder called basic_stats.py\n",
    "1. Add __init__.py to this folder.  Modify according to the air_sea example.\n",
    "1. Add basic_stats.py to this folder.\n",
    "1. Synchronize your changes using the add, commit, push sequence that we have used.\n"
   ]
  },
  {
   "cell_type": "markdown",
   "metadata": {},
   "source": [
    "### Step 6: What to turn in.\n",
    "\n",
    "Upload the contents of your new github repository for basic_stats to the assignment upload.  Paste the URL for your repository into the assignment submission text box, so I can have a look at your repo."
   ]
  },
  {
   "cell_type": "code",
   "execution_count": null,
   "metadata": {},
   "outputs": [],
   "source": []
  }
 ],
 "metadata": {
  "gist_id": "f876f1612e470c1b28d25ffce8313dd9",
  "kernelspec": {
   "display_name": "Python 3 (ipykernel)",
   "language": "python",
   "name": "python3"
  },
  "language_info": {
   "codemirror_mode": {
    "name": "ipython",
    "version": 3
   },
   "file_extension": ".py",
   "mimetype": "text/x-python",
   "name": "python",
   "nbconvert_exporter": "python",
   "pygments_lexer": "ipython3",
   "version": "3.9.12"
  }
 },
 "nbformat": 4,
 "nbformat_minor": 2
}
