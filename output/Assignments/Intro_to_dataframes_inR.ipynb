{
 "cells": [
  {
   "cell_type": "markdown",
   "metadata": {},
   "source": [
    "## Intro to Dataframes\n",
    "\n",
    "**Dataframes in R provide a sophisticated data structure for organization and analysis including with time series operations**.\n",
    "\n",
    "Check out: \n",
    "https://www.youtube.com/watch?v=edifwfMEL_I\n",
    "\n"
   ]
  },
  {
   "cell_type": "markdown",
   "metadata": {},
   "source": [
    "<img src=\"https://bloose.github.io/data_prototyping_scientific_computing/images/df_blocks.png\">\n",
    "(c)dataquest.io\n",
    "\n",
    "The  DataFrame allows us to load a complicated file into Python and perform multiple data manipulations efficiently, and without having to recast the data."
   ]
  },
  {
   "cell_type": "code",
   "execution_count": null,
   "metadata": {},
   "outputs": [],
   "source": [
    "library(readxl) # Read in Excel files\n",
    "library(tidyverse)\n",
    "library(lubridate) # Create and manipulate date objects and time objects.\n",
    "library(xts) # adds ability to merge data frames on date.\n",
    "library(dplyr)\n",
    "library(zoo) # time series features for data frames.\n",
    "library(patchwork) # "
   ]
  },
  {
   "cell_type": "code",
   "execution_count": null,
   "metadata": {},
   "outputs": [],
   "source": [
    "# Read the Excel file into an R data frame\n",
    "freight <- read_excel(\"ScienceInventory_Ioffe.xlsx\")"
   ]
  },
  {
   "cell_type": "code",
   "execution_count": null,
   "metadata": {},
   "outputs": [],
   "source": [
    "head(freight, n = 10)  # Displays the first 10 rows"
   ]
  },
  {
   "cell_type": "code",
   "execution_count": null,
   "metadata": {},
   "outputs": [],
   "source": [
    "tail(freight, n = 10)  # Displays the last 10 rows"
   ]
  },
  {
   "cell_type": "code",
   "execution_count": null,
   "metadata": {},
   "outputs": [],
   "source": [
    "# Summary gives some insight into the data type of each column.  Also note it is shown in the header when you \n",
    "# type tail or head \n",
    "summary(freight)"
   ]
  },
  {
   "cell_type": "code",
   "execution_count": null,
   "metadata": {},
   "outputs": [],
   "source": [
    "as.matrix(freight) # You can extract a generic array "
   ]
  },
  {
   "cell_type": "code",
   "execution_count": null,
   "metadata": {},
   "outputs": [],
   "source": [
    "# Read in a text file that is delimited by whitespace.  '\\s+' allows multiple whitespace characters to exist \n",
    "# between each entry.\n",
    "\n",
    "# If file has a header, you need to tell read_csv() how many rows to skip, or it will misinterpret the shape of the\n",
    "# dataframe.\n",
    "\n",
    "ts = read.csv('20151028 blank test.asc',sep='\\t',skip=7)\n",
    "head(ts,n=10)"
   ]
  },
  {
   "cell_type": "code",
   "execution_count": null,
   "metadata": {},
   "outputs": [],
   "source": [
    "# This is timeseries data, so we should utilize a datetime data type as the row index.   \n",
    "# First, we have to create datetime. \n",
    "\n",
    "fname = 'timeseries2.txt'\n",
    "# Read in the data and specify all columns as character arrays.  Otherwise we lose leading zeros in the time column.\n",
    "ts = read.csv(fname,sep=',',skip=1,header=FALSE,colClasses=\"character\")\n",
    "# Add the strings together, convert them to a datetime and save the result in column 3.\n",
    "head(ts,n=10)\n",
    "\n",
    "# specifying the format\n",
    "format <- \"%Y%m%d %H%M\"\n",
    "\n",
    "# combining date and time into single object and put it into a new column in the data frame.\n",
    "ts$datetime = as.POSIXct(paste(ts$V5, ts$V6), format=format)"
   ]
  },
  {
   "cell_type": "markdown",
   "metadata": {},
   "source": [
    "## Trim bad or unwanted data"
   ]
  },
  {
   "cell_type": "code",
   "execution_count": null,
   "metadata": {},
   "outputs": [],
   "source": [
    "# Use boolean arrays to shorten a dataframe before a time interval.\n",
    "\n",
    "# Create a begin and end datetime object.\n",
    "fin <- as.POSIXct('2020-01-03 23:55:00',format='%Y-%m-%d %H:%M:%S')\n",
    "beg <- as.POSIXct('2020-01-01 10:55:00',format='%Y-%m-%d %H:%M:%S')\n",
    "#beg <- as.POSIXct('2024-10-22 00:00:00',format='%Y-%m-%d %H:%M:%S')\n",
    "\n",
    "# Compare the datetime data in ts and get rid of all the data outside of the limits set by beg and fin.\n",
    "f_ts <- ts %>% filter(ts$datetime >= beg & ts$datetime <= fin)\n"
   ]
  },
  {
   "cell_type": "markdown",
   "metadata": {},
   "source": [
    "## Fill in missing data."
   ]
  },
  {
   "cell_type": "code",
   "execution_count": null,
   "metadata": {},
   "outputs": [],
   "source": [
    "# Use na.locf() which stands for \"last observation carried forward\" to fill in the missing data.\n",
    "\n",
    "# NOTE xts() can coerce your data into characters if there are non-numeric values in the series.\n",
    "xts_data <- xts(ts, order.by = ts$datetime)\n",
    "\n",
    "hr_data <- na.locf(xts_data)"
   ]
  },
  {
   "cell_type": "markdown",
   "metadata": {},
   "source": [
    "## Resample the dataset "
   ]
  },
  {
   "cell_type": "code",
   "execution_count": null,
   "metadata": {},
   "outputs": [],
   "source": [
    "# apply.daily, apply.monthly, apply.weekly, apply.quarterly\n",
    "hr_day <- apply.daily(hr_data,last)\n",
    "head(hr_day,n=10)"
   ]
  },
  {
   "cell_type": "code",
   "execution_count": null,
   "metadata": {},
   "outputs": [],
   "source": []
  }
 ],
 "metadata": {
  "kernelspec": {
   "display_name": "R",
   "language": "R",
   "name": "ir"
  },
  "language_info": {
   "codemirror_mode": "r",
   "file_extension": ".r",
   "mimetype": "text/x-r-source",
   "name": "R",
   "pygments_lexer": "r",
   "version": "4.1.3"
  }
 },
 "nbformat": 4,
 "nbformat_minor": 4
}
