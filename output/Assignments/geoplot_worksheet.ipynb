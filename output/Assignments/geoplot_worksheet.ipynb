{
 "cells": [
  {
   "cell_type": "markdown",
   "metadata": {},
   "source": [
    "### Make a geographic map in Cartopy. Add locations or 'stations' as x/y pairs.\n",
    "\n",
    "More tutorial info: https://scitools.org.uk/cartopy/docs/latest/\n",
    "\n",
    "\n",
    "**INSTRUCTIONS:  You will need to complete the code below **\n",
    "\n",
    "> Note: Cartopy has to be installed separately.  \n",
    "> At the command line, this should work as >> conda install -c conda-forge cartopy\n",
    "\n",
    "> If the conda install takes too long, then try installing via the pip package manager.\n",
    "\n",
    "`\n",
    "$ pip --version  #this should return some version info.\n",
    "$ pip install cartopy # This should download and install Cartopy - hopefully version 0.22.\n",
    "`\n",
    "\n",
    "> At the end of this exercise, you will know how to add data points (x/y pairs) to a map.  This is a way to graph the position of GPS points collected using your smartphone or other GPS device. The module Cartopy extends the basic capabilities of Matplotlib for making geographic maps.  It is easy to use and builds maps rapidly with a few short commands.  More complicated tasks are also possible, including adding topography, bathymetry or contouring other info on top of a map.  This can be image data, NASA satellite data, earthquake data - the possibilities are many.\n"
   ]
  },
  {
   "cell_type": "code",
   "execution_count": null,
   "metadata": {},
   "outputs": [],
   "source": [
    "# Import numpy and pyplot as well as cartopy.  \n",
    "%matplotlib inline\n",
    "import numpy as np\n",
    "import matplotlib.pyplot as plt\n",
    "\n",
    "import cartopy\n",
    "import cartopy.crs as ccrs\n"
   ]
  },
  {
   "cell_type": "code",
   "execution_count": null,
   "metadata": {},
   "outputs": [],
   "source": [
    "# Create a figure object and specify its size\n",
    "# plt.figure(figsize=(8,8))\n",
    "\n",
    "# Add a plot axis using the axis command.  Here, Matplotlib is told this will be a map axis with the projection= command.\n",
    "# ax = plt.axes(projection=ccrs.Robinson())\n",
    "\n",
    "# Draw the outline of the coastlines.\n",
    "# ax.coastlines()  #Note "
   ]
  },
  {
   "cell_type": "code",
   "execution_count": null,
   "metadata": {},
   "outputs": [],
   "source": [
    "# Let's visualize a few of the many projections that cartopy permits\n",
    "# Uncomment the lines below to generate the figure.\n",
    "\n",
    "\n",
    "### NOTE:  You can uncomment/comment a block of code by highlighting it and typing CTRL + /, that's \"Control Slash\".\n",
    "# projections = [ccrs.PlateCarree(),\n",
    "#                ccrs.Robinson(),\n",
    "#                ccrs.Mercator(),\n",
    "#                ccrs.Orthographic(),\n",
    "#                ccrs.InterruptedGoodeHomolosine(),\n",
    "#                ccrs.Mollweide()\n",
    "#               ]\n",
    "\n",
    "# i = 1\n",
    "# plt.figure(figsize=(10,5))\n",
    "# for proj in projections:\n",
    "#     #plt.figure()\n",
    "#     geoax = plt.subplot(3,3,i,projection=proj)\n",
    "#     geoax.stock_img()\n",
    "#     geoax.coastlines()\n",
    "#     geoax.set_title(f'{type(proj)}')\n",
    "#     i+=1"
   ]
  },
  {
   "cell_type": "code",
   "execution_count": null,
   "metadata": {},
   "outputs": [],
   "source": [
    "# We set the bounds of the map using the set_extent() input.\n",
    "\n",
    "#extent = [-150, -50, 20, 50]\n",
    "\n",
    "#ax = plt.axes(projection=ccrs.Mollweide())\n",
    "#ax.set_extent(extent)\n",
    "#ax.coastlines(resolution='50m')\n",
    "#ax.stock_img()\n",
    "#plt.show()"
   ]
  },
  {
   "cell_type": "code",
   "execution_count": null,
   "metadata": {},
   "outputs": [],
   "source": [
    "# Using the feature library, we can add geographic features, such as land masks, coastline boundaries, and rivers.\n",
    "\n",
    "\n",
    "# import cartopy.feature as cfeature\n",
    "\n",
    "# ax = plt.axes(projection=ccrs.Mollweide())\n",
    "# ax.set_extent(extent)\n",
    "# ax.coastlines(resolution='50m')\n",
    "# ax.stock_img()\n",
    "\n",
    "# ax.add_feature(cfeature.LAND,zorder=1)\n",
    "# ax.add_feature(cfeature.COASTLINE,zorder=1)\n",
    "# ax.add_feature(cfeature.RIVERS,zorder=1)\n",
    "# ax.gridlines()\n",
    "\n",
    "# plt.show()\n"
   ]
  },
  {
   "cell_type": "markdown",
   "metadata": {},
   "source": [
    "## Complete the rest of the assignment on your own or with your team"
   ]
  },
  {
   "cell_type": "code",
   "execution_count": null,
   "metadata": {},
   "outputs": [],
   "source": [
    "# Load the data file\n",
    "# Go to https://earthquake.usgs.gov/earthquakes/search/\n",
    "# Download all earthquakes in the past 30 days. Choose .csv under Other Options.\n",
    "# Move that file into the directory where you are working and load it using the loadtxt command.\n",
    "stations = np.loadtxt('query.csv',delimiter=',',skiprows=1,usecols=(1,2))"
   ]
  },
  {
   "cell_type": "code",
   "execution_count": null,
   "metadata": {},
   "outputs": [],
   "source": [
    "# First just use a standard x-y plot to examine the stations. \n",
    "# Graph using symbols, e.g. '.' dots or 'o' circles or 's' squares.  \n",
    "# Label the axes Lat and Lon - make sure you know which is which.  Remember Lat is restricted between -90 and 90.\n",
    "# plt.figure()....\n",
    "\n",
    "\n"
   ]
  },
  {
   "cell_type": "markdown",
   "metadata": {},
   "source": [
    "The map you just made using Matplotlib gives you a vague idea of the distribution of earthquakes, it even roughly draws out the continental shapes that may be familiar to you, but it **does not succeed in conveying the full geographic information we need**.  Therefore, we need to make a map using geographic projections.   This is where cartopy becomes useful."
   ]
  },
  {
   "cell_type": "code",
   "execution_count": null,
   "metadata": {},
   "outputs": [],
   "source": [
    "# Define a bounding box in polar coordinates (Lat, Lon) that tells cartopy how to set the \n",
    "# map limits.  This is so the map scale will match the scale of the points being plotted. Ie, you don't want a map\n",
    "# of the world, if all the points are in Narragansett Bay.\n",
    "# Your box should have four sides - North, East, West, South.  The north and south limits are defined by the range of \n",
    "# your latitudes.  Similarly, the east and west limits are defined by the range of your longitudes.\n",
    "# lat = stations[:,0].copy()\n",
    "\n",
    "\n",
    "# Determine the limits of your bounding box.\n",
    "# Go in order of BBox = [E,W,S,N] or [Left, Right, Bottom, Top]\n",
    "# NOTE:  Try to use coding to introduce flexibility to the Bounding Box limits, rather than hardwire them.  \n",
    "# This is important, because your data may change.  Here, it is helpful to use the lat/lon data to establish the \n",
    "# map limits.\n"
   ]
  },
  {
   "cell_type": "code",
   "execution_count": null,
   "metadata": {},
   "outputs": [],
   "source": []
  },
  {
   "cell_type": "markdown",
   "metadata": {},
   "source": [
    "**Now that you have your bounding box, you are ready to create a Map object.**\n",
    "\n",
    "You will need to feed Cartopy the following details:\n",
    "    + The sides of the bounding box, using the set_extent() command\n",
    "    + The projection to use (I recomend using PlateCarree())\n",
    "    + The resolution for drawing the coastlines"
   ]
  },
  {
   "cell_type": "markdown",
   "metadata": {},
   "source": [
    "**Coordinate transformation**\n",
    "\n",
    "NOTE:  There are may be at least 2 coordinate systems used when making maps with geographic data.  The first (1) is the geographic coordinates, which can be Lat/Lon or UTM or spherical (Phi,Theta,r). Usually they are Lat/Lon in degrees.  The second (2) is the coordinate system on map axis, which demarcates the space on the figure. The transformation from geographic to figure coordinates happens inside the Matplotlib functions, such as e.g. plot(). \n",
    "\n",
    "It is necessary to specify the coordinate system for use in the coordinate transformation.  That is >> transform=ccrs.Geodetic() or similar."
   ]
  },
  {
   "cell_type": "code",
   "execution_count": null,
   "metadata": {},
   "outputs": [],
   "source": [
    "# Define the bounding box extent and use that with the results from the cells above to make \n",
    "# a plot of all earthquakes in the past 30 days.\n",
    "\n",
    "# BBox = [x0,x1,y0,y1], so [Lon_e, Lon_w,Lat_s,Lat_n]\n",
    "\n",
    "\n",
    "\n",
    "# Create a figure object\n",
    "fig = plt.figure(figsize=(15,10))\n",
    "\n",
    "\n",
    "# Add axes and define a projection\n",
    "\n",
    "\n",
    "\n",
    "# Add some features to make it pretty\n",
    "\n",
    "\n",
    "# plot the earthquake locations on the map.  Specify the correct coordinate transform.\n",
    "\n",
    "\n",
    "\n",
    "plt.show()\n"
   ]
  },
  {
   "cell_type": "markdown",
   "metadata": {},
   "source": [
    "### Now do the same thing for All Earthquakes in the past 6 hours.\n",
    "\n",
    "> Note:  Your bounding box should be a lot smaller (focused in on the fewer points of the past hour)."
   ]
  },
  {
   "cell_type": "code",
   "execution_count": null,
   "metadata": {},
   "outputs": [],
   "source": [
    "stations = np.loadtxt('all_hour.csv',delimiter=',',skiprows=1,usecols=(1,2))\n",
    "\n",
    "# Define a bounding box in polar coordinates (Lat, Lon) \n",
    "lat = stations[:,0].copy()\n",
    "\n",
    "\n",
    "# Go in order of BBox = [E,W,S,N] or [Left, Right, Bottom, Top]\n",
    "\n",
    "\n",
    "\n",
    "# Add axes and define a projection\n",
    "\n",
    "\n",
    "\n",
    "# Add some features to make it pretty\n",
    "\n",
    "\n",
    "# plot the earthquake locations on the map.  Specify the correct coordinate transform.\n",
    "\n",
    "\n",
    "#  Change the fill color of the continents\n",
    "\n",
    "#  Add the location of a nearby city and mark it with a symbol and label.\n",
    "\n",
    "# Note that zorder controls the layers. If you want something on top to show, it needs a higher zorder.\n",
    "\n",
    "\n"
   ]
  },
  {
   "cell_type": "markdown",
   "metadata": {},
   "source": [
    "#### CSC 593:  Download a  satellite image of a recent natural disaster (e.g. wildfire, tropical storm) and overlay that on a map coordinate system.  (Extra credit for OCG 404).\n",
    "\n",
    "> Check out this example https://scitools.org.uk/cartopy/docs/latest/matplotlib/advanced_plotting.html#images"
   ]
  },
  {
   "cell_type": "markdown",
   "metadata": {},
   "source": [
    "### What to turn in:\n",
    "\n",
    "Upload this .ipynb with the completed code for generating map limits and any other supporting docs, like the .csv files you downloaded.   Add comments to your code as you see fit."
   ]
  },
  {
   "cell_type": "code",
   "execution_count": null,
   "metadata": {},
   "outputs": [],
   "source": []
  }
 ],
 "metadata": {
  "anaconda-cloud": {},
  "kernelspec": {
   "display_name": "Python 3 (ipykernel)",
   "language": "python",
   "name": "python3"
  },
  "language_info": {
   "codemirror_mode": {
    "name": "ipython",
    "version": 3
   },
   "file_extension": ".py",
   "mimetype": "text/x-python",
   "name": "python",
   "nbconvert_exporter": "python",
   "pygments_lexer": "ipython3",
   "version": "3.9.12"
  }
 },
 "nbformat": 4,
 "nbformat_minor": 1
}
