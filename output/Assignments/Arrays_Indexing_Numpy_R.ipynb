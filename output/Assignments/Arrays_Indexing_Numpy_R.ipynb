{
 "cells": [
  {
   "cell_type": "markdown",
   "metadata": {},
   "source": [
    "## The Enthought PDF slides give further detail on the different types of indexing that exist.\n",
    "\n",
    "[Enthought slides](https://github.com/enthought/Numpy-Tutorial-SciPyConf-2019/archive/master.zip)"
   ]
  },
  {
   "cell_type": "code",
   "execution_count": null,
   "metadata": {},
   "outputs": [],
   "source": [
    "# PYTHON\n",
    "# Import modules\n",
    "import numpy as np\n",
    "import matplotlib.pyplot as plt"
   ]
  },
  {
   "cell_type": "code",
   "execution_count": 2,
   "metadata": {},
   "outputs": [],
   "source": [
    "# R. We only need base R for this, because the matrix library is part of base R.\n",
    "# Import modules\n"
   ]
  },
  {
   "cell_type": "markdown",
   "metadata": {},
   "source": [
    "## Creating 1D arrays with array() arange() and linspace()"
   ]
  },
  {
   "cell_type": "code",
   "execution_count": null,
   "metadata": {},
   "outputs": [],
   "source": [
    "# Python\n",
    "# Use array() to create arrays of any dimension if you already know or have the values to put \n",
    "# into the array.\n",
    "x = np.array([5,4,3,2,1])\n",
    "\n",
    "# Linspace inputs are start, stop, # of elements\n",
    "xls = np.linspace(0,100,100)\n",
    "\n",
    "# arange inputs are start,stop,interval\n",
    "xar = np.arange(0,100,0.9999)\n",
    "\n",
    "#print(xar.shape)\n",
    "#xls.shape\n",
    "\n",
    "# This term tells you to pull the last value of the array out\n",
    "#print( xar[-1], xls[-1])"
   ]
  },
  {
   "cell_type": "code",
   "execution_count": null,
   "metadata": {},
   "outputs": [],
   "source": [
    "# R\n",
    "# Use array() to create arrays of any dimension if you already know or have the values to put \n",
    "# into the array.\n",
    "x <- c(5, 4, 3, 2, 1)\n",
    "\n",
    "# seq inputs are from, to, and length.out\n",
    "xls <- seq(0,100,100)\n",
    "xls <- seq(from = 0, to = 100, length.out = 100)\n",
    "\n",
    "\n",
    "# arange inputs are start,stop,interval\n",
    "xar <- seq(from = 0, to = 100, by = 0.9999)\n",
    "\n",
    "#print(xar.shape)\n",
    "dim(xar)\n",
    "\n",
    "# This term tells you to pull the last value of the array out\n",
    "#print( xar[-1], xls[-1])\n"
   ]
  },
  {
   "cell_type": "markdown",
   "metadata": {},
   "source": [
    "Numpy can store numeric information (usually float() or int() data types) in 2, 3 or even N- dimensional arrays. Note that the indexing of 2D arrays goes like [row #, col #], e.g. a[3,2] gives the element at row=4 and column=3.\n",
    "\n",
    "<img src=\"https://bloose.github.io/data_prototyping_scientific_computing/images/Enthought_ND.png\" width=\"500\"/>"
   ]
  },
  {
   "cell_type": "markdown",
   "metadata": {},
   "source": [
    "## Creating 2D arrays with array(), zeros(), ones()"
   ]
  },
  {
   "cell_type": "code",
   "execution_count": null,
   "metadata": {},
   "outputs": [],
   "source": [
    "# PYTHON\n",
    "# Assembling a 2D array by concatenating 1D arrays.\n",
    "x = np.array([[1,2,3],[3,4,5]])\n",
    "print(x.shape)\n",
    "\n",
    "# Currently this is a 1D array\n",
    "y = np.array([1,2,3])\n",
    "\n",
    "# Sometimes you need to set an array up to be 2D, so you can add data to it later.\n",
    "# This should be a 2D array\n",
    "y2 = np.array([1,2,3],ndmin = 2)\n",
    "\n",
    "#print(\"Y has\",y.ndim,\"dimensions. Y2 has\",y2.ndim,\"dimensions\")"
   ]
  },
  {
   "cell_type": "code",
   "execution_count": null,
   "metadata": {},
   "outputs": [],
   "source": [
    "# R\n",
    "# Assembling a 2D array by concatenating 1D arrays.\n",
    "x <- matrix(c(1, 2, 3, 3, 4, 5), nrow = 2, byrow = TRUE)\n",
    "print(dim(x))\n",
    "\n",
    "# Currently this is a 1D array\n",
    "y <- c(1, 2, 3)\n",
    "\n",
    "# Sometimes you need to set an array up to be 2D, so you can add data to it later.\n",
    "# This should be a 2D array\n",
    "y2 <- matrix(c(1, 2, 3), nrow = 1)\n",
    "\n",
    "# Print the dimensions\n",
    "print(paste(\"Y has\", length(dim(y)), \"dimensions. Y2 has\", length(dim(y2)), \"dimensions\"))\n"
   ]
  },
  {
   "cell_type": "code",
   "execution_count": null,
   "metadata": {},
   "outputs": [],
   "source": [
    "y*y2"
   ]
  },
  {
   "cell_type": "markdown",
   "metadata": {},
   "source": [
    "### Arithmetic on Arrays (element-wise or linear algebra)\n",
    "\n",
    "By default, Numpy will try to carry out element-wise arithmetic (+,-,*,/) on arrays of like dimension. Where possible, Numpy will also use array broadcasting to make the operation work.\n",
    "\n",
    "<img src=\"https://bloose.github.io/data_prototyping_scientific_computing/images/array_rules.png\" width=\"500\"/>"
   ]
  },
  {
   "cell_type": "code",
   "execution_count": null,
   "metadata": {},
   "outputs": [],
   "source": [
    "# PYHON AND R\n",
    "y + y2  #This is permitted.  It takes on the higher dimensions.\n",
    "y * y2  #Likewise permitted.  It takes on the higher dimensions."
   ]
  },
  {
   "cell_type": "code",
   "execution_count": null,
   "metadata": {},
   "outputs": [],
   "source": [
    "# PYTHON\n",
    "# Examples of array manipulations.\n",
    "\n",
    "R = np.arange(0,100,12)  # Create a vector of 9 elements\n",
    "\n",
    "# Element-wise operation.  P is the same size as R.\n",
    "P = R*R\n",
    "\n",
    "# Impliclit element-wise operation.\n",
    "\n",
    "Q = P.copy() - 3\n",
    "Q = P*R\n",
    "\n",
    "# Make R into a 3 x 3 matrix (2D array), and store it in S.\n",
    "S = R.reshape(3,3)\n",
    "\n",
    "# An array multiplication with broadcast operation.  \n",
    "T = S*np.array([3,2,1])\n",
    "#print(T)"
   ]
  },
  {
   "cell_type": "code",
   "execution_count": null,
   "metadata": {},
   "outputs": [],
   "source": [
    "# R\n",
    "# Examples of array manipulations.\n",
    "R <- seq(from = 0, to = 100, by = 12)  # Create a vector of 9 elements\n",
    "\n",
    "# Element-wise operation.  P is the same size as R.\n",
    "P <- R * R\n",
    "\n",
    "# Implicit element-wise operation.\n",
    "Q <- P - 3\n",
    "Q <- P * R\n",
    "\n",
    "# Make R into a 3 x 3 matrix (2D array), and store it in S.\n",
    "S <- matrix(R, nrow = 3, byrow = TRUE)\n",
    "\n",
    "# An array multiplication with broadcast operation. \n",
    "T <- S * c(3, 2, 1)\n",
    "print(T)"
   ]
  },
  {
   "cell_type": "code",
   "execution_count": null,
   "metadata": {},
   "outputs": [],
   "source": [
    "# PYTHON\n",
    "# (Object-oriented notation, Functional notation)\n",
    "print(T.max(axis=0),np.max(T,axis=0) )  #Take the max along the row axis"
   ]
  },
  {
   "cell_type": "code",
   "execution_count": null,
   "metadata": {},
   "outputs": [],
   "source": [
    "# R\n",
    "# Object-oriented notation\n",
    "print(apply(T, 1, max), max(T, along = 1))  # Take the max along the row axis"
   ]
  },
  {
   "cell_type": "code",
   "execution_count": null,
   "metadata": {},
   "outputs": [],
   "source": [
    "help(apply)"
   ]
  },
  {
   "cell_type": "markdown",
   "metadata": {},
   "source": [
    "### Combining arrays for data wrangling. "
   ]
  },
  {
   "cell_type": "code",
   "execution_count": null,
   "metadata": {},
   "outputs": [],
   "source": [
    "#In general, when concatenating (merging or pasting together) arrays they must have the same shape and same dimensions \n",
    "\n",
    "#help(np.concatenate)\n",
    "np.concatenate((y,y2))  # Not permitted.\n",
    "\n",
    "np.concatenate((y[np.newaxis,:],y2))   #Expand the dimensions of y before concatenating.\n",
    "\n",
    "# Stack vertically.  This has same effect as concatenate\n",
    "np.vstack((y,y2))   # Permitted, because arrays have the same column dimensions\n",
    "\n",
    "\n",
    "# Stack horizontally.  \n",
    "np.hstack((y[np.newaxis,:],y2))   # Not Permitted, because y and y2 have the different row dimensions\n",
    "\n",
    "#np.hstack((y[np.newaxis,:],y2))"
   ]
  },
  {
   "cell_type": "code",
   "execution_count": null,
   "metadata": {},
   "outputs": [],
   "source": [
    "# R\n",
    "# In general, when concatenating (merging or pasting together) arrays they must have the same shape and same dimensions \n",
    "## GEMINI NOTES:\n",
    "# In R, the equivalents for concatenating arrays along different axes are:\n",
    "#\n",
    "#    c(): Concatenates elements along the first dimension (rows).\n",
    "#    rbind(): Concatenates matrices or data frames row-wise.\n",
    "#    cbind(): Concatenates matrices or data frames column-wise.\n",
    "#\n",
    "# The rbind() function is used to expand the dimensions of a vector before concatenating it with a matrix, \n",
    "# similar to the np.newaxis operation in Python.\n",
    "\n",
    "# help(np.concatenate)\n",
    "c(y, y2)  # Not permitted.\n",
    "\n",
    "rbind(y, y2)  # Expand the dimensions of y before concatenating.\n",
    "\n",
    "# Stack vertically.  This has same effect as concatenate\n",
    "rbind(y, y2)  # Permitted, because arrays have the same column dimensions\n",
    "\n",
    "# Stack horizontally. \n",
    "cbind(y, y2)  # Not Permitted, because y and y2 have the different row dimensions"
   ]
  },
  {
   "cell_type": "markdown",
   "metadata": {},
   "source": [
    "## Indexing and boolean operations for 2D arrays"
   ]
  },
  {
   "cell_type": "code",
   "execution_count": null,
   "metadata": {},
   "outputs": [],
   "source": [
    "# PYTHON\n",
    "\n",
    "z = np.ones((100,50)) # Make a 2D array of ones that is 100 x 50.\n",
    "\n",
    "# Index individual row or column in 2D array\n",
    "\n",
    "# Save a single row of z to a new variable\n",
    "zr = z[9,:]\n",
    "\n",
    "# Save a single column of z to a new variable\n",
    "zc = z[:,9]\n",
    "\n",
    "print(zc.shape,zr.shape, z.shape)\n"
   ]
  },
  {
   "cell_type": "code",
   "execution_count": null,
   "metadata": {},
   "outputs": [],
   "source": [
    "# R\n",
    "\n",
    "z <- matrix(1, nrow = 100, ncol = 50) # Make a 2D array of ones that is 100 x 50.\n",
    "\n",
    "# Index individual row or column in 2D array\n",
    "\n",
    "# Save a single row of z to a new variable\n",
    "zr <- z[9, ]\n",
    "\n",
    "# Save a single column of z to a new variable\n",
    "zc <- z[, 9]\n",
    "\n",
    "print(dim(zc), dim(zr), dim(z))\n"
   ]
  },
  {
   "cell_type": "code",
   "execution_count": null,
   "metadata": {},
   "outputs": [],
   "source": [
    "#print(z)"
   ]
  },
  {
   "cell_type": "code",
   "execution_count": null,
   "metadata": {},
   "outputs": [],
   "source": [
    "# Make a 2D column vector with 10 elements in it. \n",
    "a = 3.2*np.ones([10,1])\n",
    "\n",
    "# Copy that column vector 10 times to make a square array.\n",
    "b = np.tile(a,10)\n",
    "\n",
    "\n",
    "# Make a vector of 10 elements and then place them in the diagonal of a 10 x 10 square array.\n",
    "c = np.ones(10)*100\n",
    "d = np.diag(c)\n",
    "\n",
    "# Use the Matplotlib spy() function to visualize the array b+d\n",
    "plt.spy(b+d,precision=10,markersize=10)\n",
    "plt.show()\n",
    "\n",
    "#print(b+d)\n",
    "\n",
    "\n",
    "#np.random.randn(10)"
   ]
  },
  {
   "cell_type": "code",
   "execution_count": null,
   "metadata": {},
   "outputs": [],
   "source": [
    "# Make a 2D column vector with 10 elements in it.\n",
    "a <- 3.2 * matrix(1, nrow = 10, ncol = 1)\n",
    "\n",
    "# Make a 10 x 10 array.\n",
    "b <- 3.2 * matrix(3.2, nrow = 10, ncol = 10)\n",
    "\n",
    "\n",
    "# Make a vector of 10 elements and then place them in the diagonal of a 10 x 10 square array.\n",
    "c <- 100 * rep(1, 10)\n",
    "d <- diag(c)\n",
    "\n",
    "# Use equivalent R functions to visualize the array b + d\n",
    "library(ggplot2)  # Load ggplot2 for visualization\n",
    "\n",
    "# Create a data frame for ggplot\n",
    "data <- data.frame(x = seq(1, 10), y = seq(1, 10), z = b + d)\n",
    "\n",
    "# Create the plot (I was not able to find the equivalent solution in R).\n",
    "# ggplot(data, aes(x = x, y = y, fill = z)) +\n",
    "#  geom_raster() +\n",
    "#  scale_fill_gradient(name = \"Values\", low = min(b + d), high = max(b + d)) +\n",
    "#  coord_fixed() +\n",
    "#  labs(title = \"b + d\", x = \"X-axis\", y = \"Y-axis\") +\n",
    "#  theme_void()\n",
    "\n",
    "# No need for plt.show() in R, the plot is displayed automatically"
   ]
  },
  {
   "cell_type": "code",
   "execution_count": null,
   "metadata": {},
   "outputs": [],
   "source": [
    "#help(t)"
   ]
  },
  {
   "cell_type": "code",
   "execution_count": null,
   "metadata": {},
   "outputs": [],
   "source": [
    "# PYTHON AND R\n",
    "# Check out shape, ndim, dtype\n",
    "z = d+b\n",
    "\n",
    "#print(z.shape)\n",
    "\n",
    "#print(z.dtype)\n",
    "\n",
    "#print(z)"
   ]
  },
  {
   "cell_type": "code",
   "execution_count": null,
   "metadata": {},
   "outputs": [],
   "source": [
    "# PYTHON\n",
    "# Use boolean operators to change values.\n",
    "\n",
    "z2 = z.copy()\n",
    "\n",
    "# Find all the values equa1 to 1.\n",
    "id1 = (z2 == 1)\n",
    "\n",
    "# id1 now has a boolean record of which values are ==1.\n",
    "print(id1)"
   ]
  },
  {
   "cell_type": "code",
   "execution_count": null,
   "metadata": {},
   "outputs": [],
   "source": [
    "# R\n",
    "# Use boolean operators to change values.\n",
    "\n",
    "z2 = z\n",
    "\n",
    "# Find all the values equa1 to 1.\n",
    "id1 <- z2 == 1\n",
    "\n",
    "# id1 now has a boolean record of which values are ==1.\n",
    "print(id1)\n",
    "print(z2)"
   ]
  },
  {
   "cell_type": "code",
   "execution_count": null,
   "metadata": {},
   "outputs": [],
   "source": [
    "# PYTHON AND R\n",
    "# Let's change all the elements equal to 1.\n",
    "\n",
    "z2[id1] = 3.14159\n",
    "\n",
    "#z2[z2 == 3.14159] = np.nan\n",
    "\n",
    "print(z2)"
   ]
  },
  {
   "cell_type": "markdown",
   "metadata": {},
   "source": [
    "Let's try this exercise together.  How many ways can this be solved, algorithmically?\n",
    "\n",
    "<img src=\"https://bloose.github.io/data_prototyping_scientific_computing/images/Enthought_rem.png\" width=\"500\"/>\n",
    "\n",
    "\n",
    "Algorithm 1:\n",
    "1. Create a\n",
    "1. Divide all elements by 3. \n",
    "1. Look for values with a remainder of zero.\n",
    "1. Create boolean array to subindex.\n",
    "\n",
    "Algorithm 2:\n",
    "1. Create a\n",
    "1. Divide all elements in a by 3. \n",
    "1. Check to see which elements are equal to their integer counterparts.\n"
   ]
  },
  {
   "cell_type": "markdown",
   "metadata": {},
   "source": [
    "### Finish the notebook by solving the cells below with code."
   ]
  },
  {
   "cell_type": "code",
   "execution_count": null,
   "metadata": {},
   "outputs": [],
   "source": [
    "# Convert all the values of z2 that are > 99 into NaNs.\n"
   ]
  },
  {
   "cell_type": "code",
   "execution_count": null,
   "metadata": {},
   "outputs": [],
   "source": [
    "z2[z2 > 99] <- NA\n",
    "print(z2)"
   ]
  },
  {
   "cell_type": "code",
   "execution_count": null,
   "metadata": {},
   "outputs": [],
   "source": [
    "# Make a 2D numpy array named Arr of size 10 x 10 and fill it with random values that range between 0 and 99.  You can use numpy's random module\n",
    "\n",
    "Arr = np.random.randint(100,size =100)\n"
   ]
  },
  {
   "cell_type": "code",
   "execution_count": null,
   "metadata": {},
   "outputs": [],
   "source": [
    "# Use boolean indexing to replace all the values in Arr greater than 80 and less than 20 with NaNs.\n",
    "\n",
    "id80 = Arr>80;\n",
    "id20 = Arr<20;\n",
    "\n",
    "id20 or id80\n",
    "\n"
   ]
  },
  {
   "cell_type": "code",
   "execution_count": null,
   "metadata": {},
   "outputs": [],
   "source": [
    "# Use the append() or concatenate() commands in numpy to add more columns to Arr.\n",
    "\n",
    "True or False\n"
   ]
  },
  {
   "cell_type": "markdown",
   "metadata": {},
   "source": [
    "**Concept Review: More looping practice**"
   ]
  },
  {
   "cell_type": "code",
   "execution_count": null,
   "metadata": {},
   "outputs": [],
   "source": [
    "# We already saw that np.diag() can insert elements along the diagonal of a square array.\n",
    "# Use your understanding of for loops to carry out the same operation.\n",
    "# Create a 10 x 10 array of ones and then modify the center diagonal to be 101 instead of 1.\n",
    "# Hint: You will need two indices, e.g i and j to specify the row and column to modify.\n",
    "# Hint: You can use a boolean operator to decide which elements in the square array to modify.\n",
    "\n"
   ]
  }
 ],
 "metadata": {
  "kernelspec": {
   "display_name": "R",
   "language": "R",
   "name": "ir"
  },
  "language_info": {
   "codemirror_mode": "r",
   "file_extension": ".r",
   "mimetype": "text/x-r-source",
   "name": "R",
   "pygments_lexer": "r",
   "version": "4.1.3"
  }
 },
 "nbformat": 4,
 "nbformat_minor": 4
}
