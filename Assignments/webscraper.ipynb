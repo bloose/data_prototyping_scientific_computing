{
 "cells": [
  {
   "cell_type": "markdown",
   "metadata": {},
   "source": [
    "#### Simple web scraper\n",
    "***\n",
    "Note:  \n",
    ">*Check out http://datascience.ibm.com/blog/markdown-for-jupyter-notebooks-cheatsheet/* <br>\n",
    ">*Introduction to Jupyter: https://www.youtube.com/watch?v=Rc4JQWowG5I*\n"
   ]
  },
  {
   "cell_type": "code",
   "execution_count": null,
   "metadata": {},
   "outputs": [],
   "source": [
    "# Modules or libraries get imported here in Python, Julia, and R #\n",
    "import re\n",
    "import requests\n",
    "from bs4 import BeautifulSoup\n",
    "import time"
   ]
  },
  {
   "cell_type": "markdown",
   "metadata": {},
   "source": [
    "#### Load a webpage into memory and parse it using Beautiful Soup"
   ]
  },
  {
   "cell_type": "code",
   "execution_count": null,
   "metadata": {},
   "outputs": [],
   "source": [
    "# lyriclink = 'https://www.reddit.com/'\n",
    "lyriclink = 'https://www.cnn.com/'\n",
    "webpg = requests.get(lyriclink)\n",
    "\n",
    "soup = BeautifulSoup(webpg.content,\"html.parser\")"
   ]
  },
  {
   "cell_type": "code",
   "execution_count": null,
   "metadata": {},
   "outputs": [],
   "source": [
    "#soup.findAll(text=re.compile('Irma'))\n",
    "#print(webpg.content)"
   ]
  },
  {
   "cell_type": "code",
   "execution_count": null,
   "metadata": {},
   "outputs": [],
   "source": [
    "count=0\n",
    "keyword = 'AI'\n",
    "for lyrics in soup.findAll(string=re.compile(keyword)):\n",
    "    count+=1\n",
    "print(\"The Word \"+ keyword + \" showed up\",count,\"times!!\")"
   ]
  },
  {
   "cell_type": "markdown",
   "metadata": {},
   "source": [
    "__For homework, modify the variables ```lyriclink``` and the ```keyword``` to scrape a different website for a different word then upload the modified code to the In-Class Assignment for Week01 on Brightspace.__"
   ]
  },
  {
   "cell_type": "code",
   "execution_count": null,
   "metadata": {},
   "outputs": [],
   "source": [
    "print(soup.prettify())"
   ]
  },
  {
   "cell_type": "code",
   "execution_count": null,
   "metadata": {},
   "outputs": [],
   "source": []
  }
 ],
 "metadata": {
  "kernelspec": {
   "display_name": "Python 3 (ipykernel)",
   "language": "python",
   "name": "python3"
  },
  "language_info": {
   "codemirror_mode": {
    "name": "ipython",
    "version": 3
   },
   "file_extension": ".py",
   "mimetype": "text/x-python",
   "name": "python",
   "nbconvert_exporter": "python",
   "pygments_lexer": "ipython3",
   "version": "3.12.3"
  }
 },
 "nbformat": 4,
 "nbformat_minor": 4
}
