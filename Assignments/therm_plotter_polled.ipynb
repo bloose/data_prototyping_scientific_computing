{
 "cells": [
  {
   "cell_type": "markdown",
   "metadata": {},
   "source": [
    "### Reading and decoding Temperature Data from Arduino\n",
    "#### (This is Part 2 of the Measuring Temperature Lab ).\n",
    "\n",
    "** For this lab you will need pyserial.  This can be installed thru Anaconda the same way we did Basemap. \n",
    "Try either of the following options for installation. **\n",
    "\n",
    "1. \n",
    "```\n",
    ">>> conda install -c anaconda pyserial\n",
    "```\n",
    "1. Use Anaconda Navigator to install pyserial from the Enivronments tab.\n",
    "\n",
    "Check out https://pythonhosted.org/pyserial/pyserial.html  for more information on the Package.\n",
    "\n",
    "For parsing the incoming serial data you will want to use Python's string Methods:\n",
    "> http://www.thehelloworldprogram.com/python/python-string-methods/\n",
    "> https://docs.python.org/2/library/string.html\n",
    "\n",
    "Also check out the Regular Expressions (regex) modules. https://docs.python.org/2/library/re.html#  These are more sophisticated than what we require, but very powerful.\n"
   ]
  },
  {
   "cell_type": "markdown",
   "metadata": {},
   "source": [
    "### Some Cliff Notes on Pandas \n",
    "\n",
    "This exercise uses Pandas - a Python dataframe module, which is valuable for handling relational data.  Brice will provide a more thorough intro to Pandas next week, when we talk about time series and regression statistics.  For now, we will use Pandas to create a dataframe and save it to a .csv file.  Pandas dataframes use the dict() or dictionary data type.\n",
    "\n",
    "```\n",
    ">>> df = pd.DataFrame(columns=('time','Resistence','Temp')) # This command declares a new Pandas dataframe with three columns: time, resistence, and Temp.\n",
    "\n",
    ">>> df = df.append({'time':t,'Resistence': R,'Temp':T},ignore_index=True)  # This command appends new values to each of the columns.\n",
    "\n",
    "```\n"
   ]
  },
  {
   "cell_type": "code",
   "execution_count": 26,
   "metadata": {},
   "outputs": [],
   "source": [
    "# Load the libraries\n",
    "from matplotlib import pyplot as plt\n",
    "import serial as ps\n",
    "import datetime as dt\n",
    "import time as time\n",
    "import pandas as pd"
   ]
  },
  {
   "cell_type": "markdown",
   "metadata": {},
   "source": [
    "**Open the serial connection using e.g. S = ps.Serial() command.**\n",
    "\n",
    "You will need to find the exact port name on your computer. Hint: This can be found in the Arduino Tools menu under \"port\"."
   ]
  },
  {
   "cell_type": "code",
   "execution_count": 34,
   "metadata": {},
   "outputs": [],
   "source": [
    "# Assign the serial object that you will write to and read from\n"
   ]
  },
  {
   "cell_type": "markdown",
   "metadata": {},
   "source": [
    "**Initialize the two variables you will be using to store xdata and ydata (resistance).**"
   ]
  },
  {
   "cell_type": "code",
   "execution_count": 47,
   "metadata": {},
   "outputs": [],
   "source": [
    "# Initialize Pandas dataframe to capture time, resistence, and Temp, as shown in datetime notes.\n"
   ]
  },
  {
   "cell_type": "markdown",
   "metadata": {},
   "source": [
    "**Set the coefficients for the Steinhart-Hart equation**"
   ]
  },
  {
   "cell_type": "code",
   "execution_count": 48,
   "metadata": {},
   "outputs": [],
   "source": [
    "##1/T = A + B*Ln(R) + C(Ln(R))^3\n",
    "A = 0.001125308852122\n",
    "B = 0.000234711863267\n",
    "C = 0.000000085663516"
   ]
  },
  {
   "cell_type": "code",
   "execution_count": 1,
   "metadata": {},
   "outputs": [],
   "source": [
    "# Set a while loop or for loop.  You can make it go indefinitely until you kill the loop with Kernel -> Interrupt.\n",
    "#lp = 0\n",
    "#stop = 'go'\n",
    "\n",
    "# Use a for or while loop.  You can make it go indefinitely until you kill the loop with Kernel -> Interrupt.\n",
    "#while stop == 'go':\n",
    "\n",
    "\n",
    "    # Use the serial .write(b'  ') function to issue your measurement request to the Arduino.\n",
    "\n",
    "    \n",
    "    # Read a line from the Serial data object stored in 'S'. Note, readline() line returns a byte array. \n",
    "    # You can convert to a string using decode('utf-8').  You may also want to investigate the .strip() function \n",
    "    # that will remove unwanted characters. \n",
    "\n",
    "    # Decode and strip to create a string.\n",
    "    #a = a.decode('utf-8').strip()\n",
    "\n",
    "    \n",
    "    # Parse the string to make sure you have found the right line.  Remember you can index strings the way you index\n",
    "    # other objects.  \n",
    "    # Example:   >>> mystr = \"This string is short\"   \n",
    "    #            >>> print mystr[12:13]   (this produces 'is')\n",
    "    #b = a.find(\"This is my resistence line\")\n",
    "    \n",
    "    # Use an 'if statement' if necessary and append the new resistance value to the array 'R' that was initialized \n",
    "    # above.\n",
    "    # Compute Temperature using A, B, C coefficients and the resistance value.\n",
    "    # Convert Temp in deg Kelvin to deg C.\n",
    "    # Record the date and time using the datetime package.  \n",
    "    # Append the datetime, resistance, and temperature as a new row in your Pandas Dataframe.\n",
    "    #if b != -1:\n",
    "    #    try:\n",
    "\n",
    "    #    except:\n",
    "    #        print(\"incomplete string\")\n",
    "\n",
    "        \n",
    "    # Add a delay to set the measurement frequency with the time.sleep() function.\n",
    "\n",
    "\n",
    "    # Save the data to a csv using the pandas function df.to_csv() where df is the name of your dataframe.\n",
    "    # You can use a conditional statement to do this every N'th time, e.g. every 100th time.\n",
    "  \n",
    "        #df.to_csv()\n",
    "\n",
    "        "
   ]
  },
  {
   "cell_type": "markdown",
   "metadata": {},
   "source": [
    "### Completing your data collection\n",
    "\n",
    "1. Close the connection to the Serial data object.  (THIS IS REALLY IMPORTANT)!!!\n",
    "2. Make a plot of Temperature vs. time."
   ]
  },
  {
   "cell_type": "code",
   "execution_count": null,
   "metadata": {},
   "outputs": [],
   "source": []
  },
  {
   "cell_type": "markdown",
   "metadata": {},
   "source": [
    "**Make a plot of Temperature vs. datetime.   Save that plot using plt.savefig() **"
   ]
  },
  {
   "cell_type": "code",
   "execution_count": null,
   "metadata": {},
   "outputs": [],
   "source": []
  },
  {
   "cell_type": "markdown",
   "metadata": {},
   "source": [
    "### What to turn in: \n",
    "See instructions in Thermistor Lab Part 2."
   ]
  }
 ],
 "metadata": {
  "anaconda-cloud": {},
  "kernelspec": {
   "display_name": "Python 3",
   "language": "python",
   "name": "python3"
  },
  "language_info": {
   "codemirror_mode": {
    "name": "ipython",
    "version": 3
   },
   "file_extension": ".py",
   "mimetype": "text/x-python",
   "name": "python",
   "nbconvert_exporter": "python",
   "pygments_lexer": "ipython3",
   "version": "3.8.8"
  }
 },
 "nbformat": 4,
 "nbformat_minor": 1
}
