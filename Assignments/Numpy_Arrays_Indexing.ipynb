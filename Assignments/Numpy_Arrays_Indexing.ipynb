{
 "cells": [
  {
   "cell_type": "markdown",
   "metadata": {},
   "source": [
    "## The Enthought PDF slides give further detail on the different types of indexing that exist.\n",
    "\n",
    "[Enthought slides](https://github.com/enthought/Numpy-Tutorial-SciPyConf-2019/archive/master.zip)"
   ]
  },
  {
   "cell_type": "code",
   "execution_count": 2,
   "metadata": {},
   "outputs": [],
   "source": [
    "# Import modules\n",
    "import numpy as np\n",
    "import matplotlib.pyplot as plt"
   ]
  },
  {
   "cell_type": "markdown",
   "metadata": {},
   "source": [
    "## Creating 1D arrays with arange() and linspace()"
   ]
  },
  {
   "cell_type": "code",
   "execution_count": 4,
   "metadata": {},
   "outputs": [
    {
     "name": "stdout",
     "output_type": "stream",
     "text": [
      "99.99 100.0\n"
     ]
    }
   ],
   "source": [
    "# Linspace inputs are start, stop, # of elements\n",
    "xls = np.linspace(0,100,100)\n",
    "\n",
    "# arange inputs are start,stop,interval\n",
    "xar = np.arange(0,100,0.9999)\n",
    "\n",
    "#print(xar.shape)\n",
    "#xls.shape\n",
    "\n",
    "# This term tells you to pull the last value of the array out\n",
    "print( xar[-1], xls[-1])"
   ]
  },
  {
   "cell_type": "code",
   "execution_count": 5,
   "metadata": {},
   "outputs": [],
   "source": [
    "#help(np.arange)"
   ]
  },
  {
   "cell_type": "markdown",
   "metadata": {},
   "source": [
    "## Creating 2D arrays with array(), zeros(), ones()"
   ]
  },
  {
   "cell_type": "code",
   "execution_count": 34,
   "metadata": {},
   "outputs": [
    {
     "name": "stdout",
     "output_type": "stream",
     "text": [
      "Y has 1 dimensions. Y2 has 2 dimensions\n"
     ]
    }
   ],
   "source": [
    "# Assembling a 2D array by concatenating 1D arrays.\n",
    "x = np.array([[1,2,3],[3,4,5]])\n",
    "x.ndim\n",
    "\n",
    "# Currently this is a 1D array\n",
    "y = np.array([1,2,3])\n",
    "\n",
    "# Sometimes you need to set an array up to be 2D, so you can add data to it later.\n",
    "# This should be a 2D array\n",
    "y2 = np.array([1,2,3],ndmin = 2)\n",
    "\n",
    "print(\"Y has\",y.ndim,\"dimensions. Y2 has\",y2.ndim,\"dimensions\")"
   ]
  },
  {
   "cell_type": "code",
   "execution_count": 27,
   "metadata": {},
   "outputs": [
    {
     "data": {
      "text/plain": [
       "(1, 3)"
      ]
     },
     "execution_count": 27,
     "metadata": {},
     "output_type": "execute_result"
    }
   ],
   "source": [
    "#In general, when concatenating (merging or pasting together) arrays they must have the same shape and same dimensions \n",
    "\n",
    "y + y2. #This is permitted.  It takes on the higher dimensions.\n",
    "y * y2. #Likewise permitted.  It takes on the higher dimensions.\n",
    "\n",
    "help(np.concatenate)\n",
    "np.concatenate((y,y2))  # Not permitted.\n",
    "\n",
    "np.concatenate((y[np.newaxis,:],y2))   #Expand the dimensions of y before concatenating.\n",
    "\n",
    "# Stack vertically.  This has same effect as concatenate\n",
    "np.vstack((y,y2))   # Permitted, because arrays have the same column dimensions\n",
    "\n",
    "\n",
    "# Stack horizontally.  \n",
    "np.hstack((y,y2))   # Not Permitted, because y and y2 have the different row dimensions\n",
    "\n",
    "np.hstack((y[np.newaxis,:],y2))"
   ]
  },
  {
   "cell_type": "markdown",
   "metadata": {},
   "source": [
    "## Indexing and boolean operations for 2D arrays"
   ]
  },
  {
   "cell_type": "code",
   "execution_count": 19,
   "metadata": {},
   "outputs": [
    {
     "name": "stdout",
     "output_type": "stream",
     "text": [
      "(100,) (50,) (100, 50)\n"
     ]
    }
   ],
   "source": [
    "# Index individual row or column in 2D array\n",
    "z = np.ones((100,50))\n",
    "\n",
    "\n",
    "# Save a single row of z to a new variable\n",
    "zr = z[9,:]\n",
    "\n",
    "# Save a single column of z to a new variable\n",
    "zc = z[:,9]\n",
    "\n",
    "print(zc.shape,zr.shape, z.shape)\n"
   ]
  },
  {
   "cell_type": "code",
   "execution_count": 36,
   "metadata": {},
   "outputs": [
    {
     "data": {
      "image/png": "[encoded data removed]",
      "text/plain": [
       "<Figure size 432x288 with 1 Axes>"
      ]
     },
     "metadata": {
      "needs_background": "light"
     },
     "output_type": "display_data"
    },
    {
     "name": "stdout",
     "output_type": "stream",
     "text": [
      "[[101.   1.   1.   1.   1.   1.   1.   1.   1.   1.]\n",
      " [  1. 101.   1.   1.   1.   1.   1.   1.   1.   1.]\n",
      " [  1.   1. 101.   1.   1.   1.   1.   1.   1.   1.]\n",
      " [  1.   1.   1. 101.   1.   1.   1.   1.   1.   1.]\n",
      " [  1.   1.   1.   1. 101.   1.   1.   1.   1.   1.]\n",
      " [  1.   1.   1.   1.   1. 101.   1.   1.   1.   1.]\n",
      " [  1.   1.   1.   1.   1.   1. 101.   1.   1.   1.]\n",
      " [  1.   1.   1.   1.   1.   1.   1. 101.   1.   1.]\n",
      " [  1.   1.   1.   1.   1.   1.   1.   1. 101.   1.]\n",
      " [  1.   1.   1.   1.   1.   1.   1.   1.   1. 101.]]\n"
     ]
    }
   ],
   "source": [
    "# Make a 2D column vector of ones with 10 elements in it. \n",
    "a = np.ones([10,1])\n",
    "\n",
    "# Copy that column vector 10 times to make a square array.\n",
    "b = np.tile(a,10)\n",
    "\n",
    "\n",
    "# Make a vector of 10 elements and then place them in the diagonal of a 10 x 10 square array.\n",
    "c = np.ones(10)*100\n",
    "d = np.diag(c)\n",
    "\n",
    "# Use the Matplotlib spy() function to visualize the array b+d\n",
    "plt.spy(b+d,precision=10,markersize=10)\n",
    "plt.show()\n",
    "\n",
    "print(b+d)\n",
    "\n",
    "\n",
    "#np.random.randn(10)"
   ]
  },
  {
   "cell_type": "code",
   "execution_count": 37,
   "metadata": {},
   "outputs": [
    {
     "name": "stdout",
     "output_type": "stream",
     "text": [
      "[[100.   0.   0.   0.   0.   0.   0.   0.   0.   0.]\n",
      " [  0. 100.   0.   0.   0.   0.   0.   0.   0.   0.]\n",
      " [  0.   0. 100.   0.   0.   0.   0.   0.   0.   0.]\n",
      " [  0.   0.   0. 100.   0.   0.   0.   0.   0.   0.]\n",
      " [  0.   0.   0.   0. 100.   0.   0.   0.   0.   0.]\n",
      " [  0.   0.   0.   0.   0. 100.   0.   0.   0.   0.]\n",
      " [  0.   0.   0.   0.   0.   0. 100.   0.   0.   0.]\n",
      " [  0.   0.   0.   0.   0.   0.   0. 100.   0.   0.]\n",
      " [  0.   0.   0.   0.   0.   0.   0.   0. 100.   0.]\n",
      " [  0.   0.   0.   0.   0.   0.   0.   0.   0. 100.]]\n"
     ]
    }
   ],
   "source": [
    "print(d)"
   ]
  },
  {
   "cell_type": "code",
   "execution_count": 38,
   "metadata": {},
   "outputs": [
    {
     "name": "stdout",
     "output_type": "stream",
     "text": [
      "(10, 10)\n",
      "float64\n",
      "[[101.   1.   1.   1.   1.   1.   1.   1.   1.   1.]\n",
      " [  1. 101.   1.   1.   1.   1.   1.   1.   1.   1.]\n",
      " [  1.   1. 101.   1.   1.   1.   1.   1.   1.   1.]\n",
      " [  1.   1.   1. 101.   1.   1.   1.   1.   1.   1.]\n",
      " [  1.   1.   1.   1. 101.   1.   1.   1.   1.   1.]\n",
      " [  1.   1.   1.   1.   1. 101.   1.   1.   1.   1.]\n",
      " [  1.   1.   1.   1.   1.   1. 101.   1.   1.   1.]\n",
      " [  1.   1.   1.   1.   1.   1.   1. 101.   1.   1.]\n",
      " [  1.   1.   1.   1.   1.   1.   1.   1. 101.   1.]\n",
      " [  1.   1.   1.   1.   1.   1.   1.   1.   1. 101.]]\n"
     ]
    }
   ],
   "source": [
    "# Check out shape, ndim, dtype\n",
    "z = d+b\n",
    "\n",
    "print(z.shape)\n",
    "\n",
    "print(z.dtype)\n",
    "\n",
    "print(z)"
   ]
  },
  {
   "cell_type": "code",
   "execution_count": 75,
   "metadata": {},
   "outputs": [
    {
     "name": "stdout",
     "output_type": "stream",
     "text": [
      "[[False  True  True  True  True  True  True  True  True  True]\n",
      " [ True False  True  True  True  True  True  True  True  True]\n",
      " [ True  True False  True  True  True  True  True  True  True]\n",
      " [ True  True  True False  True  True  True  True  True  True]\n",
      " [ True  True  True  True False  True  True  True  True  True]\n",
      " [ True  True  True  True  True False  True  True  True  True]\n",
      " [ True  True  True  True  True  True False  True  True  True]\n",
      " [ True  True  True  True  True  True  True False  True  True]\n",
      " [ True  True  True  True  True  True  True  True False  True]\n",
      " [ True  True  True  True  True  True  True  True  True False]]\n"
     ]
    }
   ],
   "source": [
    "# Use boolean operators to change values.\n",
    "\n",
    "z2 = z.copy()\n",
    "\n",
    "# Find all the values equa1 to 1.\n",
    "id1 = (z2 == 1)\n",
    "\n",
    "# id1 now has a boolean record of which values are ==1.\n",
    "print(id1)"
   ]
  },
  {
   "cell_type": "code",
   "execution_count": 78,
   "metadata": {},
   "outputs": [
    {
     "name": "stdout",
     "output_type": "stream",
     "text": [
      "[[101.        3.14159   3.14159   3.14159   3.14159   3.14159   3.14159\n",
      "    3.14159   3.14159   3.14159]\n",
      " [  3.14159 101.        3.14159   3.14159   3.14159   3.14159   3.14159\n",
      "    3.14159   3.14159   3.14159]\n",
      " [  3.14159   3.14159 101.        3.14159   3.14159   3.14159   3.14159\n",
      "    3.14159   3.14159   3.14159]\n",
      " [  3.14159   3.14159   3.14159 101.        3.14159   3.14159   3.14159\n",
      "    3.14159   3.14159   3.14159]\n",
      " [  3.14159   3.14159   3.14159   3.14159 101.        3.14159   3.14159\n",
      "    3.14159   3.14159   3.14159]\n",
      " [  3.14159   3.14159   3.14159   3.14159   3.14159 101.        3.14159\n",
      "    3.14159   3.14159   3.14159]\n",
      " [  3.14159   3.14159   3.14159   3.14159   3.14159   3.14159 101.\n",
      "    3.14159   3.14159   3.14159]\n",
      " [  3.14159   3.14159   3.14159   3.14159   3.14159   3.14159   3.14159\n",
      "  101.        3.14159   3.14159]\n",
      " [  3.14159   3.14159   3.14159   3.14159   3.14159   3.14159   3.14159\n",
      "    3.14159 101.        3.14159]\n",
      " [  3.14159   3.14159   3.14159   3.14159   3.14159   3.14159   3.14159\n",
      "    3.14159   3.14159 101.     ]]\n"
     ]
    }
   ],
   "source": [
    "# Let's change all the elements equal to 1.\n",
    "\n",
    "z2[id1] = 3.14159\n",
    "\n",
    "#z2[z2 == 3.14159] = np.nan\n",
    "\n",
    "print(z2)"
   ]
  },
  {
   "cell_type": "markdown",
   "metadata": {},
   "source": [
    "### Finish the notebook by solving the cells below with code."
   ]
  },
  {
   "cell_type": "code",
   "execution_count": 68,
   "metadata": {},
   "outputs": [],
   "source": [
    "# Convert all the values of z2 that are > 99 into NaNs.\n"
   ]
  },
  {
   "cell_type": "code",
   "execution_count": 67,
   "metadata": {},
   "outputs": [],
   "source": [
    "# Make a 2D numpy array named Arr of size 10 x 10 and fill it with random values that range between 0 and 99.  You can use numpy's random module\n",
    "# np.random.randint()\n",
    "\n",
    "\n",
    "\n",
    "\n"
   ]
  },
  {
   "cell_type": "code",
   "execution_count": null,
   "metadata": {},
   "outputs": [],
   "source": [
    "# Use boolean indexing to replace all the values in Arr greater than 80 and less than 20 with NaNs.\n",
    "\n"
   ]
  },
  {
   "cell_type": "code",
   "execution_count": 15,
   "metadata": {},
   "outputs": [],
   "source": [
    "# Use the append() or concatenate() commands in numpy to add more columns to Arr.\n",
    "\n",
    "\n"
   ]
  },
  {
   "cell_type": "markdown",
   "metadata": {},
   "source": [
    "**Concept Review: More looping practice**"
   ]
  },
  {
   "cell_type": "code",
   "execution_count": null,
   "metadata": {},
   "outputs": [],
   "source": [
    "# We already saw that np.diag() can insert elements along the diagonal of a square array.\n",
    "# Use your understanding of for loops to carry out the same operation.\n",
    "# Create a 10 x 10 array of ones and then modify the center diagonal to be 101 instead of 1.\n",
    "# Hint: You will need two indices, e.g i and j to specify the row and column to modify.\n",
    "# Hint: You can use a boolean operator to decide which elements in the square array to modify.\n",
    "\n"
   ]
  }
 ],
 "metadata": {
  "kernelspec": {
   "display_name": "Python 3",
   "language": "python",
   "name": "python3"
  },
  "language_info": {
   "codemirror_mode": {
    "name": "ipython",
    "version": 3
   },
   "file_extension": ".py",
   "mimetype": "text/x-python",
   "name": "python",
   "nbconvert_exporter": "python",
   "pygments_lexer": "ipython3",
   "version": "3.8.8"
  }
 },
 "nbformat": 4,
 "nbformat_minor": 2
}
