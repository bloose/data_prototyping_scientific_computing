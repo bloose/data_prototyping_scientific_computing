{
 "cells": [
  {
   "cell_type": "markdown",
   "metadata": {},
   "source": [
    "## The Enthought PDF slides give further detail on the different types of indexing that exist.\n",
    "\n",
    "[Enthought slides](https://github.com/enthought/Numpy-Tutorial-SciPyConf-2019/archive/master.zip)"
   ]
  },
  {
   "cell_type": "code",
   "execution_count": 37,
   "metadata": {},
   "outputs": [],
   "source": [
    "# Import modules\n",
    "import numpy as np\n",
    "import matplotlib.pyplot as plt"
   ]
  },
  {
   "cell_type": "markdown",
   "metadata": {},
   "source": [
    "## Creating 1D arrays with arange() and linspace()"
   ]
  },
  {
   "cell_type": "code",
   "execution_count": 38,
   "metadata": {},
   "outputs": [],
   "source": [
    "# Linspace inputs are start, stop, # of elements\n",
    "xls = np.linspace(0,100,100)\n",
    "\n",
    "# arange inputs are start,stop,interval\n",
    "xar = np.arange(0,100,0.9999)\n",
    "\n",
    "#print(xar.shape)\n",
    "#xls.shape\n",
    "\n",
    "# This term tells you to pull the last value of the array out\n",
    "#print( xar[-1], xls[-1])"
   ]
  },
  {
   "cell_type": "markdown",
   "metadata": {},
   "source": [
    "Numpy can store numeric information (usually float() or int() data types) in 2, 3 or even N- dimensional arrays. Note that the indexing of 2D arrays goes like [row #, col #], e.g. a[3,2] gives the element at row=4 and column=3.\n",
    "\n",
    "<img src=\"https://bloose.github.io/data_prototyping_scientific_computing/images/Enthought_ND.png\",width=\"500\"/>"
   ]
  },
  {
   "cell_type": "markdown",
   "metadata": {},
   "source": [
    "## Creating 2D arrays with array(), zeros(), ones()"
   ]
  },
  {
   "cell_type": "code",
   "execution_count": 39,
   "metadata": {},
   "outputs": [],
   "source": [
    "# Assembling a 2D array by concatenating 1D arrays.\n",
    "x = np.array([[1,2,3],[3,4,5]])\n",
    "x.ndim\n",
    "\n",
    "# Currently this is a 1D array\n",
    "y = np.array([1,2,3])\n",
    "\n",
    "# Sometimes you need to set an array up to be 2D, so you can add data to it later.\n",
    "# This should be a 2D array\n",
    "y2 = np.array([1,2,3],ndmin = 2)\n",
    "\n",
    "#print(\"Y has\",y.ndim,\"dimensions. Y2 has\",y2.ndim,\"dimensions\")"
   ]
  },
  {
   "cell_type": "markdown",
   "metadata": {},
   "source": [
    "### Arithmetic on Arrays (element-wise or linear algebra)\n",
    "\n",
    "By default, Numpy will try to carry out element-wise arithmetic (+,-,*,/) on arrays of like dimension. Where possible, Numpy will also use array broadcasting to make the operation work.\n",
    "\n",
    "<img src=\"https://bloose.github.io/data_prototyping_scientific_computing/images/Array_rules.png\",width=\"500\"/>"
   ]
  },
  {
   "cell_type": "code",
   "execution_count": 40,
   "metadata": {},
   "outputs": [
    {
     "ename": "SyntaxError",
     "evalue": "invalid syntax (3323337933.py, line 1)",
     "output_type": "error",
     "traceback": [
      "\u001b[0;36m  File \u001b[0;32m\"/var/folders/0z/j7ytwmyn37551vn5d49bdcjm0000gn/T/ipykernel_54070/3323337933.py\"\u001b[0;36m, line \u001b[0;32m1\u001b[0m\n\u001b[0;31m    y + y2. #This is permitted.  It takes on the higher dimensions.\u001b[0m\n\u001b[0m                                                                   ^\u001b[0m\n\u001b[0;31mSyntaxError\u001b[0m\u001b[0;31m:\u001b[0m invalid syntax\n"
     ]
    }
   ],
   "source": [
    "y + y2. #This is permitted.  It takes on the higher dimensions.\n",
    "y * y2. #Likewise permitted.  It takes on the higher dimensions."
   ]
  },
  {
   "cell_type": "code",
   "execution_count": null,
   "metadata": {},
   "outputs": [],
   "source": [
    "# Examples of array manipulations.\n",
    "\n",
    "R = np.arange(0,100,12)  # Create a vector of 9 elements\n",
    "\n",
    "# Element-wise operation.  P is the same size as R.\n",
    "P = R*R\n",
    "\n",
    "# Impliclit element-wise operatation.\n",
    "\n",
    "Q = P.copy() - 3\n",
    "Q = P*R\n",
    "\n",
    "# Make R into a 3 x 3 matrix (2D array), and store it in S.\n",
    "S = R.reshape(3,3)\n",
    "\n",
    "# An array multiplication with broadcast operation.  \n",
    "T = S*np.array([3,2,1])\n",
    "#print(T)"
   ]
  },
  {
   "cell_type": "code",
   "execution_count": null,
   "metadata": {},
   "outputs": [],
   "source": [
    "# Object-oriented notation\n",
    "#print( T.max(),np.max(T) )  #(Object-oriented notation, Functional notation)\n",
    "\n",
    "#print( T.max(axis=0),np.max(T,axis=0) )  #Take the max along the row axis"
   ]
  },
  {
   "cell_type": "markdown",
   "metadata": {},
   "source": [
    "### Combining arrays for data wrangling. "
   ]
  },
  {
   "cell_type": "code",
   "execution_count": 41,
   "metadata": {},
   "outputs": [
    {
     "name": "stdout",
     "output_type": "stream",
     "text": [
      "Help on function concatenate in module numpy:\n",
      "\n",
      "concatenate(...)\n",
      "    concatenate((a1, a2, ...), axis=0, out=None, dtype=None, casting=\"same_kind\")\n",
      "    \n",
      "    Join a sequence of arrays along an existing axis.\n",
      "    \n",
      "    Parameters\n",
      "    ----------\n",
      "    a1, a2, ... : sequence of array_like\n",
      "        The arrays must have the same shape, except in the dimension\n",
      "        corresponding to `axis` (the first, by default).\n",
      "    axis : int, optional\n",
      "        The axis along which the arrays will be joined.  If axis is None,\n",
      "        arrays are flattened before use.  Default is 0.\n",
      "    out : ndarray, optional\n",
      "        If provided, the destination to place the result. The shape must be\n",
      "        correct, matching that of what concatenate would have returned if no\n",
      "        out argument were specified.\n",
      "    dtype : str or dtype\n",
      "        If provided, the destination array will have this dtype. Cannot be\n",
      "        provided together with `out`.\n",
      "    \n",
      "        .. versionadded:: 1.20.0\n",
      "    \n",
      "    casting : {'no', 'equiv', 'safe', 'same_kind', 'unsafe'}, optional\n",
      "        Controls what kind of data casting may occur. Defaults to 'same_kind'.\n",
      "    \n",
      "        .. versionadded:: 1.20.0\n",
      "    \n",
      "    Returns\n",
      "    -------\n",
      "    res : ndarray\n",
      "        The concatenated array.\n",
      "    \n",
      "    See Also\n",
      "    --------\n",
      "    ma.concatenate : Concatenate function that preserves input masks.\n",
      "    array_split : Split an array into multiple sub-arrays of equal or\n",
      "                  near-equal size.\n",
      "    split : Split array into a list of multiple sub-arrays of equal size.\n",
      "    hsplit : Split array into multiple sub-arrays horizontally (column wise).\n",
      "    vsplit : Split array into multiple sub-arrays vertically (row wise).\n",
      "    dsplit : Split array into multiple sub-arrays along the 3rd axis (depth).\n",
      "    stack : Stack a sequence of arrays along a new axis.\n",
      "    block : Assemble arrays from blocks.\n",
      "    hstack : Stack arrays in sequence horizontally (column wise).\n",
      "    vstack : Stack arrays in sequence vertically (row wise).\n",
      "    dstack : Stack arrays in sequence depth wise (along third dimension).\n",
      "    column_stack : Stack 1-D arrays as columns into a 2-D array.\n",
      "    \n",
      "    Notes\n",
      "    -----\n",
      "    When one or more of the arrays to be concatenated is a MaskedArray,\n",
      "    this function will return a MaskedArray object instead of an ndarray,\n",
      "    but the input masks are *not* preserved. In cases where a MaskedArray\n",
      "    is expected as input, use the ma.concatenate function from the masked\n",
      "    array module instead.\n",
      "    \n",
      "    Examples\n",
      "    --------\n",
      "    >>> a = np.array([[1, 2], [3, 4]])\n",
      "    >>> b = np.array([[5, 6]])\n",
      "    >>> np.concatenate((a, b), axis=0)\n",
      "    array([[1, 2],\n",
      "           [3, 4],\n",
      "           [5, 6]])\n",
      "    >>> np.concatenate((a, b.T), axis=1)\n",
      "    array([[1, 2, 5],\n",
      "           [3, 4, 6]])\n",
      "    >>> np.concatenate((a, b), axis=None)\n",
      "    array([1, 2, 3, 4, 5, 6])\n",
      "    \n",
      "    This function will not preserve masking of MaskedArray inputs.\n",
      "    \n",
      "    >>> a = np.ma.arange(3)\n",
      "    >>> a[1] = np.ma.masked\n",
      "    >>> b = np.arange(2, 5)\n",
      "    >>> a\n",
      "    masked_array(data=[0, --, 2],\n",
      "                 mask=[False,  True, False],\n",
      "           fill_value=999999)\n",
      "    >>> b\n",
      "    array([2, 3, 4])\n",
      "    >>> np.concatenate([a, b])\n",
      "    masked_array(data=[0, 1, 2, 2, 3, 4],\n",
      "                 mask=False,\n",
      "           fill_value=999999)\n",
      "    >>> np.ma.concatenate([a, b])\n",
      "    masked_array(data=[0, --, 2, 2, 3, 4],\n",
      "                 mask=[False,  True, False, False, False, False],\n",
      "           fill_value=999999)\n",
      "\n"
     ]
    },
    {
     "ename": "ValueError",
     "evalue": "all the input arrays must have same number of dimensions, but the array at index 0 has 1 dimension(s) and the array at index 1 has 2 dimension(s)",
     "output_type": "error",
     "traceback": [
      "\u001b[0;31m---------------------------------------------------------------------------\u001b[0m",
      "\u001b[0;31mValueError\u001b[0m                                Traceback (most recent call last)",
      "\u001b[0;32m/var/folders/0z/j7ytwmyn37551vn5d49bdcjm0000gn/T/ipykernel_54070/2986557061.py\u001b[0m in \u001b[0;36m<module>\u001b[0;34m\u001b[0m\n\u001b[1;32m      2\u001b[0m \u001b[0;34m\u001b[0m\u001b[0m\n\u001b[1;32m      3\u001b[0m \u001b[0mhelp\u001b[0m\u001b[0;34m(\u001b[0m\u001b[0mnp\u001b[0m\u001b[0;34m.\u001b[0m\u001b[0mconcatenate\u001b[0m\u001b[0;34m)\u001b[0m\u001b[0;34m\u001b[0m\u001b[0;34m\u001b[0m\u001b[0m\n\u001b[0;32m----> 4\u001b[0;31m \u001b[0mnp\u001b[0m\u001b[0;34m.\u001b[0m\u001b[0mconcatenate\u001b[0m\u001b[0;34m(\u001b[0m\u001b[0;34m(\u001b[0m\u001b[0my\u001b[0m\u001b[0;34m,\u001b[0m\u001b[0my2\u001b[0m\u001b[0;34m)\u001b[0m\u001b[0;34m)\u001b[0m  \u001b[0;31m# Not permitted.\u001b[0m\u001b[0;34m\u001b[0m\u001b[0;34m\u001b[0m\u001b[0m\n\u001b[0m\u001b[1;32m      5\u001b[0m \u001b[0;34m\u001b[0m\u001b[0m\n\u001b[1;32m      6\u001b[0m \u001b[0mnp\u001b[0m\u001b[0;34m.\u001b[0m\u001b[0mconcatenate\u001b[0m\u001b[0;34m(\u001b[0m\u001b[0;34m(\u001b[0m\u001b[0my\u001b[0m\u001b[0;34m[\u001b[0m\u001b[0mnp\u001b[0m\u001b[0;34m.\u001b[0m\u001b[0mnewaxis\u001b[0m\u001b[0;34m,\u001b[0m\u001b[0;34m:\u001b[0m\u001b[0;34m]\u001b[0m\u001b[0;34m,\u001b[0m\u001b[0my2\u001b[0m\u001b[0;34m)\u001b[0m\u001b[0;34m)\u001b[0m   \u001b[0;31m#Expand the dimensions of y before concatenating.\u001b[0m\u001b[0;34m\u001b[0m\u001b[0;34m\u001b[0m\u001b[0m\n",
      "\u001b[0;32m<__array_function__ internals>\u001b[0m in \u001b[0;36mconcatenate\u001b[0;34m(*args, **kwargs)\u001b[0m\n",
      "\u001b[0;31mValueError\u001b[0m: all the input arrays must have same number of dimensions, but the array at index 0 has 1 dimension(s) and the array at index 1 has 2 dimension(s)"
     ]
    }
   ],
   "source": [
    "#In general, when concatenating (merging or pasting together) arrays they must have the same shape and same dimensions \n",
    "\n",
    "help(np.concatenate)\n",
    "np.concatenate((y,y2))  # Not permitted.\n",
    "\n",
    "np.concatenate((y[np.newaxis,:],y2))   #Expand the dimensions of y before concatenating.\n",
    "\n",
    "# Stack vertically.  This has same effect as concatenate\n",
    "np.vstack((y,y2))   # Permitted, because arrays have the same column dimensions\n",
    "\n",
    "\n",
    "# Stack horizontally.  \n",
    "np.hstack((y,y2))   # Not Permitted, because y and y2 have the different row dimensions\n",
    "\n",
    "np.hstack((y[np.newaxis,:],y2))"
   ]
  },
  {
   "cell_type": "markdown",
   "metadata": {},
   "source": [
    "## Indexing and boolean operations for 2D arrays"
   ]
  },
  {
   "cell_type": "code",
   "execution_count": null,
   "metadata": {},
   "outputs": [],
   "source": [
    "# Index individual row or column in 2D array\n",
    "z = np.ones((100,50))\n",
    "\n",
    "\n",
    "# Save a single row of z to a new variable\n",
    "zr = z[9,:]\n",
    "\n",
    "# Save a single column of z to a new variable\n",
    "zc = z[:,9]\n",
    "\n",
    "#print(zc.shape,zr.shape, z.shape)\n"
   ]
  },
  {
   "cell_type": "code",
   "execution_count": null,
   "metadata": {},
   "outputs": [],
   "source": [
    "# Make a 2D column vector of ones with 10 elements in it. \n",
    "a = np.ones([10,1])\n",
    "\n",
    "# Copy that column vector 10 times to make a square array.\n",
    "b = np.tile(a,10)\n",
    "\n",
    "\n",
    "# Make a vector of 10 elements and then place them in the diagonal of a 10 x 10 square array.\n",
    "c = np.ones(10)*100\n",
    "d = np.diag(c)\n",
    "\n",
    "# Use the Matplotlib spy() function to visualize the array b+d\n",
    "plt.spy(b+d,precision=10,markersize=10)\n",
    "plt.show()\n",
    "\n",
    "#print(b+d)\n",
    "\n",
    "\n",
    "#np.random.randn(10)"
   ]
  },
  {
   "cell_type": "code",
   "execution_count": null,
   "metadata": {},
   "outputs": [],
   "source": [
    "#print(d)"
   ]
  },
  {
   "cell_type": "code",
   "execution_count": null,
   "metadata": {},
   "outputs": [],
   "source": [
    "# Check out shape, ndim, dtype\n",
    "z = d+b\n",
    "\n",
    "#print(z.shape)\n",
    "\n",
    "#print(z.dtype)\n",
    "\n",
    "#print(z)"
   ]
  },
  {
   "cell_type": "code",
   "execution_count": null,
   "metadata": {},
   "outputs": [],
   "source": [
    "# Use boolean operators to change values.\n",
    "\n",
    "z2 = z.copy()\n",
    "\n",
    "# Find all the values equa1 to 1.\n",
    "id1 = (z2 == 1)\n",
    "\n",
    "# id1 now has a boolean record of which values are ==1.\n",
    "#print(id1)"
   ]
  },
  {
   "cell_type": "code",
   "execution_count": null,
   "metadata": {},
   "outputs": [],
   "source": [
    "# Let's change all the elements equal to 1.\n",
    "\n",
    "z2[id1] = 3.14159\n",
    "\n",
    "#z2[z2 == 3.14159] = np.nan\n",
    "\n",
    "#print(z2)"
   ]
  },
  {
   "cell_type": "markdown",
   "metadata": {},
   "source": [
    "Let's try this exercise together.  How many ways can this be solved, algorithmically?\n",
    "\n",
    "<img src=\"https://bloose.github.io/data_prototyping_scientific_computing/images/Enthought_rem.png\",width=\"500\"/>\n",
    "\n",
    "\n",
    "Algorithm 1:\n",
    "1. Create a\n",
    "1. Divide all elements in a by 3. \n",
    "1. Look for values with a remainder of zero.\n",
    "1. Create boolean array to subindex.\n",
    "\n",
    "Algorithm 2:\n",
    "1. Create a\n",
    "1. Divide all elements in a by 3. \n",
    "1. Check to see which elements are equal to their integer counterparts.\n"
   ]
  },
  {
   "cell_type": "markdown",
   "metadata": {},
   "source": [
    "### Finish the notebook by solving the cells below with code."
   ]
  },
  {
   "cell_type": "code",
   "execution_count": 42,
   "metadata": {},
   "outputs": [],
   "source": [
    "# Convert all the values of z2 that are > 99 into NaNs.\n"
   ]
  },
  {
   "cell_type": "code",
   "execution_count": 43,
   "metadata": {},
   "outputs": [],
   "source": [
    "# Make a 2D numpy array named Arr of size 10 x 10 and fill it with random values that range between 0 and 99.  You can use numpy's random module\n",
    "# np.random.randint()\n",
    "\n",
    "\n",
    "\n",
    "\n"
   ]
  },
  {
   "cell_type": "code",
   "execution_count": 44,
   "metadata": {},
   "outputs": [],
   "source": [
    "# Use boolean indexing to replace all the values in Arr greater than 80 and less than 20 with NaNs.\n",
    "\n"
   ]
  },
  {
   "cell_type": "code",
   "execution_count": 45,
   "metadata": {},
   "outputs": [],
   "source": [
    "# Use the append() or concatenate() commands in numpy to add more columns to Arr.\n",
    "\n",
    "\n"
   ]
  },
  {
   "cell_type": "markdown",
   "metadata": {},
   "source": [
    "**Concept Review: More looping practice**"
   ]
  },
  {
   "cell_type": "code",
   "execution_count": 46,
   "metadata": {},
   "outputs": [],
   "source": [
    "# We already saw that np.diag() can insert elements along the diagonal of a square array.\n",
    "# Use your understanding of for loops to carry out the same operation.\n",
    "# Create a 10 x 10 array of ones and then modify the center diagonal to be 101 instead of 1.\n",
    "# Hint: You will need two indices, e.g i and j to specify the row and column to modify.\n",
    "# Hint: You can use a boolean operator to decide which elements in the square array to modify.\n",
    "\n"
   ]
  }
 ],
 "metadata": {
  "kernelspec": {
   "display_name": "Python 3 (ipykernel)",
   "language": "python",
   "name": "python3"
  },
  "language_info": {
   "codemirror_mode": {
    "name": "ipython",
    "version": 3
   },
   "file_extension": ".py",
   "mimetype": "text/x-python",
   "name": "python",
   "nbconvert_exporter": "python",
   "pygments_lexer": "ipython3",
   "version": "3.7.11"
  }
 },
 "nbformat": 4,
 "nbformat_minor": 2
}
