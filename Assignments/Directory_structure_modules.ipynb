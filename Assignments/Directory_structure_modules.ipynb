{
 "cells": [
  {
   "cell_type": "markdown",
   "metadata": {},
   "source": [
    "### Directory structure, paths, modules"
   ]
  },
  {
   "cell_type": "markdown",
   "metadata": {},
   "source": [
    "**Motivation:**  \n",
    "* As you begin to write more mature code, you may want to make it *reusable*, because it will have multiple use cases. \n",
    "* The best way to make code reusable is to make it into a module or function.\n",
    "* A module/function has clearly defined inputs and outputs.\n",
    "* The module has its own variable scope that is kept separate from the workspace.\n",
    "\n",
    "\n",
    "Modules have three important sections:\n",
    "\n",
    "1. The definition or declaration where inputs are defined.  This is like the head.\n",
    "2. The internal operations.  This is the body.\n",
    "3. The return statement where outputs are specified.\n"
   ]
  },
  {
   "cell_type": "markdown",
   "metadata": {},
   "source": [
    "### Directory structure is the organization of files, and other data objects into drives and folders.    \n",
    "* The **document root** specifies the lowest level in the structure. This is usually equivalent to the harddrive.\n",
    "* The **subfolders** sit within the document root.\n",
    "\n",
    "<img src=\"https://bloose.github.io/data_prototyping_scientific_computing/images/Directory_structure_name.002.jpeg\" width=\"600\"/>\n"
   ]
  },
  {
   "cell_type": "markdown",
   "metadata": {},
   "source": [
    "### The path specifies the location of a file in the directory strucure.\n",
    "\n",
    "* The **path** specifies the lowest level in the structure. This is usually equivalent to the harddrive.\n",
    "* A path can be absolute.  Absolute paths are specified w.r.t. the document root. \n",
    "* A path can be relative to the current location.\n",
    "\n",
    "Paths are used to help executable files find the other files they need.\n",
    "\n",
    "<img src=\"https://bloose.github.io/data_prototyping_scientific_computing/images/Directory_structure_name.004.jpeg\" width=\"600\"/>\n"
   ]
  },
  {
   "cell_type": "markdown",
   "metadata": {},
   "source": [
    "**Example:** If I have an .ipynb in /pylibrary/spongebob and I want to use it to load an image in /Users/Downloads, I can specify the location as: "
   ]
  },
  {
   "cell_type": "markdown",
   "metadata": {},
   "source": [
    "```\n",
    "imread('/Users/Downloads/myimage.png')\n",
    "# or\n",
    "imread('../../Users/Downloads/myimage.png')\n",
    "\n",
    "```\n",
    "```\n",
    "cd ../brice # relative path, when I'm in spongebob\n",
    "cd /Users/pylibrary/brice. # absolute path\n",
    "\n",
    "# The ../ sequence means \"go up one level\" in the directory structure.\n",
    "```"
   ]
  },
  {
   "cell_type": "markdown",
   "metadata": {},
   "source": [
    "### Python path\n",
    "\n",
    "Python maintains paths as a text list, which shows all the places that executables can be found."
   ]
  },
  {
   "cell_type": "code",
   "execution_count": 6,
   "metadata": {},
   "outputs": [
    {
     "name": "stdout",
     "output_type": "stream",
     "text": [
      "['/Users/suelto/GDrive/teaching/OCG404/2020/Lectures+Notes/Week06', '//anaconda3/lib/python37.zip', '//anaconda3/lib/python3.7', '//anaconda3/lib/python3.7/lib-dynload', '', '//anaconda3/lib/python3.7/site-packages', '//anaconda3/lib/python3.7/site-packages/aeosa', '/Users/suelto/gtk/sci_comp/src/ghp-import', '//anaconda3/lib/python3.7/site-packages/IPython/extensions', '/Users/suelto/.ipython', '/path/to/the/', '/path/to/the/', '/path/to/the/', '/path/to/the/']\n"
     ]
    }
   ],
   "source": [
    "# The sys package maintains a list of modules and objects that deal with the operating system\n",
    "import sys\n",
    "\n",
    "# Print the python path\n",
    "print(sys.path)   \n",
    "\n",
    "\n",
    "# Add a folder to your python path\n",
    "\n",
    "sys.path.append('/path/to/the/')\n",
    "\n",
    "# Note, the first location on the path is the current directory."
   ]
  },
  {
   "cell_type": "markdown",
   "metadata": {},
   "source": [
    "### Modules use functional programming to accept inputs, do operations, and pass outputs."
   ]
  },
  {
   "cell_type": "code",
   "execution_count": 1,
   "metadata": {},
   "outputs": [],
   "source": [
    "# This is a module with no inputs\n",
    "def Sayit():   # This is the defintion in the head.\n",
    "    \n",
    "    Iter = 0;         # This is an operation in the body.                 \n",
    "    Ntimes = 10;      # This is an operation in the body.\n",
    "    \n",
    "    while Iter < Ntimes:               \n",
    "        Iter += 1\n",
    "        print(\"Run for your life!\")\n",
    "        \n",
    "    return  # This is the return statement where outputs are defined."
   ]
  },
  {
   "cell_type": "code",
   "execution_count": 2,
   "metadata": {},
   "outputs": [],
   "source": [
    "# This is an example of overloading modules.  You can specify default values, in case the user does not specify them.\n",
    "def Repeatafterme(Message=\"No msg at this time\", Ntimes=5):   # This is the definition in the head.\n",
    "    \n",
    "    iter = 0                           \n",
    "    while iter <= Ntimes:               \n",
    "        print(Message)\n",
    "        iter += 1\n",
    "    ;                                                                                                                                                \n",
    "    return                              # This is the return statement where outputs are defined.\n",
    "\n"
   ]
  },
  {
   "cell_type": "code",
   "execution_count": 3,
   "metadata": {},
   "outputs": [
    {
     "name": "stdout",
     "output_type": "stream",
     "text": [
      "No msg at this time\n",
      "No msg at this time\n",
      "No msg at this time\n",
      "No msg at this time\n",
      "No msg at this time\n",
      "No msg at this time\n",
      "No msg at this time\n",
      "No msg at this time\n",
      "No msg at this time\n",
      "No msg at this time\n",
      "No msg at this time\n"
     ]
    }
   ],
   "source": [
    "Repeatafterme(Ntimes=10)"
   ]
  },
  {
   "cell_type": "code",
   "execution_count": 4,
   "metadata": {},
   "outputs": [
    {
     "name": "stdout",
     "output_type": "stream",
     "text": [
      "The word is the message.\n",
      "The word is the message.\n",
      "The word is the message.\n",
      "The word is the message.\n",
      "The word is the message.\n",
      "The word is the message.\n"
     ]
    }
   ],
   "source": [
    "Repeatafterme(\"The word is the message.\")"
   ]
  },
  {
   "cell_type": "markdown",
   "metadata": {},
   "source": [
    "#### Modules have a scope that differs from the workspace.\n",
    "\n",
    "~~~\n",
    "def addtoa(a):\n",
    "    b = 10;\n",
    "    c = a + b;\n",
    "    return c\n",
    "~~~\n",
    "\n",
    "This module take the variable a as input, it adds the variable b to a and saves it in c.  Then it returns c as output.   After the module executes b ceases to exist.  The \"workspace\" or other modules don't know about b or its values.\n"
   ]
  },
  {
   "cell_type": "code",
   "execution_count": 27,
   "metadata": {},
   "outputs": [],
   "source": [
    "# We can place the module definition in a separate python folder and then import it.\n",
    "\n",
    "# This only works if the file is on the python path.\n",
    "# from sayitall import Sayit2\n",
    "# from sayitall import Sayit3, Sayit2\n",
    "import sayitall as s"
   ]
  },
  {
   "cell_type": "code",
   "execution_count": 28,
   "metadata": {},
   "outputs": [
    {
     "name": "stdout",
     "output_type": "stream",
     "text": [
      "Run for your life!\n",
      "Run for your life!\n",
      "Run for your life!\n",
      "Run for your life!\n",
      "Run for your life!\n",
      "Run for your life!\n",
      "Run for your life!\n",
      "Run for your life!\n",
      "Run for your life!\n",
      "Run for your life!\n"
     ]
    }
   ],
   "source": [
    "s.Sayit2()"
   ]
  },
  {
   "cell_type": "code",
   "execution_count": 29,
   "metadata": {},
   "outputs": [
    {
     "ename": "SyntaxError",
     "evalue": "invalid syntax (880019498.py, line 3)",
     "output_type": "error",
     "traceback": [
      "\u001b[0;36m  File \u001b[0;32m\"/var/folders/0z/j7ytwmyn37551vn5d49bdcjm0000gn/T/ipykernel_94407/880019498.py\"\u001b[0;36m, line \u001b[0;32m3\u001b[0m\n\u001b[0;31m    import('../../Lectures+Notes/Week08/sayitall')\u001b[0m\n\u001b[0m          ^\u001b[0m\n\u001b[0;31mSyntaxError\u001b[0m\u001b[0;31m:\u001b[0m invalid syntax\n"
     ]
    }
   ],
   "source": [
    "# It is not possible to pass a path to the import command\n",
    "\n",
    "import('../../Lectures+Notes/Week08/sayitall')"
   ]
  },
  {
   "cell_type": "code",
   "execution_count": 30,
   "metadata": {},
   "outputs": [
    {
     "data": {
      "text/plain": [
       "<module 'sayitall' from '../../Lectures+Notes/Week08/sayitall.py'>"
      ]
     },
     "execution_count": 30,
     "metadata": {},
     "output_type": "execute_result"
    }
   ],
   "source": [
    "# BUT: If the file is not on the Python path, here is a workaround to directly specify the path to your module\n",
    "\n",
    "import imp\n",
    "imp.load_source('sayitall', '../../Lectures+Notes/Week08/sayitall.py')"
   ]
  },
  {
   "cell_type": "code",
   "execution_count": 31,
   "metadata": {},
   "outputs": [],
   "source": [
    "Sayit3()"
   ]
  },
  {
   "cell_type": "markdown",
   "metadata": {},
   "source": [
    "#### Modules can return multiple outputs"
   ]
  },
  {
   "cell_type": "code",
   "execution_count": 18,
   "metadata": {},
   "outputs": [],
   "source": [
    "def addtoa(a):\n",
    "    b = 10;\n",
    "    c = a + b;\n",
    "    return c, b"
   ]
  },
  {
   "cell_type": "code",
   "execution_count": 32,
   "metadata": {},
   "outputs": [
    {
     "name": "stdout",
     "output_type": "stream",
     "text": [
      "20\n",
      "(20, 10)\n"
     ]
    }
   ],
   "source": [
    "myC, myB = addtoa(a=10)\n",
    "print(myC)\n",
    "myCB = addtoa(a=10)\n",
    "print(myCB)"
   ]
  },
  {
   "cell_type": "markdown",
   "metadata": {},
   "source": [
    "### In_class assignment part 1: \n",
    "\n",
    "Put your basic stats code inside a module.  Save that module in a file called basic_stats.py or similar.\n",
    "\n",
    "The inputs should be a list vector or numpy array x of unspecified length. \n",
    "\n",
    "The outputs should be the sample mean $\\bar{x}$ and sample standard deviation $s$, as well as a figure containing the histogram of x.\n",
    "\n",
    "Upload basic_stats.py to Week08_inclass assignment, along with your work from the HPC_Intro.ipynb.\n"
   ]
  },
  {
   "cell_type": "code",
   "execution_count": null,
   "metadata": {},
   "outputs": [],
   "source": []
  }
 ],
 "metadata": {
  "kernelspec": {
   "display_name": "Python 3 (ipykernel)",
   "language": "python",
   "name": "python3"
  },
  "language_info": {
   "codemirror_mode": {
    "name": "ipython",
    "version": 3
   },
   "file_extension": ".py",
   "mimetype": "text/x-python",
   "name": "python",
   "nbconvert_exporter": "python",
   "pygments_lexer": "ipython3",
   "version": "3.8.11"
  }
 },
 "nbformat": 4,
 "nbformat_minor": 2
}
