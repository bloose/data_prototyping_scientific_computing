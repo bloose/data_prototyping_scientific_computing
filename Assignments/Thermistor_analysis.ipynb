{
 "cells": [
  {
   "cell_type": "markdown",
   "metadata": {},
   "source": [
    "## Using Pandas to process and analyze temperature time series data."
   ]
  },
  {
   "cell_type": "markdown",
   "metadata": {},
   "source": [
    "**NOTES:**  This week we will analyze the at-home temperature time series you have collected in order to see if we can extract some more information about the quality of the data, and what story the time series can tell us. We are going to compare your at-home temperature with air temperature from a weather station and see if there is a correlation, and/or a lag in the correlation.\n",
    "\n",
    "1. First, download a record of NOAA 5-min weather station temperature from Kingston, RI (https://www1.ncdc.noaa.gov/pub/data/uscrn/products/subhourly01/2023/). \n",
    "1. Put both your temperature data and the NOAA data onto the same time base by using datetime as the row index for both data sets and merging them.  \n",
    "1. Merge the two data sets into one data frame, so you can use them for time series analysis.\n",
    "1. Last, compute the serial covariance to observe how well the two temperatures are correlated and if there is any lag between the outdoor temperature and your indoor temperature. "
   ]
  },
  {
   "cell_type": "code",
   "execution_count": 31,
   "metadata": {},
   "outputs": [],
   "source": [
    "import pandas as pd\n",
    "import matplotlib.pyplot as plt\n",
    "import numpy as np\n",
    "import datetime"
   ]
  },
  {
   "cell_type": "markdown",
   "metadata": {},
   "source": [
    "### Download and Read in NOAA Weather Station data."
   ]
  },
  {
   "cell_type": "code",
   "execution_count": 194,
   "metadata": {},
   "outputs": [],
   "source": [
    "# Download 5-min temperature data, for a nearby weather station. Look for the neareest 5-min weather stations in RI.\n",
    "# These archives are available at:\n",
    "# https://www1.ncdc.noaa.gov/pub/data/uscrn/products/subhourly01/2023/\n",
    "\n",
    "\n",
    "\n",
    "# Use the pandas function pd.read_csv() to import the data.  Hint, you can indicate whitespace delimiters as '\\s+'. \n",
    "# NOTE:  The NOAA file will take some special processing to create a datetime array.  See Pandas intro for an example.\n",
    "\n",
    "\n",
    "\n",
    "\n",
    "#Kin_DF.info()"
   ]
  },
  {
   "cell_type": "code",
   "execution_count": 1,
   "metadata": {},
   "outputs": [],
   "source": [
    "# Load the csv data you saved from your overnight data collection.\n",
    "# This version is data that Taylor Lindsey sent me.\n",
    "\n",
    "\n",
    "\n",
    "# Use the parse_dates option to ensure a datetime column is created.\n",
    "\n",
    "\n",
    "\n",
    "# Use df.info() function to confirm it has all the correct columns and data types.\n"
   ]
  },
  {
   "cell_type": "code",
   "execution_count": 180,
   "metadata": {},
   "outputs": [],
   "source": [
    "# Make it so that both time series use the datetime column as their row index.  \n",
    "# Use the Pandas .set_index() function and apply your changes to the same dataframe using the inplace=True option.\n",
    "# Must merge on index, so setting both timeseries to indices.\n",
    "\n",
    "\n",
    "# Use the datetime column as the array index for the weather station data.\n",
    "\n",
    "\n",
    "# Use the datetime colum as the array index for your home temp.\n"
   ]
  },
  {
   "cell_type": "markdown",
   "metadata": {},
   "source": [
    "### Truncate the weather station data"
   ]
  },
  {
   "cell_type": "code",
   "execution_count": 1,
   "metadata": {},
   "outputs": [],
   "source": [
    "# The Kingston Weather data file covers the entire year up to the present.  We want to cut this down to the time period \n",
    "# that overlaps with your overnight temperature data.  \n",
    "# Use boolean indices or the pandas .truncate() function to truncate the data to a time period that overlaps with\n",
    "# your temperature data.\n",
    "\n",
    "\n",
    "\n"
   ]
  },
  {
   "cell_type": "markdown",
   "metadata": {},
   "source": [
    "### Visualize the two temperature records. "
   ]
  },
  {
   "cell_type": "code",
   "execution_count": 2,
   "metadata": {},
   "outputs": [],
   "source": [
    "# Make a single panel plot with datetime on the x-axis and temperature on the y-axis.  Use this plot to confirm that\n",
    "# the truncated weather station data overlaps with your overnight time series.\n",
    "\n"
   ]
  },
  {
   "cell_type": "code",
   "execution_count": 3,
   "metadata": {},
   "outputs": [],
   "source": [
    "## Are there any bad data points?  If so, use boolean indices to remove them. \n",
    "# Hint: Don't make them NaNs or they will complicate the time series analysis.\n",
    "\n"
   ]
  },
  {
   "cell_type": "code",
   "execution_count": 4,
   "metadata": {},
   "outputs": [],
   "source": [
    "# The time interval of the overnight temperature data has to match that of the NOAA weather station.  Use the Pandas \n",
    "# resample().mean() function to compute the running mean of your temperature time series at 5 minute intervals, to match the \n",
    "# NOAA data.\n",
    "\n",
    "\n"
   ]
  },
  {
   "cell_type": "code",
   "execution_count": 5,
   "metadata": {},
   "outputs": [],
   "source": [
    "# Merge the two data sets together using the pandas .join() function.  \n",
    "\n"
   ]
  },
  {
   "cell_type": "markdown",
   "metadata": {},
   "source": [
    "## Computing the serial covariance between your overnight and weather station data.\n",
    "\n",
    "Check out the wiki figures and explanation of cross-correlation. https://en.wikipedia.org/wiki/Cross-correlation\n"
   ]
  },
  {
   "cell_type": "code",
   "execution_count": 89,
   "metadata": {
    "collapsed": true
   },
   "outputs": [],
   "source": [
    "# Make a lag vector, k, that spans from -N to N-1, where N is the number of elements in Therm_5min.\n",
    "\n",
    "# Plot the output from np.correlate() as a function of k to see how the correlation changes at negative lag (k < 0),\n",
    "# zero lag (k = 0), and positive lag (k > 0).\n",
    "\n",
    "# 1. Where are the two most correlated?\n",
    "# 2. Are the series correlated or anti-correlated?\n",
    "# 3. How long is the lag in minutes?  You can figure this out by multiplying k with your sampling interval.\n",
    "# 4. Can you offer a theory why there is (or isn't) a lag between indoor and outdoor temperature?"
   ]
  },
  {
   "cell_type": "code",
   "execution_count": 6,
   "metadata": {},
   "outputs": [],
   "source": [
    "# Subtract the mean from both time series to make both sets of measurements have zero mean.\n",
    "\n",
    "\n",
    "\n",
    "# Use the function np.correlate(,,mode='full') to compute the serial cross-correlation.\n",
    "# Note, this Numpy function is fully compatible with Pandas dataframes as inputs.\n",
    "\n",
    "\n",
    "# Make the lag vector, k, that ranges from -N to N with steps of 1.\n",
    "\n",
    "\n",
    "\n",
    "# Make a 2-panel plot.  In the first panel, plot the Overnight and Weather temperature data. In the second panel, plot the \n",
    "# cross-correlation as a function of lag.  Use these plots to answer the questions above.\n",
    "\n",
    "\n"
   ]
  },
  {
   "cell_type": "markdown",
   "metadata": {
    "collapsed": true
   },
   "source": [
    "### What to submit:\n",
    "\n",
    "1. This .ipynb with code and answers to the above questions.  Use Markdown cells for practice.\n",
    "2. An image of the 2-panel plot you made above.\n",
    "3. Text files containing your overnight thermistor data and weather station data."
   ]
  },
  {
   "cell_type": "code",
   "execution_count": null,
   "metadata": {},
   "outputs": [],
   "source": []
  }
 ],
 "metadata": {
  "kernelspec": {
   "display_name": "Python 3 (ipykernel)",
   "language": "python",
   "name": "python3"
  },
  "language_info": {
   "codemirror_mode": {
    "name": "ipython",
    "version": 3
   },
   "file_extension": ".py",
   "mimetype": "text/x-python",
   "name": "python",
   "nbconvert_exporter": "python",
   "pygments_lexer": "ipython3",
   "version": "3.9.12"
  }
 },
 "nbformat": 4,
 "nbformat_minor": 2
}
