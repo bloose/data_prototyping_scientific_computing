{
 "cells": [
  {
   "cell_type": "markdown",
   "metadata": {},
   "source": [
    "## Using Git and Github for version control and collaboration.\n",
    "\n",
    "\n",
    "\n",
    "**Objectives** \n",
    "\n",
    "* Set up Git to keep track of changes to code for collaboration purposes.\n",
    "* Create a Github pages repository and use Markdown to create a simple templated professional website.\n",
    "* Use Git to publish your work on Github to share in the Public Domain.\n",
    "\n",
    "\n",
    "\n",
    "### Glossary of terms:\n",
    "\n",
    "1. init - Initialize a directory with git version control, so that all changes will be recorded and backed up.\n",
    "1. add  - The git add command adds files or folders to a git repository.\n",
    "1. commit - Stage all files in the local repository with appropriate version information stored.\n",
    "1. push - The git push command is used to upload local repository content to a remote repository. Pushing is how you transfer commits from your local repository to a remote repo.\n",
    "1. pull  - The git pull command is used to fetch and download content from a remote repository and immediately update the local repository to match that content. \n"
   ]
  },
  {
   "cell_type": "markdown",
   "metadata": {},
   "source": [
    "### Step 1 :Installing Git\n",
    "\n",
    "1. Navigate to github.com and create a user account.\n",
    "2. Install git as follows:\n",
    "\n",
    "\n",
    "**On MAC:**   First, check whether git may already be installed\n",
    "    \n",
    "    ~~~\n",
    "    git --version\n",
    "    ~~~\n",
    "\n",
    "**On Windows:**  Git is available as a stand-alone binary, including a unix-like Bash shell.  Go to [https://git-scm.com/download/win](https://git-scm.com/download/win) and download the install binary.  \n",
    "\n",
    "**NOTE:**  Use all the default choices.\n",
    "\n",
    "3. Update the global config with your username and email.  This is necessary to complete the git commit and git push commands.\n",
    "\n",
    "~~~\n",
    "$ git config --global user.name <your_username>\n",
    "$ git config --global user.email <your_email>\n",
    "~~~\n"
   ]
  },
  {
   "cell_type": "markdown",
   "metadata": {},
   "source": [
    "### Step 2:  Set up your github account and github pages repository.\n",
    "2. Navigate to [this repository template](https://github.com/OCG404-CSC593/ghpages_template) and **fork** it.\n",
    "\n",
    "<img src=\"https://bloose.github.io/data_prototyping_scientific_computing/images/fork.png\" width=\"600px\"/>\n",
    "\n",
    "3. Click on the repository settings and change the name of the repository to `<your_username>.github.io`.\n",
    "\n",
    "<img src=\"https://bloose.github.io/data_prototyping_scientific_computing/images/rename.png\" width=\"600px\"/>\n",
    "\n",
    "\n",
    "4. Scroll down to the Github pages section and select the `master` branch as the site where your gh_pages will be built from.\n",
    "\n",
    "<img src=\"https://bloose.github.io/data_prototyping_scientific_computing/images/gh_pages.png\" width=\"600px\"/>\n",
    "\n",
    "\n",
    "5. Copy the https://github.com/[your_username]/[your_username].github.io.git URL to your clipboard in preparation to clone the repository to your local computer."
   ]
  },
  {
   "cell_type": "markdown",
   "metadata": {},
   "source": [
    "### Step 3:  Clone your repository to work locally.\n",
    "\n",
    "Use the `git clone` command to make a local copy of your repository that you can modify and push. First, create a directory in your users folder where you will store your repositories.\n",
    "\n",
    "~~~\n",
    "]$ cd ~                 # Change to your home directory\n",
    "]$ mkdir git_repos/     # Make folder to organize all your repositories\n",
    "]$ cd git_repos/\n",
    "]$ git clone https://github.com/<your_username>/<your_username>.github.io.git   #this should be copied from the code dropdown.\n",
    "]$ cd <your_username>.github.io     # Change into the directory you created.\n",
    "~~~\n",
    "\n",
    "If you navigate your browser to https://[your_username].github.io you should be served up a copy of the templates with the Joker head shot.  Now you need to modify with your info.\n"
   ]
  },
  {
   "cell_type": "markdown",
   "metadata": {},
   "source": [
    "### Step 4:  Modify files to make the templates your own.\n",
    "\n",
    "Use nano or a text editor to open and modify the left sidebar contents contained in `_config.yml`.  Note, you must use html code in `_config.yml`, it does not recognize markdown.\n",
    "\n",
    "1. Add your name.\n",
    "2. Change the title information\n",
    "3. Add a headshot image to the /images folder and copy the name into _config.yml in place of joker_logo.png.\n",
    "\n",
    "Use nano or a text editor to open and modify the body contents contained in index.md.  Here, you can edit in Markdown.\n",
    "\n",
    "1. Use markdown to add some Bio information.\n",
    "2. Add details to Education, Work Experience, and Projects, or change these categories as you choose.\n"
   ]
  },
  {
   "cell_type": "markdown",
   "metadata": {},
   "source": [
    "### Step 5:  Add, commit, and push your changes to the git version controller and to Github.\n",
    "\n",
    "First, let's create a directory in your users home folder for our work and then move into that directory:\n",
    "\n",
    "\n",
    "~~~\n",
    "$git add --all                  # Add all the modified files to the staging for commit.\n",
    "$git commit -m \"some updates\"   # Commit the changes to version control; include a short description of the changes.\n",
    "$git push -u origin master      # Push the changes to the remote repository on github.  You will be prompted to login.\n",
    "~~~    \n",
    "\n",
    "**NOTE:** You should be prompted to authenticate or enter your git username and password when you use the `git push` command.  These credentials can be stored so you don't have to log in every time.\n",
    "\n",
    "\n",
    "**ALSO:** `git init` will create the local repository inside the folder titled `.git/`\n",
    "\n",
    "Check to see if it's there:\n",
    "\n",
    "~~~\n",
    "$ ls -a\n",
    "~~~\n",
    "\n",
    "Git uses this hidden folder to store all the info and versions of this folder.\n",
    "If `.git` subdirectory is deleted, we will lose the project's history.  Check the contents:\n",
    "\n",
    "~~~\n",
    "$ ls -a .git/\n",
    "~~~\n",
    "\n",
    "~~~\n",
    ".\t\tCOMMIT_EDITMSG\tHEAD\t\tbranches\tdescription\tindex\t\tlogs\t\tpacked-refs\n",
    "..\t\tFETCH_HEAD\tORIG_HEAD\tconfig\t\thooks\t\tinfo\t\tobjects\t\trefs\n",
    "~~~\n",
    "\n",
    "\n",
    "~~~\n",
    "$ git status\n",
    "~~~\n",
    "\n",
    "~~~\n",
    "On branch master\n",
    "\n",
    "No commits yet\n",
    "\n",
    "nothing to commit (create/copy files and use \"git add\" to track)\n",
    "~~~"
   ]
  },
  {
   "cell_type": "markdown",
   "metadata": {},
   "source": [
    "### Step 6: What to turn in.\n",
    "\n",
    "Make a nicely formatted and accurate version of your Github developer page.  Paste the link into the in-class assignment box and upload it, so I can have a look. \n",
    "\n",
    "If you already have a Github pages site, you can still clone the site onto your local computer.  You don't need to change your gh-pages template if you already had one.  Just send me the URL to your developer page on Github.\n",
    "  "
   ]
  },
  {
   "cell_type": "code",
   "execution_count": null,
   "metadata": {},
   "outputs": [],
   "source": []
  }
 ],
 "metadata": {
  "kernelspec": {
   "display_name": "Python 3 (ipykernel)",
   "language": "python",
   "name": "python3"
  },
  "language_info": {
   "codemirror_mode": {
    "name": "ipython",
    "version": 3
   },
   "file_extension": ".py",
   "mimetype": "text/x-python",
   "name": "python",
   "nbconvert_exporter": "python",
   "pygments_lexer": "ipython3",
   "version": "3.7.11"
  }
 },
 "nbformat": 4,
 "nbformat_minor": 4
}
