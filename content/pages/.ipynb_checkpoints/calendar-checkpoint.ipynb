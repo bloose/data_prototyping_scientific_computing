{
 "cells": [
  {
   "cell_type": "markdown",
   "metadata": {},
   "source": [
    "**Year-2021.**\n",
    "**Time: Wed, 16-20h,**\n",
    "**Location: Library Room 166**\n"
   ]
  },
  {
   "attachments": {},
   "cell_type": "markdown",
   "metadata": {},
   "source": [
    "Week\t|\tDate\t|\tActivity\t|\tLecture topic\t|\tWorksheets + Notes\t|\tImportant Dates\n",
    ":-----\t|\t:--------------\t|\t:---------------\t|\t:---------------------------------------------------------------------------------\t|\t:----------\t|\t:----------\n",
    "1\t|\t9/8/21\t|\t**In-class**\t|\tWelcome, goals, Introduction to algorithms.\t|\t\t|\t\n",
    "\t|\t\t|\t**Lab**\t|\tInstall Jypyter notebooks, use Jupyter to [complete webscraper](../python-webscraper.html) and [BG Survey](../background-survey.html)\t|\t[Background_survey](../Assignments/Background_survey.ipynb) [python_webscraper](../Assignments/python_webscraper.ipynb)\t|\t\n",
    "\t|\t\t|\t**Outside**\t|\tMake presentation for Week 2.\t|\t\t|\t\n",
    "2\t|\t9/15/21\t|\t**In-class**\t|\tStudent presentations Part 1. [Intro to Python](../introduction-to-python.html): Data types, indexing, bools, loops. \t|\t\t|\t\n",
    "\t|\t\t|\t**Lab**\t|\tInvestigate and present coding structures in class.  Begin working on [basic_stats.ipynb](../basic-stats.html).\t|\t[Intro_Python.ipynb](../Assignments/Intro_Python_2021.ipynb) [Basic_stats.ipynb](../Assignments/Basic_stats.ipynb)\t|\t\n",
    "\t|\t\t|\t**Outside**\t|\tComplete basic_stats.  Read: [Enthought_numpy slides](https://github.com/enthought/Numpy-Tutorial-SciPyConf-2019/archive/master.zip), [Numpy docs](https://numpy.org/doc/stable/), and [Matplotlib.pyplot docs](https://matplotlib.org/stable/tutorials/introductory/pyplot.html#sphx-glr-tutorials-introductory-pyplot-py)\t|\t\t|\t\n",
    "3\t|\t9/22/21\t|\t**In-class**\t|\tStudent presentations Part 2. [Arrays in Numpy](../intro-to-numpy-and-indexing-in-2d-arrays.html). Data visualization with Matplotlib.  Intro to geographic data and projections.\t|\t\t|\t\n",
    "\t|\t\t|\t**Lab**\t|\tExercise on mapping with Cartopy and exercise on creating modules.\t|\t[Numpy_Arrays_Indexing.ipynb](../Assignments/Numpy_Arrays_Indexing.ipynb) [plotting_matplotlib.ipynb](../Assignments/plotting_matplotlib.zip) [geoplot_worksheet.ipynb](../Assignments/geoplot_worksheet.ipynb)\t|\tQuiz on indexing, data types, loops\n",
    "\t|\t\t|\t**Outside**\t|\tRead Ch.2 on Circuits in Realworld Computing (Brightspace only for copyright).\t|\t\t|\t\n",
    "4\t|\t9/29/21\t|\t**In-class**\t|\tSpend more time with Numpy, 2D Arrays and cartopy maps.\t|\t\t|\t\n",
    "\t|\t\t|\t**Lab**\t|\tIndividual term project discussions with Brice\t|\t\t|\t\n",
    "\t|\t\t|\t**Outside**\t|\tFinish cartopy and matplotlib assignments.\t|\t\t|\t\n",
    "5\t|\t10/6/21\t|\t**In-class**\t|\tPresentation on I/O Wire up LED and thermistor. [Analyze an LED circuit](../led-voltage-analysis.html). \t|\t[Data_Measurement.pdf](../Assignments/Data_Measurement.pdf) \t|\tQuiz on circuits\n",
    "\t|\t\t|\t**Lab**\t|\tLED circuit programmed to activate at interval and at keystroke. Prepare [term project proposal](../Assignments/Term_Project_Proposal_2021.pdf).\t|\t[LED_Lab_2021.pdf](../Assignments/LED_Lab_2021.pdf) [led_voltage_analysis.ino](../Assignments/led_voltage_analysis.ino) \t|\t\n",
    "\t|\t\t|\t**Outside**\t|\tFinish LED lab with polled LED functionality\t|\t\t|\t\n",
    "6\t|\t10/13/21\t|\t**In-class**\t|\tReading and collecting serial data, connect Arduino to Python to measure temperature.\t|\t[Serial_Notes.pdf](../Assignments/Serial_Notes.pdf) \t|\tSubmit your [term project proposal](../Assignments/Term_Project_Proposal_2021.pdf).\n",
    "\t|\t\t|\t**Lab**\t|\tBuild and analyze thermistor circuit,   Make plan to collect data.\t|\t[Thermistor_Lab_part1.pdf](../Assignments/Thermistor_Lab_part1.pdf) [Therm_Lab_2021.ino](../Assignments/Therm_Lab_2021.ino) [Timekeeping_in_python.ipynb](../Assignments/Timekeeping_in_python.ipynb) \t|\t\n",
    "\t|\t\t|\t**Outside**\t|\tCollect overnight temperature data, plot.\t|\t[Thermistor_Lab_part2.pdf](../Assignments/Thermistor_Lab_part2.pdf) [therm_plotter_polled.ipynb](../Assignments/therm_plotter_polled.ipynb)\t|\t\n",
    "7\t|\t10/20/21\t|\t**In-class**\t|\tStatistics for sequential data: Regression, auto/cross correlation, confidence intervals, bootstrapping.\t|\t[calibration_notes.pdf](../Assignments/calibration.pdf) [Heatf flow and covariance](../Assignments/heat_flow_covariance.pdf)\t|\t\n",
    "\t|\t\t|\t**Lab**\t|\tCalibrate thermistors. \t|\t[week07_inclass.zip](../Assignments/week07_inclass.zip) [Thermistor_analysis.ipynb](../Assignments/Thermistor_analysis.ipynb) \t|\t\n",
    "\t|\t\t|\t**Outside**\t|\tExercise on Regression, confidence intervals, bootstrapping.\t|\t\t|\t\n",
    "8\t|\t10/27/21\t|\t**In-class**\t|\t*** Class cancelled due to Nor'easter ***\t|\t\t|\t\n",
    "\t|\t\t|\t**Lab**\t|\tTerm project work session. \t|\t\t|\t\n",
    "\t|\t\t|\t**Outside**\t|\tTerm project work session. \t|\t\t|\t\n",
    "9\t|\t11/3/21\t|\t**In-class**\t|\tMore on [modules and directory structures](../modules-and-directory-structures.html). [Intro to Unix](../introduction-to-unix.html).\t|\t[Intro_Unix_Navigating.ipynb](../Assignments/Intro_Unix_Navigating.ipynb) [Directory_structure_modules.ipynb](../Assignments/Directory_structure_modules.ipynb) \t|\t\n",
    "\t|\t\t|\t**Lab**\t|\tIntro to [HPC environment](../hpc-introduction.html).\t|\t[sayitall.py](../Assignments/sayitall.py) [HPC_Intro.ipynb](../Assignments/HPC_Intro.ipynb) [landsatexplore.py](../Assignments/landsatexplore.py) \t|\t\n",
    "\t|\t\t|\t**Outside**\t|\tTerm project work session. \t|\t\t|\t\n",
    "10\t|\t11/10/21\t|\t**In-class**\t|\tNo class\t|\t\t|\tVeteran's Day Makeup\n",
    "\t|\t\t|\t**Lab**\t|\tNo class\t|\t\t|\t\n",
    "\t|\t\t|\t**Outside**\t|\tNo class\t|\t\t|\t\n",
    "11\t|\t11/17/21\t|\t**In-class**\t|\tIntroduction to Raspberry Pi\t|\t\t|\tQuiz on Markdown, Unix shell commands, modules, Pandas \n",
    "\t|\t\t|\t**Lab**\t|\tRaspberry Pi connection to Arduino thermistor\t|\t[Raspi_Intro.pdf](../Assignments/Raspi_Intro.pdf) [serialpie.py](../Assignments/serialpie.py)\t|\t\n",
    "\t|\t\t|\t**Outside**\t|\tDeploy RasPi Camera traps\t|\t[PiCam_trap.pdf](../Assignments/PiCam_trap.pdf) [camtrap.py](../Assignments/camtrap.py)\t|\t\n",
    "12\t|\t11/24/21\t|\t**In-class**\t|\tPackaging for github\t|\t[Github_setup.ipynb](../Assignments/Github_setup.ipynb)\t|\t\n",
    "\t|\t\t|\t**Lab**\t|\tSubmit a package to github\t|\t[Modules_and_Packages.ipynb](../Assignments/Modules_and_Packages.ipynb) [Lab.zip](../Assignments/Lab.zip)\t|\tThanksgiving week (Nov 25-28)\n",
    "\t|\t\t|\t**Outside**\t|\tWork on term project\t|\t\t|\t\n",
    "13\t|\t12/1/21\t|\t**In-class**\t|\tHigh-performance computing exercise on LANDSAT data\t|\t\t|\t\n",
    "\t|\t\t|\t**Lab**\t|\tLarge array processing with Dask. \t|\t[HPC_Parallel_Processing.ipynb](../Assignments/HPC_Parallel_Processing.ipynb) [coreclock.py](../Assignments/coreclock.py)\t|\t\n",
    "\t|\t\t|\t**Outside**\t|\tExercise on HPC.\t|\t[HPC_NDVI.ipynb](../Assignments/HPC_NDVI.ipynb) \t|\t\n",
    "14\t|\t12/8/21\t|\t**In-class**\t|\tTerm project presentations\t|\t\t|\tLast day of class\n",
    "\t|\t\t|\t**Lab**\t|\tTerm project presentations\t|\t[Term_Project_Presentations.pdf](../Assignments/Term_Project_Presentations.pdf) \t|\t\n",
    "\t|\t\t|\t**Outside**\t|\tTerm project presentations\t|\t\t|\t\n",
    "Overflow\t|\t12/??/2021\t|\t**In-class**\t|\tBenchmarking and efficient code in Pandas/Numpy\t|\t\t|\t\n",
    "\t|\t\t|\t**Lab**\t|\tExercise on Benchmarking\t|\t\t|\t\n",
    "\t|\t\t|\t**Outside**\t|\tTerm project work session. \t|\t\t|"
   ]
  },
  {
   "cell_type": "code",
   "execution_count": null,
   "metadata": {},
   "outputs": [],
   "source": []
  }
 ],
 "metadata": {
  "kernelspec": {
   "display_name": "Python 3 (ipykernel)",
   "language": "python",
   "name": "python3"
  },
  "language_info": {
   "codemirror_mode": {
    "name": "ipython",
    "version": 3
   },
   "file_extension": ".py",
   "mimetype": "text/x-python",
   "name": "python",
   "nbconvert_exporter": "python",
   "pygments_lexer": "ipython3",
   "version": "3.7.11"
  }
 },
 "nbformat": 4,
 "nbformat_minor": 2
}
