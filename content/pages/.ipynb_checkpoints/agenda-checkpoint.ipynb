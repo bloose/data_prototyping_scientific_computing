{
 "cells": [
  {
   "cell_type": "markdown",
   "metadata": {},
   "source": [
    "**Time: Mon, 16-18h**\n",
    "**Location: Library Room 166**\n"
   ]
  },
  {
   "cell_type": "markdown",
   "metadata": {},
   "source": [
    "| Week |\tDate    |\tActivity |\tLecture topic |\tDue Dates |\n",
    "|:-----|:-----------|-----------:|:---------------------------------------------|:------|\t\t\t\t\n",
    "|1\t   | 9/14/20    |\tIn-class |\tWelcome, goals, Introduction to algorithms.\t| |\n",
    "|\t   |\t        |\tLab      |  Install Jypyter notebooks, use Jupyter to complete BG Survey.\t| |\n",
    "|\t   |\t        | Outside    |\tMake presentation for Week 2.  Read Ch. 3 Real+World+Instrumentation...pdf.\t| |\n",
    "|2\t   | 9/21/20    |\tIn-class |\tStudent presentations Part 1, Intro to Python: Functions, conditions, bools, loops. \t| |\n",
    "|\t   | |  Lab |\tInvestigate and present coding structures in class.  Begin working on [basic_stats.ipynb](../hw-1-basic-statistics.html). | |\t\n",
    "|\t   | | Outside |\tComplete basic_stats.  Read: Enthought_numpy slides, Numpy docs, and Matplotlib.pyplot docs\t| |\n",
    "| 3\t| 9/28/20 |\tIn-class |\tArrays in Numpy. Data visualization with Matplotlib.  Introduction to geographic data and projections.\t| |        \n",
    "| |  |   Lab |\tExercise on mapping with Cartopy and exercise on creating modules.\t| |\n",
    "| |  | \tOutside\t| Finish Basemap and modules exercises. Read Ch.2 on Circuits in Realworld Computing, Essay on Algorithms.\t| |\n",
    "| 4 |\t10/5/20 |\tIn-class |\tQuiz on Circuits, in-class activity on circuits.  Analyze an LED circuit. Presentation on I/O Wire up LED and thermistor. |\tQuiz on circuits |\n",
    "| | |\tLab |\tLED circuit programmed to turn on at a time interval, and later when certain words are typed.\t| |\n",
    "| | |\tOutside\t| Finish LED lab with polled LED functionality\t| |\n",
    "| 5 |\t10/12/20 |\tIn-class |\tStatistics for sequential data: Regression, auto/cross correlation, confidence intervals, bootstrapping. |\tSubmit your term project proposal |\n",
    "|\t| |\tLab |\tWork on LED Lab \t| |\n",
    "|\t| |\t\tOutside |\tWork on LED Lab\t| |\n",
    "| 6\t| 10/19/20 |\tIn-class |\tReading and collecting serial data.\t| |\n",
    "|\t| | \tLab |\tBuild and analyze thermistor circuit.  Make plan to collect data.\t| |\n",
    "| |\t| \tOutside |\tCollect overnight temperature data, plot.\t| |\n",
    "| 7\t| 10/26/20 |\tIn-class |\tTime series analysis, Intro to Pandas.\t| |\n",
    "| | | \t\tLab\t| Calibrate thermistors in class. Practice loading files.  Review and discuss temperature time series from the week before.\t | |\n",
    "| | | Outside\t| Analyze temperature data for trends, statistics, etc.\t| |\n",
    "| 8 |\t11/2/20 |\tIn-class |\tFile I/O. Reading text files, .shp files, matlab .mat files, net cdf files, etc.  |  \tQuiz on loops, conditionals, arrays, File IO |\n",
    "| | | Lab |\tPandas and Wrangling unruly data. | |\t\n",
    "| | | \tOutside\t| Pandas and Wrangling unruly data.\t| |\n",
    "| 9\t| 11/9/20 |\tIn-class |\tPackaging for github\t| |\n",
    "| | | \tLab |\tSubmit a package to github\t| |\n",
    "| | | \tOutside |\tWork on term project\t| |\n",
    "| 10 |\t11/16/20 |\tIn-class |\tIntro to High-performance computing\tSubmit update on progress toward term project. | |\n",
    "| | | \tLab |\tHPC setup. Discuss term project proposals.\t| |\n",
    "| | | \tOutside |\tExercise on HPC. | \t|\n",
    "| 11 |\t11/23/20 |\tIn-class |\tNo lecture, term project work session\t| |\n",
    "| | | \t\tLab |\tTerm project work session. |\tThanksgiving week  |\n",
    "| | | \t\tOutside\t |Read about image analysis.  \t| | \n",
    "| 12 |\t11/30/20 |\tIn-class |\tUsing QGIS, ArcGIS, GRASS with python\t| |\n",
    "| | | \t\tLab |\tExercise in GIS.\t| | \n",
    "| | | \t\tOutside |\tTerm project work session. | Read Ch's 1-2 of bio_image_proc.pdf in Resources Folder\t| \n",
    "|13\t |12/7/20 |\tIn-class |\tExercise on image processing. |\tQuiz on ND arrays + image processing |\n",
    "| | | \t\tLab |\tTerm project work session. \t| |\n",
    "| | | \tOutside |\tTerm project work session. \t| | \n",
    "|14 |\t12/14/20 |\tIn-class |\tTerm project presentations\tlast day of class | |\n",
    "| | | \tLab |\tTerm project presentations\t| |\n",
    "| | | \tOutside |\tTerm project presentations\t| ||\n"
   ]
  },
  {
   "cell_type": "code",
   "execution_count": null,
   "metadata": {},
   "outputs": [],
   "source": []
  }
 ],
 "metadata": {
  "kernelspec": {
   "display_name": "Python 3",
   "language": "python",
   "name": "python3"
  },
  "language_info": {
   "codemirror_mode": {
    "name": "ipython",
    "version": 3
   },
   "file_extension": ".py",
   "mimetype": "text/x-python",
   "name": "python",
   "nbconvert_exporter": "python",
   "pygments_lexer": "ipython3",
   "version": "3.8.8"
  }
 },
 "nbformat": 4,
 "nbformat_minor": 2
}
