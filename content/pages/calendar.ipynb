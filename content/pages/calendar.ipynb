{
 "cells": [
  {
   "cell_type": "markdown",
   "metadata": {},
   "source": [
    "**Year-2024.**\n",
    "**Time: Tue, 15:30-19:30h,**\n",
    "**Location: Library Room 166**"
   ]
  },
  {
   "cell_type": "markdown",
   "metadata": {},
   "source": [
    "Week\t|\tDate\t|\tActivity\t|\tLecture topic\t|\tWorksheets + Notes\t|\tImportant Dates\n",
    ":-----\t|\t:--------------\t|\t:---------------\t|\t:---------------------------------------------------------------------------------\t|\t:----------\t|\t:----------\n",
    "1\t|\t9/10/24\t|\t**In-class**\t|\tWelcome, goals, Introduction to algorithms.\t|\t\t|\t\n",
    "\t|\t\t|\t**Lab**\t|\tInstall Jypyter notebooks, use Jupyter to [complete webscraper](../webscraper.html) and [BG Survey](../background-survey.html)\t|\t[Background_survey](../Assignments/Background_survey.ipynb) [webscraper](../Assignments/webscraper.ipynb)\t|\t\n",
    "\t|\t\t|\t**Outside**\t|\tMake presentation for Week 2.\t|\t\t|\t\n",
    "2\t|\t9/17/24\t|\t**In-class**\t|\tStudent presentations Part 1. [Intro to Sci. Languages](../introduction-to-python.html): Data types, indexing, bools, loops. \t|\t[Intro_Python+R.ipynb](../Assignments/Intro_Python+R.ipynb) \t|\t\n",
    "\t|\t\t|\t**Lab**\t|\tInvestigate and present coding structures in class.  \t|\t\t|\t\n",
    "\t|\t\t|\t**Outside**\t|\tFor Python Read: [Enthought_numpy slides on arrays](https://github.com/enthought/Numpy-Tutorial-SciPyConf-2019/archive/master.zip), [Numpy docs](https://numpy.org/doc/stable/), and [Matplotlib.pyplot docs](https://matplotlib.org/stable/tutorials/introductory/pyplot.html#sphx-glr-tutorials-introductory-pyplot-py)\t|\t For R, Read: [Base R arrays and matrices](https://rstudio.github.io/r-manuals/r-intro/Arrays-and-matrices.html). [Plotting arrays](https://gsp.humboldt.edu/OLM/R/02_04%202D%20Plots.html)\t|\t\n",
    "3\t|\t9/24/24\t|\t**In-class**\t|\tStudent presentations Part 2.\t|\t[Arrays](../Assignments/Arrays_Indexing_Numpy+R.ipynb)\t|\t\n",
    "\t|\t\t|\t**Lab**\t|\t [Arrays in Numpy](../intro-to-numpy-and-indexing-in-2d-arrays.html). Data visualization.map making. \t|\t[Data vis](../Assignments/plotting_agnostic.zip)\t|\t\n",
    "\t|\t\t|\t**Outside**\t|\tFinish worksheets on [data vis.](../plotting-in-matplotlib.html) and [map making](../geoplotting-with-cartopy.html).\t|\t[Map making](../Assignments/geoplot_worksheet.ipynb)\t|\t\n",
    "4\t|\t10/1/24\t|\t**In-class**\t|\tMapping, modules, more on loops.\t|\t\t|\tQuiz on indexing, data types, loops\n",
    "\t|\t\t|\t**Lab**\t|\tExercise on mapping and [exercise on recursion](../using-loops-and-recursion-to-solve-problems.html). Create a [basic_stats.ipynb](../basic-stats.html) module. Individual term project discussions with Brice\t|\t[More on loops, modules + recursion](../Assignments/More_Loops+Recursion.ipynb)\t|\t\n",
    "\t|\t\t|\t**Outside**\t|\tRead Ch.2 on Circuits in Realworld Computing (Brightspace only for copyright). Prepare term project proposal.\t|\t[Basic_stats.ipynb](../Assignments/Basic_stats.ipynb)\t|\t\n",
    "5\t|\t10/8/24\t|\t**In-class**\t|\tPresentation on I/O Wire up LED and thermistor. [Analyze an LED circuit](../led-voltage-analysis.html). \t|\t\t|\t\n",
    "\t|\t\t|\t**Lab**\t|\tLED circuit programmed to activate at interval and at keystroke. Prepare [term project proposal](../Assignments/Term_Project_Proposal_2021.pdf).\t|\t\t|\t\n",
    "\t|\t\t|\t**Outside**\t|\tFinish LED lab with polled LED functionality\t|\t\t|\t\n",
    "6\t|\t10/15/24\t|\t**In-class**\t|\tNo class\t|\t\t|\tSubmit your [term project proposal](../Assignments/Term_Project_Proposal_2021.pdf).\n",
    "\t|\t(Columbus Day Makeup)\t|\t**Lab**\t|\tNo class\t|\t\t|\tQuiz on circuits\n",
    "\t|\t\t|\t**Outside**\t|\tNo class\t|\t\t|\t\n",
    "7\t|\t10/22/24\t|\t**In-class**\t|\tReading and collecting serial data, connect Arduino to Python to measure temperature.\t|\t\t|\t\n",
    "\t|\t\t|\t**Lab**\t|\tBuild and analyze thermistor circuit,   Make plan to collect data.\t|\t\t|\t\n",
    "\t|\t\t|\t**Outside**\t|\tCollect overnight temperature data, plot.\t|\t\t|\t\n",
    "8\t|\t10/29/24\t|\t**In-class**\t|\tStatistics for sequential data: Regression, auto/cross correlation, confidence intervals, bootstrapping.\t|\t\t|\t\n",
    "\t|\t\t|\t**Lab**\t|\tCalibrate thermistors. \t|\t\t|\t\n",
    "\t|\t\t|\t**Outside**\t|\tExercise on Regression, confidence intervals, bootstrapping.\t|\t\t|\t\n",
    "9\t|\t11/5/24\t|\t**In-class**\t|\tMore on [modules and directory structures](../modules-and-directory-structures.html). [Intro to Unix](../introduction-to-unix.html).\t|\t\t|\t\n",
    "\t|\t\t|\t**Lab**\t|\tIntro to [HPC environment](../hpc-introduction.html).\t|\t\t|\t\n",
    "\t|\t\t|\t**Outside**\t|\tTerm project work session. \t|\t\t|\t\n",
    "10\t|\t11/12/24\t|\t**In-class**\t|\tIntroduction to Raspberry Pi\t|\t\t|\t\n",
    "\t|\t\t|\t**Lab**\t|\tRaspberry Pi connection to Arduino thermistor\t|\t\t|\t\n",
    "\t|\t\t|\t**Outside**\t|\tDeploy RasPi Camera traps\t|\t\t|\t\n",
    "11\t|\t11/19/24\t|\t**In-class**\t|\tPackaging for github\t|\t\t|\tQuiz on Markdown, Unix shell commands, modules, Pandas \n",
    "\t|\t\t|\t**Lab**\t|\tSubmit a package to github\t|\t\t|\t\n",
    "\t|\t\t|\t**Outside**\t|\tWork on term project\t|\t\t|\t\n",
    "12\t|\t11/26/24\t|\t**In-class**\t|\tHigh-performance computing exercise on LANDSAT data\t|\t\t|\t\n",
    "\t|\t\t|\t**Lab**\t|\tLarge array processing. \t|\t\t|\tThanksgiving week (Nov 23-26)\n",
    "\t|\t\t|\t**Outside**\t|\tExercise on HPC.\t|\t\t|\t\n",
    "13\t|\t12/3/24\t|\t**In-class**\t|\tBenchmarking and efficient code in Pandas/Numpy\t|\t\t|\t\n",
    "\t|\t\t|\t**Lab**\t|\tExercise on Benchmarking\t|\t\t|\t\n",
    "\t|\t\t|\t**Outside**\t|\tTerm project work session. \t|\t\t|\t\n",
    "14\t|\t12/10/24\t|\t**In-class**\t|\tTerm project presentations\t|\t\t|\tLast day of class\n",
    "\t|\t\t|\t**Lab**\t|\tTerm project presentations\t|\t\t|\t\n",
    "\t|\t\t|\t**Outside**\t|\tTerm project presentations\t|\t\t|\t"
   ]
  }
 ],
 "metadata": {
  "kernelspec": {
   "display_name": "Python 3 (ipykernel)",
   "language": "python",
   "name": "python3"
  },
  "language_info": {
   "codemirror_mode": {
    "name": "ipython",
    "version": 3
   },
   "file_extension": ".py",
   "mimetype": "text/x-python",
   "name": "python",
   "nbconvert_exporter": "python",
   "pygments_lexer": "ipython3",
   "version": "3.9.12"
  }
 },
 "nbformat": 4,
 "nbformat_minor": 4
}
