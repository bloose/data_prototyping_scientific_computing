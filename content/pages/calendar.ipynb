{
 "cells": [
  {
   "cell_type": "markdown",
   "metadata": {},
   "source": [
    "**Year-2023.**\n",
    "**Time: Tue, 15:30-19:30h,**\n",
    "**Location: Library Room 166**\n"
   ]
  },
  {
   "attachments": {},
   "cell_type": "markdown",
   "metadata": {},
   "source": [
    "Week\t|\tDate\t|\tActivity\t|\tLecture topic\t|\tWorksheets + Notes\t|\tImportant Dates\n",
    ":-----\t|\t:--------------\t|\t:---------------\t|\t:---------------------------------------------------------------------------------\t|\t:----------\t|\t:----------\n",
    "1\t|\t9/12/23\t|\t**In-class**\t|\tWelcome, goals, Introduction to algorithms.\t|\t\t|\t\n",
    "\t|\t\t|\t**Lab**\t|\tInstall Jypyter notebooks, use Jupyter to [complete webscraper](../webscraper.html) and [BG Survey](../background-survey.html)\t|\t[Background_survey](../Assignments/Background_survey.ipynb) [webscraper](../Assignments/webscraper.ipynb)\t|\t\n",
    "\t|\t\t|\t**Outside**\t|\tMake presentation for Week 2.\t|\t\t|\t"
   ]
  },
  {
   "cell_type": "code",
   "execution_count": null,
   "metadata": {},
   "outputs": [],
   "source": []
  }
 ],
 "metadata": {
  "kernelspec": {
   "display_name": "Python 3 (ipykernel)",
   "language": "python",
   "name": "python3"
  },
  "language_info": {
   "codemirror_mode": {
    "name": "ipython",
    "version": 3
   },
   "file_extension": ".py",
   "mimetype": "text/x-python",
   "name": "python",
   "nbconvert_exporter": "python",
   "pygments_lexer": "ipython3",
   "version": "3.12.5"
  }
 },
 "nbformat": 4,
 "nbformat_minor": 4
}
