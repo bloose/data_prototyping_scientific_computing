{
 "cells": [
  {
   "cell_type": "markdown",
   "metadata": {},
   "source": [
    "**Year-2023.**\n",
    "**Time: Tue, 15:30-19:30h,**\n",
    "**Location: Library Room 166**\n"
   ]
  },
  {
   "attachments": {},
   "cell_type": "markdown",
   "metadata": {},
   "source": [
    "Week\t|\tDate\t|\tActivity\t|\tLecture topic\t|\tWorksheets + Notes\t|\tImportant Dates\r\n",
    ":-----\t|\t:--------------\t|\t:---------------\t|\t:---------------------------------------------------------------------------------\t|\t:----------\t|\t:----------\r\n",
    "1\t|\t9/12/23\t|\t**In-class**\t|\tWelcome, goals, Introduction to algorithms.\t|\t\t|\t\r\n",
    "\t|\t\t|\t**Lab**\t|\tInstall Jypyter notebooks, use Jupyter to [complete webscraper](../webscraper.html) and [BG Survey](../background-survey.html)\t|\t[Background_survey](../Assignments/Background_survey.ipynb) [webscraper](../Assignments/webscraper.ipynb)\t|\t\r\n",
    "\t|\t\t|\t**Outside**\t|\tMake presentation for Week 2.\t|\t\t|\t\r\n",
    "2\t|\t9/19/23\t|\t**In-class**\t|\tStudent presentations Part 1. [Intro to Sci. Languages](../introduction-to-python.html): Data types, indexing, bools, loops. \t|\t\t|\t\r\n",
    "\t|\t\t|\t**Lab**\t|\tInvestigate and present coding structures in class.  Begin working on [basic_stats.ipynb](../basic-stats.html).\t|\t\t|\t\r\n",
    "\t|\t\t|\t**Outside**\t|\tComplete basic_stats.  Read: [Enthought_numpy slides on arrays](https://github.com/enthought/Numpy-Tutorial-SciPyConf-2019/archive/master.zip), [Numpy docs](https://numpy.org/doc/stable/), and [Matplotlib.pyplot docs](https://matplotlib.org/stable/tutorials/introductory/pyplot.html#sphx-glr-tutorials-introductory-pyplot-py)\t|\t\t|\t\r\n",
    "3\t|\t9/26/23\t|\t**In-class**\t|\tStudent presentations Part 2.\t|\t\t|\t\r\n",
    "\t|\t\t|\t**Lab**\t|\t [Arrays in Numpy](../intro-to-numpy-and-indexing-in-2d-arrays.html). Data visualization. \t|\t\t|\tQuiz on indexing, data types, loops\r\n",
    "\t|\t\t|\t**Outside**\t|\tRead Ch.2 on Circuits in Realworld Computing (Brightspace only for copyright).\t|\t\t|\t\r\n",
    "4\t|\t10/3/23\t|\t**In-class**\t|\t Intro to geographic data and projections.\t|\t\t|\t\r\n",
    "\t|\t\t|\t**Lab**\t|\tExercise on mapping and exercise on creating modules. Individual term project discussions with Brice\t|\t\t|\t\r\n",
    "\t|\t\t|\t**Outside**\t|\tExercise on mapping and exercise on creating modules.\t|\t\t|\t\r\n",
    "5\t|\t10/10/23\t|\t**In-class**\t|\tNo class\t|\t\t|\t\r\n",
    "\t|\t(Columbus Day Makeup)\t|\t**Lab**\t|\tNo class\t|\t\t|\t\r\n",
    "\t|\t\t|\t**Outside**\t|\tNo class\t|\t\t|\t\r\n",
    "6\t|\t10/17/23\t|\t**In-class**\t|\tPresentation on I/O Wire up LED and thermistor. [Analyze an LED circuit](../led-voltage-analysis.html). \t|\t\t|\tSubmit your [term project proposal](../Assignments/Term_Project_Proposal_2021.pdf).\r\n",
    "\t|\t\t|\t**Lab**\t|\tLED circuit programmed to activate at interval and at keystroke. Prepare [term project proposal](../Assignments/Term_Project_Proposal_2021.pdf).\t|\t\t|\tQuiz on circuits\r\n",
    "\t|\t\t|\t**Outside**\t|\tFinish LED lab with polled LED functionality\t|\t\t|\t\r\n",
    "7\t|\t10/24/23\t|\t**In-class**\t|\tReading and collecting serial data, connect Arduino to Python to measure temperature.\t|\t\t|\t\r\n",
    "\t|\t\t|\t**Lab**\t|\tBuild and analyze thermistor circuit,   Make plan to collect data.\t|\t\t|\t\r\n",
    "\t|\t\t|\t**Outside**\t|\tCollect overnight temperature data, plot.\t|\t\t|\t\r\n",
    "8\t|\t10/31/23\t|\t**In-class**\t|\tStatistics for sequential data: Regression, auto/cross correlation, confidence intervals, bootstrapping.\t|\t\t|\t\r\n",
    "\t|\t\t|\t**Lab**\t|\tCalibrate thermistors. \t|\t\t|\t\r\n",
    "\t|\t\t|\t**Outside**\t|\tExercise on Regression, confidence intervals, bootstrapping.\t|\t\t|\t\r\n",
    "9\t|\t11/7/23\t|\t**In-class**\t|\tMore on [modules and directory structures](../modules-and-directory-structures.html). [Intro to Unix](../introduction-to-unix.html).\t|\t\t|\t\r\n",
    "\t|\t\t|\t**Lab**\t|\tIntro to [HPC environment](../hpc-introduction.html).\t|\t\t|\t\r\n",
    "\t|\t\t|\t**Outside**\t|\tTerm project work session. \t|\t\t|\t\r\n",
    "10\t|\t11/14/23\t|\t**In-class**\t|\tIntroduction to Raspberry Pi\t|\t\t|\t\r\n",
    "\t|\t\t|\t**Lab**\t|\tRaspberry Pi connection to Arduino thermistor\t|\t\t|\t\r\n",
    "\t|\t\t|\t**Outside**\t|\tDeploy RasPi Camera traps\t|\t\t|\t\r\n",
    "11\t|\t11/21/23\t|\t**In-class**\t|\tPackaging for github\t|\t\t|\tQuiz on Markdown, Unix shell commands, modules, Pandas \r\n",
    "\t|\t\t|\t**Lab**\t|\tSubmit a package to github\t|\t\t|\t\r\n",
    "\t|\t\t|\t**Outside**\t|\tWork on term project\t|\t\t|\t\r\n",
    "12\t|\t11/28/23\t|\t**In-class**\t|\tHigh-performance computing exercise on LANDSAT data\t|\t\t|\t\r\n",
    "\t|\t\t|\t**Lab**\t|\tLarge array processing. \t|\t\t|\tThanksgiving week (Nov 23-26)\r\n",
    "\t|\t\t|\t**Outside**\t|\tExercise on HPC.\t|\t\t|\t\r\n",
    "13\t|\t12/5/23\t|\t**In-class**\t|\tBenchmarking and efficient code in Pandas/Numpy\t|\t\t|\t\r\n",
    "\t|\t\t|\t**Lab**\t|\tExercise on Benchmarking\t|\t\t|\t\r\n",
    "\t|\t\t|\t**Outside**\t|\tTerm project work session. \t|\t\t|\t\r\n",
    "14\t|\t12/12/23\t|\t**In-class**\t|\tTerm project presentations\t|\t\t|\tLast day of class\r\n",
    "\t|\t\t|\t**Lab**\t|\tTerm project presentations\t|\t\t|\t\r\n",
    "\t|\t\t|\t**Term project presentations\t|\t\t|\t\r\n",
    "\t\t\t\t\t\t\t\t\t\tutside**\t|\tTerm project presentations\t|\t\t|\tutside**\t|\tTerm project presentations\t|\t\t|\tutside**\t|\tTerm project presentations\t|\t\t|\tutside**\t|\tTerm project presentations\t|\t\t|\t"
   ]
  }
 ],
 "metadata": {
  "kernelspec": {
   "display_name": "Python 3 (ipykernel)",
   "language": "python",
   "name": "python3"
  },
  "language_info": {
   "codemirror_mode": {
    "name": "ipython",
    "version": 3
   },
   "file_extension": ".py",
   "mimetype": "text/x-python",
   "name": "python",
   "nbconvert_exporter": "python",
   "pygments_lexer": "ipython3",
   "version": "3.11.4"
  }
 },
 "nbformat": 4,
 "nbformat_minor": 4
}
