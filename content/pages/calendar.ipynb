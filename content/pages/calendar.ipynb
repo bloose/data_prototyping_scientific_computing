{
 "cells": [
  {
   "cell_type": "markdown",
   "metadata": {},
   "source": [
    "**Year-2023.**\n",
    "**Time: Tue, 15:30-19:30h,**\n",
    "**Location: Library Room 166**\n"
   ]
  },
  {
   "attachments": {},
   "cell_type": "markdown",
   "metadata": {},
   "source": [
    "Date\t|\tActivity\t|\tLecture topic\t|\tWorksheets + Notes\t|\tImportant Dates\n",
    ":--------------\t|\t:---------------\t|\t:---------------------------------------------------------------------------------\t|\t:----------\t|\t:----------\n",
    "9/12/23\t|\t**In-class**\t|\tWelcome, goals, Introduction to algorithms.\t|\t\t|\t\n",
    "\t|\t**Lab**\t|\tInstall Jypyter notebooks, use Jupyter to [complete webscraper](../webscraper.html) and [BG Survey](../background-survey.html)\t|\t[Background_survey](../Assignments/Background_survey.ipynb) [webscraper](../Assignments/webscraper.ipynb)\t|\t\n",
    "\t|\t**Outside**\t|\tMake presentation for Week 2.\t|\t\t|\t\n",
    "9/19/23\t|\t**In-class**\t|\tStudent presentations Part 1. [Intro to Sci. Languages](../introduction-to-python.html): Data types, indexing, bools, loops. \t|\t[Intro_Python.ipynb](../Assignments/Intro_Python.ipynb) [Basic_stats.ipynb](../Assignments/Basic_stats.ipynb)\t|\t\n",
    "\t|\t**Lab**\t|\tInvestigate and present coding structures in class.  Begin working on [basic_stats.ipynb](../basic-stats.html).\t|\t\t|\t\n",
    "\t|\t**Outside**\t|\tComplete basic_stats.  Read: [Enthought_numpy slides on arrays](https://github.com/enthought/Numpy-Tutorial-SciPyConf-2019/archive/master.zip), [Numpy docs](https://numpy.org/doc/stable/), and [Matplotlib.pyplot docs](https://matplotlib.org/stable/tutorials/introductory/pyplot.html#sphx-glr-tutorials-introductory-pyplot-py)\t|\t\t|\t\n",
    "9/26/23\t|\t**In-class**\t|\tStudent presentations Part 2.\t|\t[Arrays in Numpy](../Assignments/Numpy_Arrays_Indexing.ipynb)\t|\t\n",
    "\t|\t**Lab**\t|\t [Arrays in Numpy](../intro-to-numpy-and-indexing-in-2d-arrays.html). Data visualization.map making. \t|\t[Data vis with Matplotlib](../Assignments/plotting_matplotlib.ipynb)\t|\t\n",
    "\t|\t**Outside**\t|\tFinish worksheets on [data vis. with Matplotlib](../plotting-in-matplotlib.html) and [map making](../geoplotting-with-cartopy.html).\t|\t[Map making](../Assignments/geoplot_worksheet.ipynb)\t|\t\n",
    "10/3/23\t|\t**In-class**\t|\tMapping, modules, more on loops.\t|\t\t|\tQuiz on indexing, data types, loops\n",
    "\t|\t**Lab**\t|\tExercise on mapping and [exercise on recursion](../using-loops-and-recursion-to-solve-problems.html). Individual term project discussions with Brice\t|\t[More on loops, modules + recursion](../Assignments/More_Loops+Recursion.ipynb)\t|\t\n",
    "\t|\t**Outside**\t|\tRead Ch.2 on Circuits in Realworld Computing (Brightspace only for copyright). Prepare term project proposal.\t|\t\t|\t\n",
    "10/10/23\t|\t**In-class**\t|\tNo class\t|\t\t|\tSubmit your [term project proposal](../Assignments/Term_Project_Proposal_2021.pdf).\n",
    "(Columbus Day Makeup)\t|\t**Lab**\t|\tNo class\t|\t\t|\t\n",
    "\t|\t**Outside**\t|\tNo class\t|\t\t|\t\n",
    "10/17/23\t|\t**In-class**\t|\tPresentation on I/O Wire up LED and thermistor. [Analyze an LED circuit](../led-voltage-analysis.html). \t|\t[Data_Measurement.pdf](../Assignments/Data_Measurement.pdf) [LED Lab](../Assignments/LED_Lab_2023.pdf)\t|\t\n",
    "\t|\t**Lab**\t|\tLED circuit programmed to activate at interval and at keystroke. [Keyboard-polled LED](../polled-led.html)\t|\t[led_voltage_analysis](../Assignments/led_voltage_analysis.ino)\t|\tQuiz on circuits\n",
    "\t|\t**Outside**\t|\tFinish LED lab with polled LED functionality\t|\t[Keyboard-polled LED](../Assignments/polled_led.ino)\t|\t\n",
    "10/24/23\t|\t**In-class**\t|\tReading and collecting serial data, connect Arduino to Python to measure temperature.\t|\t[Serial_Notes.pdf](../Assignments/Serial_Notes.pdf) \t|\t\n",
    "\t|\t**Lab**\t|\tBuild and analyze thermistor circuit,   Make plan to collect data.\t|\t[Thermistor_Lab_part1.pdf](../Assignments/Thermistor_Lab_part1.pdf) [Therm_Lab_2023.ino](../Assignments/Therm_Lab_2023.ino) [Timekeeping_in_python.ipynb](../Assignments/Timekeeping_in_python.ipynb) \t|\t\n",
    "\t|\t**Outside**\t|\tCollect overnight temperature data, plot.\t|\t[Thermistor_Lab_part2.pdf](../Assignments/Thermistor_Lab_part2.pdf) [therm_plotter_polled.ipynb](../Assignments/therm_plotter_polled.ipynb)\t|\t\n",
    "10/31/23\t|\t**In-class**\t|\tStatistics for sequential data: Regression, auto/cross correlation, confidence intervals, bootstrapping.\t|\t[calibration_notes.pdf](../Assignments/calibration.pdf) [Heat flow and covariance](../Assignments/Heat_flow_covariance.pdf)\t|\t\n",
    "\t|\t**Lab**\t|\tCalibrate thermistors. \t|\t[week08_inclass.zip](../Assignments/week08_inclass.zip)\t|\t\n",
    "\t|\t**Outside**\t|\tExercise on Regression, confidence intervals, bootstrapping.\t|\t [Thermistor_analysis.ipynb](../Assignments/Thermistor_analysis.ipynb) \t|\t\n",
    "11/7/23\t|\t**In-class**\t|\t[Intro to Unix](../introduction-to-unix.html).\t|\t [Intro_Unix_Navigating.ipynb](../Assignments/Intro_Unix_Navigating.ipynb) \t|\t\n",
    "\t|\t**Lab**\t|\tIntro to [HPC environment](../hpc-introduction.html).\t|\t [HPC_Intro.ipynb](../Assignments/HPC_Intro.ipynb) , [landsatexplore.py](../Assignments/landsatexplore.py)\t|\t\n",
    "\t|\t**Outside**\t|\tTerm project work session. \t|\t\t|\t\n",
    "11/14/23\t|\t**In-class**\t|\tIntroduction to Raspberry Pi\t|\t\t|\t\n",
    "\t|\t**Lab**\t|\tRaspberry Pi connection to Arduino thermistor\t|\t\t|\t\n",
    "\t|\t**Outside**\t|\tDeploy RasPi Camera traps\t|\t\t|\t\n",
    "11/21/23\t|\t**In-class**\t|\tPackaging for github\t|\t\t|\tQuiz on Markdown, Unix shell commands, modules, Pandas \n",
    "\t|\t**Lab**\t|\tSubmit a package to github\t|\t\t|\t\n",
    "\t|\t**Outside**\t|\tWork on term project\t|\t\t|\t\n",
    "11/28/23\t|\t**In-class**\t|\tHigh-performance computing exercise on LANDSAT data\t|\t\t|\t\n",
    "\t|\t**Lab**\t|\tLarge array processing. \t|\t\t|\tThanksgiving week (Nov 23-26)\n",
    "\t|\t**Outside**\t|\tExercise on HPC.\t|\t\t|\t\n",
    "12/5/23\t|\t**In-class**\t|\tBenchmarking and efficient code in Pandas/Numpy\t|\t\t|\t\n",
    "\t|\t**Lab**\t|\tExercise on Benchmarking\t|\t\t|\t\n",
    "\t|\t**Outside**\t|\tTerm project work session. \t|\t\t|\t\n",
    "12/12/23\t|\t**In-class**\t|\tTerm project presentations\t|\t\t|\tLast day of class\n",
    "\t|\t**Lab**\t|\tTerm project presentations\t|\t\t|\t\n",
    "\t|\t**Outside**\t|\tTerm project presentations\t|\t\t|"
   ]
  }
 ],
 "metadata": {
  "kernelspec": {
   "display_name": "Python 3 (ipykernel)",
   "language": "python",
   "name": "python3"
  },
  "language_info": {
   "codemirror_mode": {
    "name": "ipython",
    "version": 3
   },
   "file_extension": ".py",
   "mimetype": "text/x-python",
   "name": "python",
   "nbconvert_exporter": "python",
   "pygments_lexer": "ipython3",
   "version": "3.9.12"
  }
 },
 "nbformat": 4,
 "nbformat_minor": 4
}
