{
 "cells": [
  {
   "cell_type": "markdown",
   "metadata": {},
   "source": [
    "### Reading and decoding Temperature Data from Arduino\n",
    "#### (This is Part 2 of the Measuring Temperature Lab ).\n",
    "\n",
    "** For this lab you will need pyserial.  This can be installed thru Anaconda the same way we did Basemap. \n",
    "Try either of the following options for installation. **\n",
    "\n",
    "```\n",
    "# Use an R kernel from jupyterlab\n",
    "install.packages(\"serial\")\n",
    "\n",
    "```"
   ]
  },
  {
   "cell_type": "markdown",
   "metadata": {},
   "source": [
    "### Some Cliff Notes on Dataframes \n",
    "\n",
    "This exercise uses dataframes.  Base R generates data frames by default.  At the time of creation, it is possible to specify the name and data type of each column in the dataframe.\n",
    "\n",
    "```\n",
    "# time is stored as a string, while resitance and temperature are numeric\n",
    "\n",
    "dd <- data.frame(time = character(), resistance = numeric(), Temp = numeric())\n",
    "\n",
    "```\n"
   ]
  },
  {
   "cell_type": "code",
   "execution_count": 7,
   "metadata": {},
   "outputs": [],
   "source": [
    "# Load the libraries\n",
    "# install.packages(\"serial\")\n",
    "library(\"serial\")\n",
    "library(\"lubridate\")"
   ]
  },
  {
   "cell_type": "markdown",
   "metadata": {},
   "source": [
    "**Open the serial connection using the serialConnection() command.**\n",
    "\n",
    "You will need to find the exact port name on your computer. Hint: This can be found in the Arduino Tools menu under \"port\"."
   ]
  },
  {
   "cell_type": "code",
   "execution_count": 8,
   "metadata": {},
   "outputs": [
    {
     "name": "stderr",
     "output_type": "stream",
     "text": [
      "Warning message in open.serialConnection(S):\n",
      "“cu.usbmodem1101 is already open and will be reconfigured!”\n"
     ]
    },
    {
     "data": {
      "text/html": [
       "'Reconfigure!'"
      ],
      "text/latex": [
       "'Reconfigure!'"
      ],
      "text/markdown": [
       "'Reconfigure!'"
      ],
      "text/plain": [
       "[1] \"Reconfigure!\""
      ]
     },
     "metadata": {},
     "output_type": "display_data"
    },
    {
     "name": "stdout",
     "output_type": "stream",
     "text": [
      "Port cu.usbmodem1101 ( 9600,n,8,1 ) is open.\n",
      "Buffer usage (in/out): 9/0 \n"
     ]
    },
    {
     "name": "stderr",
     "output_type": "stream",
     "text": [
      "Warning message in print.serialConnection(S):\n",
      "“Try summary() for more information!”\n"
     ]
    }
   ],
   "source": [
    "# Assign the serial object that you will write to and read from\n",
    "#S <- serialConnection(port = \"cu.usbmodem1101\",mode = \"9600,n,8,1\")\n",
    "#open(S)"
   ]
  },
  {
   "cell_type": "markdown",
   "metadata": {},
   "source": [
    "**Initialize the three variables you will be using to store (time, resistance, temperature).**"
   ]
  },
  {
   "cell_type": "code",
   "execution_count": 3,
   "metadata": {},
   "outputs": [],
   "source": [
    "# Initialize  dataframe to capture time, resistence, and Temp, as shown in datetime notes.\n",
    "\n"
   ]
  },
  {
   "cell_type": "markdown",
   "metadata": {},
   "source": [
    "**Set the coefficients for the Steinhart-Hart equation**"
   ]
  },
  {
   "cell_type": "code",
   "execution_count": 4,
   "metadata": {},
   "outputs": [],
   "source": [
    "##1/T = A + B*Ln(R) + C(Ln(R))^3\n",
    "A = 0.001125308852122\n",
    "B = 0.000234711863267\n",
    "C = 0.000000085663516"
   ]
  },
  {
   "cell_type": "code",
   "execution_count": 6,
   "metadata": {},
   "outputs": [],
   "source": [
    "# Set a while loop or for loop.  You can make it go indefinitely until you kill the loop with Kernel -> Interrupt.\n",
    "#lp = 0\n",
    "#stop <- 'go'\n",
    "\n",
    "# Use a for or while loop.  You can make it go indefinitely until you kill the loop with Kernel -> Interrupt.\n",
    "#while (stop == 'go'){\n",
    "\n",
    "\n",
    "    # Use the write.serialConnection() command to send a data request to the Arduino.\n",
    "\n",
    "    # Sys.sleep(2) # Add an N-second pause to allow the buffer to be filled.\n",
    "\n",
    "    # Read a line from the Serial data object stored in 'S'. Note, readline() line returns a byte array. \n",
    "    # You can convert to a string using decode('utf-8').  You may also want to investigate the .strip() function \n",
    "    # that will remove unwanted characters. \n",
    "    a <- read.serialConnection(S)\n",
    "\n",
    "    \n",
    "    # Parse the string.  In R, it will be easiest to just send the numeric value of resistance without any\n",
    "    # other text characters.\n",
    "    \n",
    "    # Use an 'if statement' if necessary and append the new resistance value to the array 'R' that was initialized \n",
    "    # above.\n",
    "    # Compute Temperature using A, B, C coefficients and the resistance value.\n",
    "    # Convert Temp in deg Kelvin to deg C.\n",
    "    # Record the date and time using the datetime package.  \n",
    "    # Append the datetime, resistance, and temperature as a new row in your Pandas Dataframe.\n",
    "    if (a != \"\") {\n",
    "      tryCatch(\n",
    "    {\n",
    "            # Get the time stamp for now\n",
    "\n",
    "            # Convert the resistance reading from the serial connnection into a numeric value\n",
    "\n",
    "            # Compute temperature from resistance and the Steinhar-Hart coefficients.\n",
    "    \n",
    "            \n",
    "            # Append a new row with current time and iterator value with rbind\n",
    "\n",
    "    },\n",
    "    error = function(e) {\n",
    "      print(\"incomplete string\")\n",
    "    }\n",
    "      )\n",
    "    }\n",
    "\n",
    "\n",
    "\n",
    "    # Save the data to a csv using the pandas function df.to_csv() where df is the name of your dataframe.\n",
    "    # You can use a conditional statement to do this every N'th time, e.g. every 100th time.\n",
    "  \n",
    "    write.csv(dd, \"my_data.csv\")\n",
    "}\n",
    "\n",
    "close(S)\n",
    "        "
   ]
  },
  {
   "cell_type": "markdown",
   "metadata": {},
   "source": [
    "### Completing your data collection\n",
    "\n",
    "1. Close the connection to the Serial data object.  (THIS IS REALLY IMPORTANT)!!!\n",
    "2. Make a plot of Temperature vs. time."
   ]
  },
  {
   "cell_type": "code",
   "execution_count": null,
   "metadata": {},
   "outputs": [],
   "source": []
  },
  {
   "cell_type": "markdown",
   "metadata": {},
   "source": [
    "**Make a plot of Temperature vs. datetime.   Save that plot using plt.savefig() **"
   ]
  },
  {
   "cell_type": "code",
   "execution_count": null,
   "metadata": {},
   "outputs": [],
   "source": []
  },
  {
   "cell_type": "markdown",
   "metadata": {},
   "source": [
    "### What to turn in: \n",
    "See instructions in Thermistor Lab Part 2."
   ]
  }
 ],
 "metadata": {
  "anaconda-cloud": {},
  "kernelspec": {
   "display_name": "R",
   "language": "R",
   "name": "ir"
  },
  "language_info": {
   "codemirror_mode": "r",
   "file_extension": ".r",
   "mimetype": "text/x-r-source",
   "name": "R",
   "pygments_lexer": "r",
   "version": "4.1.3"
  }
 },
 "nbformat": 4,
 "nbformat_minor": 4
}
