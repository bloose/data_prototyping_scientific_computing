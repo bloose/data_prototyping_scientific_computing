{
 "cells": [
  {
   "cell_type": "markdown",
   "metadata": {
    "collapsed": true,
    "jupyter": {
     "outputs_hidden": true
    }
   },
   "source": [
    "# Plotting exercise\n",
    "\n",
    "**NOTE: Use Enthought slides.pdf Matplotlib tutorial as well as generative AI to help with this exercise.**\n",
    "\n",
    "Gen AI exampls:\n",
    "1. Show me code to make a multipanel plot in R?\n",
    "2. How can I plot an image in Python?\n",
    "\n",
    "In Jupyter, create a plot display that looks like the following:\n",
    "\n",
    "<img src=\"https://bloose.github.io/data_prototyping_scientific_computing/images/sample_plots.png\" width=\"400\"></img>\n",
    "\n",
    "`Photo credit: David Fettig\n",
    "<http://www.publicdomainpictures.net/view-image.php?image=507>`_"
   ]
  },
  {
   "cell_type": "code",
   "execution_count": null,
   "metadata": {},
   "outputs": [],
   "source": [
    "# Copyright 2015 Enthought, Inc. All Rights Reserved\n",
    "\"\"\"\n",
    "Plotting\n",
    "--------\n",
    "This is a 2x2 layout, with 3 slots occupied.\n",
    "\n",
    "1. Sine function, with blue solid line; cosine with red '+' markers; the\n",
    "   extents fit the plot exactly. Hint: see the axis() function for setting the\n",
    "   extents.\n",
    "2. Sine function, with gridlines, axis labels, and title; the extents fit the\n",
    "   plot exactly.\n",
    "3. Image with color map; the extents run from -10 to 10, rather than the\n",
    "   default.\n",
    "\n",
    "Save the resulting plot image to a file. (Use a different file name, so you\n",
    "don't overwrite the sample.)\n",
    "\n",
    "The color map in the example is 'winter'; use 'cm.<tab>' to list the available\n",
    "ones, and experiment to find one you like.\n",
    "\n",
    "Tip: If you find that the label of one plot overlaps another plot, try adding\n",
    "a call to `tight_layout()` to your script.\n",
    "\"\"\""
   ]
  },
  {
   "cell_type": "code",
   "execution_count": 12,
   "metadata": {},
   "outputs": [],
   "source": [
    "# Import the modules or libraries you will need.  \n",
    "# For Python these are numpy, matplotlib.pyplot\n",
    "# For R these are magick, ggplot, and others.\n",
    "\n",
    "# Create a 1D array 'x' with ~100 divisions between 0 and 2*pi, hint: linspace()\n",
    "# Use x to create two more arrays with values sin(x) and cos(x)\n",
    "# Plot those in the first subplot.  When you are done, the plot should look like panel 1 in the image above.\n",
    "\n",
    "\n",
    "# 2nd subplot: Follow the instructions above to replication panel 2 in the image above.\n",
    "\n",
    "\n",
    "# 3rd subplot. Read the image dc_metro.JPG into python and plot as a colormap.\n",
    "\n",
    "\n",
    "\n",
    "# Don't forget to issue the 'show' command \n",
    "# plt.show()\n",
    "\n",
    "\n",
    "#plt.savefig('multipanel_<LastName>.png')"
   ]
  },
  {
   "cell_type": "markdown",
   "metadata": {},
   "source": [
    "### What to submit:\n",
    "    \n",
    "Upload the following files to Brightspace Assignment Week03\n",
    "1. A completed copy of this .ipynb that can reproduce the figure sample_plots.png\n",
    "1. A .png or .jpg copy of the figure you generated with this code."
   ]
  },
  {
   "cell_type": "code",
   "execution_count": null,
   "metadata": {},
   "outputs": [],
   "source": []
  }
 ],
 "metadata": {
  "anaconda-cloud": {},
  "kernelspec": {
   "display_name": "Python 3 (ipykernel)",
   "language": "python",
   "name": "python3"
  },
  "language_info": {
   "codemirror_mode": {
    "name": "ipython",
    "version": 3
   },
   "file_extension": ".py",
   "mimetype": "text/x-python",
   "name": "python",
   "nbconvert_exporter": "python",
   "pygments_lexer": "ipython3",
   "version": "3.11.10"
  }
 },
 "nbformat": 4,
 "nbformat_minor": 4
}
