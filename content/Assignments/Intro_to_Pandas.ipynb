{
 "cells": [
  {
   "cell_type": "markdown",
   "metadata": {},
   "source": [
    "## Intro to Pandas\n",
    "\n",
    "\n",
    "**Pandas is a Python library that provides a sophisticated data structure for organization and analysis. It excels at categorizing data and at time series operations**.\n",
    "\n",
    "Check out: \n",
    "https://pandas.pydata.org/pandas-docs/stable/10min.html\n",
    "https://www.youtube.com/watch?v=F6kmIpWWEdU\n",
    "\n",
    "Advantages of Pandas\n",
    " 1. Can read many files: .xls, .csv, any delimited text file, as well as JSON and SQL.\n",
    " 2. Very smart with identifying data types, e.g. text, integer, float, or even dates.\n",
    " 3. Allows data indexing along row, column or subrow or subcolumn.\n",
    " 4. Contains many built-in analysis functions for operating on DataFrames and Series.\n",
    " 5. Handles missing or empty data.\n"
   ]
  },
  {
   "cell_type": "markdown",
   "metadata": {},
   "source": [
    "## Dataframes use the dict data type. \n",
    "\n",
    "**dict** is a way to structure data that allow one to organize the data with names (text)."
   ]
  },
  {
   "cell_type": "code",
   "execution_count": null,
   "metadata": {},
   "outputs": [],
   "source": [
    "# Python example of a dict array.  Note the {} curly brackets and the use of colons.\n",
    "typo = {'spelling':[2,3,4],'counting':['a','b','c']}"
   ]
  },
  {
   "cell_type": "code",
   "execution_count": null,
   "metadata": {},
   "outputs": [],
   "source": [
    "# Using the label 'spelling' I can access the data regardless of the \n",
    "typo['spelling']"
   ]
  },
  {
   "cell_type": "code",
   "execution_count": null,
   "metadata": {},
   "outputs": [],
   "source": [
    "# Dict arrays are easy to Index:\n",
    "typo['spelling'][1:]"
   ]
  },
  {
   "cell_type": "code",
   "execution_count": null,
   "metadata": {},
   "outputs": [],
   "source": [
    "# You can even replace values with this easy indexing.\n",
    "typo['spelling'][1:] = [114,45,66,77]"
   ]
  },
  {
   "cell_type": "markdown",
   "metadata": {},
   "source": [
    "**NOTE:**: Indexing is not quite as easy in Pandas, but still pretty easy."
   ]
  },
  {
   "cell_type": "markdown",
   "metadata": {},
   "source": [
    "<img src=\"https://bloose.github.io/data_prototyping_scientific_computing/images/df_blocks.png\">\n",
    "(c)dataquest.io\n",
    "\n",
    "The Pandas DataFrame allows us to load a complicated file into Python and perform multiple data manipulations efficiently, and without having to recast the data."
   ]
  },
  {
   "cell_type": "markdown",
   "metadata": {},
   "source": [
    "* pd.Series() is analogous to a 1D array, pd.DataFrame() is analogous to a 2D array.\n",
    "\n",
    "* By using **indexes** to help categorize data and provide a hierarchy of categories.  Index applies to row categories.\n",
    "\n",
    "* The column categories are just **columns**."
   ]
  },
  {
   "cell_type": "code",
   "execution_count": null,
   "metadata": {},
   "outputs": [],
   "source": [
    "import pandas as pd"
   ]
  },
  {
   "cell_type": "code",
   "execution_count": null,
   "metadata": {},
   "outputs": [],
   "source": [
    "freight = pd.read_excel('ScienceInventory_Ioffe.xlsx')\n",
    "#freight = pd.read_excel('ScienceInventory_Ioffe.xlsx',index_col='Institution')"
   ]
  },
  {
   "cell_type": "code",
   "execution_count": null,
   "metadata": {},
   "outputs": [],
   "source": [
    "freight.head()  # Plot the first five rows of the dataframe"
   ]
  },
  {
   "cell_type": "code",
   "execution_count": null,
   "metadata": {},
   "outputs": [],
   "source": [
    "# Pandas automatically fills in empty data with NaNs.\n",
    "freight.tail() # Plot the last five rows of the dataframe"
   ]
  },
  {
   "cell_type": "code",
   "execution_count": null,
   "metadata": {},
   "outputs": [],
   "source": [
    "# Pandas is fairly clever about determining the right data type for each column.  \n",
    "# If it can't determine, the default is text and the dtype is \"object\".\n",
    "freight.info()"
   ]
  },
  {
   "cell_type": "code",
   "execution_count": null,
   "metadata": {},
   "outputs": [],
   "source": [
    "freight.values  # You can extract a generic array from the Pandas dataframe, using the .values attribute."
   ]
  },
  {
   "cell_type": "code",
   "execution_count": null,
   "metadata": {},
   "outputs": [],
   "source": [
    "# Change the row index to the 'Institution', instead of the numeric row number.  \n",
    "# This provides another level of organization and data access, a little bit like an SQL relational database.\n",
    "freight = freight.set_index('Institution')"
   ]
  },
  {
   "cell_type": "code",
   "execution_count": null,
   "metadata": {},
   "outputs": [],
   "source": [
    "freight.head()"
   ]
  },
  {
   "cell_type": "code",
   "execution_count": null,
   "metadata": {},
   "outputs": [],
   "source": [
    "freight['Weight (lbs)']['U. Illinois Chicago']  # Report the weights column for UIC freight."
   ]
  },
  {
   "cell_type": "code",
   "execution_count": null,
   "metadata": {},
   "outputs": [],
   "source": [
    "freight['Weight (lbs)']['U. Illinois Chicago'].sum()  # Do arithmetic on on the UIC freight."
   ]
  },
  {
   "cell_type": "code",
   "execution_count": null,
   "metadata": {},
   "outputs": [],
   "source": [
    "# This will fail. Note the reversal of indices.\n",
    "\n",
    "freight['U. Illinois Chicago']['Weight (lbs)'].sum()  # Pandas specifies column indices first, then row indices."
   ]
  },
  {
   "cell_type": "code",
   "execution_count": null,
   "metadata": {},
   "outputs": [],
   "source": [
    "# Read in a text file that is delimited by whitespace.  '\\s+' allows multiple whitespace characters to exist \n",
    "# between each entry.\n",
    "\n",
    "# If file has a header, you need to tell read_csv() how many rows to skip, or it will misinterpret the shape of the\n",
    "# dataframe.\n",
    "ts = pd.read_csv('20151028 blank test.asc',sep='\\t',skiprows=7,parse_dates=[0,3])\n",
    "print(ts.info())\n",
    "ts.head()"
   ]
  },
  {
   "cell_type": "code",
   "execution_count": null,
   "metadata": {},
   "outputs": [],
   "source": [
    "# This is timeseries data, so we should utilize a datetime data type as the row index.   \n",
    "# First, we have to create datetime. \n",
    "\n",
    "fname = 'timeseries2.txt'\n",
    "# Read in the data and specify columns 3 and 4 - date and time as string data type.\n",
    "ts = pd.read_csv(fname,sep=',',skiprows=1,header=None,dtype={4:'str',5:'str'})\n",
    "# Add the strings together, convert them to a datetime and save the result in column 3.\n",
    "ts[4] = pd.to_datetime(ts[4]+' '+ts[5])\n",
    "ts.info()"
   ]
  },
  {
   "cell_type": "code",
   "execution_count": null,
   "metadata": {},
   "outputs": [],
   "source": [
    "# Set the index to be the datetime column.\n",
    "ts.set_index(ts[4],inplace=True)\n",
    "ts.head()"
   ]
  },
  {
   "cell_type": "code",
   "execution_count": null,
   "metadata": {
    "scrolled": true
   },
   "outputs": [],
   "source": [
    "# Pandas provides capabilities to manipulate the time base in your timeseries dataframe.  These are possible, once\n",
    "# you specify a datetime or time column as the row index, as we did above.\n",
    "\n",
    "# Upsample, but don't replace the values by any interpolation method.\n",
    "#ts.resample('1min').asfreq()\n",
    "\n",
    "# Upsample, but replace the values by the constant forward fill method.\n",
    "#ts.resample('1min').pad()\n",
    "\n",
    "# Upsample, but replace the values by a linear interpolation.\n",
    "# ts.resample('1min').interpolate()"
   ]
  },
  {
   "cell_type": "code",
   "execution_count": null,
   "metadata": {},
   "outputs": [],
   "source": [
    "typo = {'spelling':[2,3,4],'counting':['a','b','c']}\n"
   ]
  },
  {
   "cell_type": "code",
   "execution_count": null,
   "metadata": {},
   "outputs": [],
   "source": [
    "typo"
   ]
  },
  {
   "cell_type": "code",
   "execution_count": null,
   "metadata": {},
   "outputs": [],
   "source": [
    "typo['spelling']"
   ]
  },
  {
   "cell_type": "code",
   "execution_count": null,
   "metadata": {},
   "outputs": [],
   "source": [
    "typo['spelling'].append(5)"
   ]
  },
  {
   "cell_type": "code",
   "execution_count": null,
   "metadata": {},
   "outputs": [],
   "source": []
  },
  {
   "cell_type": "code",
   "execution_count": null,
   "metadata": {},
   "outputs": [],
   "source": [
    "freight['Number'][10:15] = [114,45,66,77,101]"
   ]
  },
  {
   "cell_type": "code",
   "execution_count": null,
   "metadata": {},
   "outputs": [],
   "source": [
    "typo['spelling'][1:] = [114,45,66,77]"
   ]
  },
  {
   "cell_type": "code",
   "execution_count": null,
   "metadata": {},
   "outputs": [],
   "source": []
  }
 ],
 "metadata": {
  "kernelspec": {
   "display_name": "Python 3 (ipykernel)",
   "language": "python",
   "name": "python3"
  },
  "language_info": {
   "codemirror_mode": {
    "name": "ipython",
    "version": 3
   },
   "file_extension": ".py",
   "mimetype": "text/x-python",
   "name": "python",
   "nbconvert_exporter": "python",
   "pygments_lexer": "ipython3",
   "version": "3.11.10"
  }
 },
 "nbformat": 4,
 "nbformat_minor": 4
}
