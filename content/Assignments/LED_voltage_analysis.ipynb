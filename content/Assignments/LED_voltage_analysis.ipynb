{
 "cells": [
  {
   "cell_type": "markdown",
   "id": "ee9d8330",
   "metadata": {},
   "source": [
    "## Arduino code block for LED voltage analysis.\n",
    "\n",
    "The .ino exercise can be downloaded [here](https://bloose.github.io/data_prototyping_scientific_computing/Assignments/led_voltage_analysis.ino).  The code will compile and execute in the Arduino Serial Monitor, but it is meant to be completed, following the [LED Lab Instructions](https://bloose.github.io/data_prototyping_scientific_computing/Assignments/LED_Lab_2021.pdf)\n",
    "\n",
    "```\n",
    "// This is the declaration section.  Assign pin numbers to variables for use in code.\n",
    "\n",
    "// This line assigns Analog Pin 0 to the variable aPin.\n",
    "#define aPin0 0\n",
    "\n",
    "// Do the same thing for Analog Pin 2.   We will use this to measure voltage at a different point\n",
    "\n",
    "\n",
    "//  This is setup function.  It initializes the pins as well as the serial communication between\n",
    "//  Arduino and the computer.\n",
    "void setup() {\n",
    "  \n",
    "  // Tell the Serial monitor to use a baud rate of 9600.  This is the data transfer rate.\n",
    "  Serial.begin(9600);\n",
    "  \n",
    "  // Use the pinMode function to tell Arduino to put Analog Pin 0 into INPUT mode so it can watch for\n",
    "  // a signal.\n",
    "  pinMode(aPin0, INPUT);\n",
    "  \n",
    "  // Do the same for Analog Pin 2.\n",
    "\n",
    "  \n",
    "}\n",
    "\n",
    "// This is the loop structure that will operate continuously as long as the arduino is powered.\n",
    "void loop() {\n",
    "  \n",
    "  //Read an integer from analogRead and record\n",
    "  int Vin_digital = analogRead(aPin0);\n",
    "  // Make the analog to digital conversion to report the value in Volts.\n",
    "  float Vin = 5*float(Vin_digital)/1023;\n",
    "  \n",
    "  // Do the same for Analog Pin 2.\n",
    "  \n",
    "  // Print the following info to the Serial Monitor.\n",
    "  Serial.print(\"The value of Vin is: \");\n",
    "  Serial.println(Vin);\n",
    "\n",
    "  // Do the same for Analog Pin 2.\n",
    "  \n",
    "  // Add a delay so it doesn't go too fast to read.\n",
    "  delay(2000);  //This is a 2 second delay.  Delay works in milliseconds.\n",
    "\n",
    "}\n",
    "```"
   ]
  }
 ],
 "metadata": {
  "kernelspec": {
   "display_name": "Python 3 (ipykernel)",
   "language": "python",
   "name": "python3"
  },
  "language_info": {
   "codemirror_mode": {
    "name": "ipython",
    "version": 3
   },
   "file_extension": ".py",
   "mimetype": "text/x-python",
   "name": "python",
   "nbconvert_exporter": "python",
   "pygments_lexer": "ipython3",
   "version": "3.9.12"
  }
 },
 "nbformat": 4,
 "nbformat_minor": 5
}
