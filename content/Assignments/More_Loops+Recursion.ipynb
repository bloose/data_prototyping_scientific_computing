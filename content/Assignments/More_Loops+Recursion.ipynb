{
 "cells": [
  {
   "cell_type": "markdown",
   "id": "2b91d5d2",
   "metadata": {},
   "source": [
    "## Loops part 2, functions review, and recursion.\n",
    "\n",
    "1. For loops complete a set of repeat instructions by stepping through a list of elements in sequential order. This is often either the elements in a list, tuple or numpy array data type.  A for loop can also be set up to step through an index, where the index steps through array elements.\n",
    "\n",
    "1. While loops complete a set of repeat instructions until a condition is met, based on a conditional operator like (>, <, or ==).  While loops can be useful when you need to keep iterating for an unspecified number of times, until an outcome is achieved.  This is helpful when it is not easy to know how many times will be required to complete the loop.\n",
    "\n",
    "1. The last kind of loop is a unique programming concept called recursion.  This loop takes the operation or algorithm and breaks it into a set of smaller, nested, and sometimes simpler operations.  This is accomplished by allowing the function to call itself until a condition is met.\n"
   ]
  },
  {
   "cell_type": "markdown",
   "id": "b8f2b6a1",
   "metadata": {},
   "source": [
    "### A note about functions (modules)\n",
    "\n",
    "1. You can pass more than one variable into a function - all these values go inside the parentheses on the 'def' line:\n",
    " ``` \n",
    " def calcsomething(input1,input2,input3): \n",
    " \n",
    " ```\n",
    "1. You can also specify the default values for an input variable. This is called overloading and it allows the user of the function to specify the input, or not.\n",
    " ``` \n",
    " def calcsomething(input1,input2,input3='yesplot')\n",
    " \n",
    " ```\n",
    "\n",
    "When calcsomething is evaluated, it can be called several ways\n",
    " ``` \n",
    "I1 = 1.;  I2 = 2.; I3 = 'noplot';\n",
    "calcsomething(I1,I2,I3); \n",
    "\n",
    "```\n",
    "\n",
    "or\n",
    "``` \n",
    "calcsomething(I1,I2); #In this case, I3 will default to 'yesplot' \n",
    "\n",
    "```\n",
    "\n",
    "### A function can also pass a number of variables out at the return\n",
    "\n",
    "``` \n",
    "def calcsomething(input1,input,input3);\n",
    "    output1 = input1+input2;\n",
    "    output2 = output2/output3;\n",
    "    return output1, output2 \n",
    "```\n"
   ]
  },
  {
   "cell_type": "markdown",
   "id": "7b3376bb",
   "metadata": {},
   "source": [
    " ## 1. For loops, a review"
   ]
  },
  {
   "cell_type": "markdown",
   "id": "ba6105d4",
   "metadata": {},
   "source": [
    "**We have seen how for loops can be used to step through a container object, and become each element in that container:**"
   ]
  },
  {
   "cell_type": "code",
   "execution_count": null,
   "id": "dfb5bc2a",
   "metadata": {},
   "outputs": [],
   "source": [
    "P = 'Fruit'\n",
    "for w in P:\n",
    "    print(w)"
   ]
  },
  {
   "cell_type": "markdown",
   "id": "5aeabac2",
   "metadata": {},
   "source": [
    "**We have seen for loops used with indices to sequentially index objects in a container:**"
   ]
  },
  {
   "cell_type": "code",
   "execution_count": null,
   "id": "fe94fc95",
   "metadata": {},
   "outputs": [],
   "source": [
    "# Looping N times to do an operation with an index\n",
    "\n",
    "su = 0\n",
    "\n",
    "cont = [3,3,4,4,5,4,1,2,3,6]\n",
    "\n",
    "for i in range(10):\n",
    "    #print(i)\n",
    "    su+=i #Sum all instances of i.\n",
    "    print(cont[i])"
   ]
  },
  {
   "cell_type": "markdown",
   "id": "476cbb95",
   "metadata": {},
   "source": [
    "**A for loop can be used to compute the factorial operator:**\n",
    "\n",
    "$$ 5! = (5)*(4)*(3)*(2)*(1) $$\n",
    "$$ N! = N*(N-1)*(N-2)....(N-(N-1))$$"
   ]
  },
  {
   "cell_type": "code",
   "execution_count": null,
   "id": "a08ace88",
   "metadata": {},
   "outputs": [],
   "source": [
    "# Algorithm to use a for loop to calculate factorial\n",
    "# N! = N*(N-1)*(N-2)*(N-3)...*(N-(N-1))\n",
    "\n",
    "# Need to loop in descending order starting from N.\n",
    "# Initialize a variable (su) to hold the result of the multiplication at each step.\n",
    "# Pass su forward in the loop and multiply it by the next value of (N-i), where i in (N-(N-1)).\n",
    "# Use range(start,stop,step) function\n",
    "# Return the result from the function/module.\n",
    "\n",
    "# Write a for loop to compute the factorial\n",
    "\n",
    "def forfakt(N):\n",
    "    # initialize \n",
    "    su = N;\n",
    "    for ni in range(N-1,0,-1): # The Range function can take inputs start,stop,step\n",
    "        su *= ni;\n",
    "    return su\n",
    "            \n",
    "forfakt(4)"
   ]
  },
  {
   "cell_type": "markdown",
   "id": "ece3118f",
   "metadata": {},
   "source": [
    "## 2. While loops\n",
    "\n",
    "While loops are helpful when it's not easy to predict how many iterations are required to reach the end point.  They can be used to iterate an unspecified number of times until a solution converges or to break up an array into an unknown number of chunks, based on some criteria.\n"
   ]
  },
  {
   "cell_type": "code",
   "execution_count": null,
   "id": "c7e62574",
   "metadata": {},
   "outputs": [],
   "source": [
    "# Write an algorithm to compute the factorial with a while loop.\n",
    "def whilefakt(N):   \n",
    "    # initialize an index\n",
    "    idx = 0;\n",
    "    fakt = 1;\n",
    "    while idx < N:\n",
    "        fakt *= (N-idx);\n",
    "        idx += 1  #increment idx.      \n",
    "    return fakt\n",
    "\n",
    "whilefakt(4)"
   ]
  },
  {
   "cell_type": "markdown",
   "id": "68d47df1",
   "metadata": {},
   "source": [
    "### While loops are an effective way to do fixed-point iteration.\n",
    "Fixed point iteration is a way to solve algebraic functions where the unknown can't be isolated, such as rood-finding of quadratic equations.\n",
    "\n",
    "One approach is to use Newton's Fixed-point iteration solver:\n",
    "$$ x_{n+1} = x_n - \\frac{f(x_n)}{f'(x_n)} $$\n",
    "\n",
    "This can be applied to e.g. find the roots of a quadratic equation, although there can be some limits on convergence.\n",
    "\n",
    "An example from chemistry is the solution to the carbonate system equation, in terms of hydrogen ions [H+]\n",
    "\n",
    "$$\n",
    "\\frac{K_0K_1pCO_2}{[H+]}+2\\frac{K_0 K_1 K_2pCO_2}{[H+]^2}+\\frac{K_w}{[H+]}+\\frac{TB K_B S}{[K_B H+]}- ALK = 0\n",
    "$$\n",
    "\n",
    "Here, all terms are constant except hydrogen ion, but hydrogen ion is not separable from the rest of the equation, so we must use root finding or fixed-point iteration to determine the solution.\n"
   ]
  },
  {
   "cell_type": "code",
   "execution_count": null,
   "id": "b2c96f50",
   "metadata": {},
   "outputs": [],
   "source": [
    "# Find a root of the equation x^3+2x+1, using Newton's method.\n",
    "# Algorithm:\n",
    "# Specify an initial value for x.  \n",
    "# Evaluate x_n+1 = x_n -....  at each step.\n",
    "\n",
    "# f(x) = x^3+2x+1\n",
    "# f'(x) = 3x^2 + 2\n",
    "# \n",
    "\n",
    "import numpy as np\n",
    "import matplotlib.pyplot as plt\n",
    "\n",
    "x = 100; # initial guess for x\n",
    "Dx = 10; # initial value for \n",
    "plt.figure()\n",
    "j=0\n",
    "\n",
    "Err = 2e-7\n",
    "\n",
    "while np.abs(Dx) > Err:\n",
    "    \n",
    "    fx = x**3 + 2*x + 1\n",
    "    dx = 3*x**2 + 2\n",
    "    xi = x - fx/dx\n",
    "    plt.plot(j,xi,'.'); plt.ylabel('$x_i$'); plt.xlabel('iteration')\n",
    "    \n",
    "    # compute Dx\n",
    "    Dx = (xi - x)\n",
    "    \n",
    "    x = xi\n",
    "    j+=1\n",
    "    \n",
    "print(x)"
   ]
  },
  {
   "cell_type": "markdown",
   "id": "5d973692",
   "metadata": {},
   "source": [
    "## 3. Recursive functions loop by calling themselves and breaking down the problem into sub-problems\n",
    "\n",
    "<img src=\"https://craftofcoding.files.wordpress.com/2022/02/nestingdolls3.png\" width=500></img> Source: The Matryoshka dolls capture the heuristic of of a recursive operation.  At each iteration, the next doll is opened to reveal a new, smaller problem whos solution completes the set.\n",
    "\n",
    "Here is an example of a recursive bedtime story, adapted from [this stackoverflow article](https://stackoverflow.com/questions/3021/what-is-recursion-and-when-should-i-use-it).\n",
    "\n",
    "```\n",
    "A child couldn't sleep, so her mother told her a story about a little frog who couldn't sleep, \n",
    "    and in that story, the frog's mother told her a story about a little bear who couldn't sleep, \n",
    "        and in that story, the bear's mother told her a story about a little weasel... \n",
    "            who fell asleep.\n",
    "         ...and then the little bear fell asleep;\n",
    "    ...and then the little frog fell asleep;\n",
    "...and finally, the child fell asleep.\n",
    "```"
   ]
  },
  {
   "cell_type": "markdown",
   "id": "6550961b",
   "metadata": {},
   "source": [
    "### **I use recursion to step through an unknown number of chromatogram peaks and identify when the peak started and returned to the baseline.  After each peak is identified, the remaining fragment of the chromatogram is passed forward into the recursive function, so no peak is counted twice.**\n",
    "\n",
    "<img src=\"https://bloose.github.io/data_prototyping_scientific_computing/images/He4_vici_peaks.png\" width=\"500\"></img>\n"
   ]
  },
  {
   "cell_type": "code",
   "execution_count": null,
   "id": "0d897e8d",
   "metadata": {},
   "outputs": [],
   "source": [
    " # Recursion to say a word backward.\n",
    "    \n",
    "word = 'homeontherange';\n",
    "\n",
    "def backwords(word):\n",
    "    \n",
    "    if len(word) > 1:\n",
    "        # This is the recursion line; the function returns a call to itself.\n",
    "        return word[-1] + backwords(word[:-1])\n",
    "    else:\n",
    "        # This is the exit sequence: When only the first letter is left, return that and don't call yourself.\n",
    "        return word[0] \n",
    "    \n",
    "bwords(word)"
   ]
  },
  {
   "cell_type": "code",
   "execution_count": null,
   "id": "abfbb355",
   "metadata": {},
   "outputs": [],
   "source": [
    "# Algorithm to compute factorials by recursion.\n",
    "# Enter the function\n",
    "# Subtract 1 from N and perhaps save as variable.\n",
    "# Take product of N and \n",
    "# Need to be able to use the output from the function as a term in the product or sum.\n",
    "\n",
    "def recmath(N):\n",
    "    if N > 1:\n",
    "        return N*recmath(N-1)\n",
    "    else: \n",
    "        return 1\n",
    "    \n",
    "recmath(4)"
   ]
  },
  {
   "cell_type": "markdown",
   "id": "01841b37",
   "metadata": {},
   "source": [
    "## Complete the exercises below and submit.\n",
    "\n",
    "#### Fibonacci sequence\n",
    "\n",
    "A Fibonacci sequence starts with 0 and 1 and every number that follows is the sum of the previous two numbers, e.g.:\n",
    "\n",
    "$$ F_1 = 0, \\; F_2 = 1. $$\n",
    "$$ F_n = F_{n-1}+F_{n-2} $$\n",
    "\n",
    "**Your instructions: Write an algorithm and a function (module) to determine the Fibonacci sequence, given N, the number of elements, and by specifying the first values in the sequence as 0 and 1.**\n",
    "** Solve the exercise 3 ways:  \n",
    "1. Using a for loop.\n",
    "1. Using a while loop.\n",
    "1. Using recursion."
   ]
  },
  {
   "cell_type": "code",
   "execution_count": null,
   "id": "95419f64",
   "metadata": {},
   "outputs": [],
   "source": [
    "# --------- Write an Algorithm to determine fibonacci sequence, given how many numbers to include in the sequence.\n",
    "# Let N be \n",
    "\n",
    "\n",
    "\n",
    "\n",
    "# --------- Write code to determine the fibonacci sequence using a for loop, given your algorithm.\n",
    "\n",
    "\n",
    "\n"
   ]
  },
  {
   "cell_type": "code",
   "execution_count": null,
   "id": "1c1a569b",
   "metadata": {},
   "outputs": [],
   "source": [
    "# --------- Write an Algorithm to determine fibonacci sequence, given how many numbers to include in the sequence.\n",
    "# Let N be \n",
    "\n",
    "\n",
    "\n",
    "\n",
    "# --------- Write code to determine the fibonacci sequence using a while loop, given your algorithm.\n",
    "\n"
   ]
  },
  {
   "cell_type": "code",
   "execution_count": null,
   "id": "5dc45a25",
   "metadata": {},
   "outputs": [],
   "source": [
    "# --------- Write an Algorithm to determine fibonacci sequence, given how many numbers to include in the sequence.\n",
    "# Let N be \n",
    "\n",
    "\n",
    "# --------- Write code to determine the fibonacci sequence using recursion, given your algorithm.\n",
    "\n"
   ]
  }
 ],
 "metadata": {
  "kernelspec": {
   "display_name": "Python 3 (ipykernel)",
   "language": "python",
   "name": "python3"
  },
  "language_info": {
   "codemirror_mode": {
    "name": "ipython",
    "version": 3
   },
   "file_extension": ".py",
   "mimetype": "text/x-python",
   "name": "python",
   "nbconvert_exporter": "python",
   "pygments_lexer": "ipython3",
   "version": "3.9.12"
  }
 },
 "nbformat": 4,
 "nbformat_minor": 5
}
