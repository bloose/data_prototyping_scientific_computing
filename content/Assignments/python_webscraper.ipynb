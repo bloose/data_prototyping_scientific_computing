{
 "cells": [
  {
   "cell_type": "markdown",
   "metadata": {},
   "source": [
    "### Simple Python web scraper\n",
    "***\n",
    "Note:  \n",
    ">*Check out http://datascience.ibm.com/blog/markdown-for-jupyter-notebooks-cheatsheet/* <br>\n",
    ">*Introduction to Jupyter: https://www.youtube.com/watch?v=Rc4JQWowG5I*\n"
   ]
  },
  {
   "cell_type": "code",
   "execution_count": 1,
   "metadata": {},
   "outputs": [],
   "source": [
    "#Python Modules get imported here #\n",
    "import re\n",
    "import requests\n",
    "from bs4 import BeautifulSoup\n",
    "import time"
   ]
  },
  {
   "cell_type": "markdown",
   "metadata": {},
   "source": [
    "#### Load a webpage into memory and parse it using Beautiful Soup"
   ]
  },
  {
   "cell_type": "code",
   "execution_count": 2,
   "metadata": {},
   "outputs": [],
   "source": [
    "lyriclink = 'https://www.nytimes.com/'\n",
    "#lyriclink = 'https://www.washingtonpost.com/'\n",
    "webpg = requests.get(lyriclink)\n",
    "\n",
    "soup = BeautifulSoup(webpg.content,\"lxml\")"
   ]
  },
  {
   "cell_type": "code",
   "execution_count": 3,
   "metadata": {},
   "outputs": [],
   "source": [
    "#soup.findAll(text=re.compile('Irma'))"
   ]
  },
  {
   "cell_type": "code",
   "execution_count": 4,
   "metadata": {},
   "outputs": [
    {
     "name": "stdout",
     "output_type": "stream",
     "text": [
      "The Word Kabul showed up 2 times!!\n"
     ]
    }
   ],
   "source": [
    "count=0\n",
    "keyword = 'Kabul'\n",
    "for lyrics in soup.findAll(text=re.compile(keyword)):\n",
    "    count+=1\n",
    "print(\"The Word \"+ keyword + \" showed up\",count,\"times!!\")"
   ]
  },
  {
   "cell_type": "markdown",
   "metadata": {},
   "source": [
    "__For homework, modify the variables webpg and the keyword to scrape a different website for a different word then upload the modified code to the assignments page for Sakai.__"
   ]
  },
  {
   "cell_type": "code",
   "execution_count": 6,
   "metadata": {},
   "outputs": [],
   "source": [
    "# Uncomment the line below to see the output.\n",
    "#print(soup.prettify())"
   ]
  }
 ],
 "metadata": {
  "kernelspec": {
   "display_name": "Python 3",
   "language": "python",
   "name": "python3"
  },
  "language_info": {
   "codemirror_mode": {
    "name": "ipython",
    "version": 3
   },
   "file_extension": ".py",
   "mimetype": "text/x-python",
   "name": "python",
   "nbconvert_exporter": "python",
   "pygments_lexer": "ipython3",
   "version": "3.8.8"
  }
 },
 "nbformat": 4,
 "nbformat_minor": 1
}
