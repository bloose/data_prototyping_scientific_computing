{
 "cells": [
  {
   "cell_type": "markdown",
   "id": "ee9d8330",
   "metadata": {},
   "source": [
    "## Arduino code block for LED voltage analysis.\n",
    "\n",
    "The .ino exercise can be downloaded [here](https://bloose.github.io/data_prototyping_scientific_computing/Assignments/polled_led.ino).  The code will compile and execute in the Arduino Serial Monitor, but it is meant to be completed, following the [LED Lab Instructions](https://bloose.github.io/data_prototyping_scientific_computing/Assignments/LED_Lab_2023.pdf)\n",
    "\n",
    "```\n",
    "// Polled LED.  Make LED turn on and off based on keyboard input.  \n",
    "// On-off achieved by giving 5V to the circuit with a digital ouput.\n",
    "// One solution is to change the LED circuit state every time you see a keystroke.\n",
    "// Another solution is to read the keyboard input and have the LED change state based\n",
    "// on specific keyboard input.\n",
    "\n",
    "// Initialize variables to store the pin number and the keyboard input.\n",
    "\n",
    "\n",
    "void setup() {\n",
    "\n",
    "\t// Initiate communication with the serial monitor.\n",
    "  \tSerial.begin(9600);     // opens serial port, sets data rate to 9600 bps\n",
    "  \n",
    "  \t// Set the state of your digital pin to output.\n",
    "\n",
    "}\n",
    "\n",
    "void loop() {\n",
    "\n",
    "        // Monitor the serial connection.  If it is open, read from serial port\n",
    "        // If the On-off Pin is high, set it to low.  Otherwise, set it to high.\n",
    "        // This will guarantee that the pin always changes state.\n",
    "        \n",
    "        if (Serial.available() > 0) {\n",
    "                // read the incoming byte:\n",
    "               \n",
    "               }\n",
    "                          \n",
    "        \n",
    "}\n",
    "```"
   ]
  },
  {
   "cell_type": "code",
   "execution_count": null,
   "id": "0f3069f0",
   "metadata": {},
   "outputs": [],
   "source": []
  }
 ],
 "metadata": {
  "kernelspec": {
   "display_name": "Python 3 (ipykernel)",
   "language": "python",
   "name": "python3"
  },
  "language_info": {
   "codemirror_mode": {
    "name": "ipython",
    "version": 3
   },
   "file_extension": ".py",
   "mimetype": "text/x-python",
   "name": "python",
   "nbconvert_exporter": "python",
   "pygments_lexer": "ipython3",
   "version": "3.9.12"
  }
 },
 "nbformat": 4,
 "nbformat_minor": 5
}
