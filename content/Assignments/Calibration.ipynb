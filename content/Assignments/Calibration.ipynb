{
 "cells": [
  {
   "cell_type": "markdown",
   "metadata": {},
   "source": [
    "## Thermistor calibration."
   ]
  },
  {
   "cell_type": "markdown",
   "metadata": {},
   "source": [
    "### Step 1:  Calibration data collection\n",
    "\n",
    "1. Use your therm_plotter.ipynb script to help you make a file of datetime, temperature, and resistence.\n",
    "1. Place your thermistor in the bath and then start logging with your thermplotter.\n",
    "1. Collect measurements of **Resistence** in a bath of ice water. Collect a minimum of N = 100 measurements over several minutes. This means your delay() should be 1 second or so. \n",
    "1. Move your thermistor to the other bath and collect measurements of **Resistence** in boiling water. Collect a minimum of N = 100 measurements over several minutes.\n",
    "1. Save the data in a .csv file for loading with this .ipynb.\n"
   ]
  },
  {
   "cell_type": "markdown",
   "metadata": {},
   "source": [
    "### Step 2:  Complete this worksheet.\n",
    "\n",
    "You will use the measurements of temperature and resistance to determine your own value of a,b, and c from the Steinhart-Hart equation:\n",
    "\n",
    "$$ \\frac{1}{T_{bath}} = a + b \\cdot log_e(R) + c \\cdot log_e(R)^3 $$\n",
    "\n",
    "Use the Steinhart-Hart equation. Solve for the three coefficients, a, b, c that are in the Steinhart-Hart equation.  \n",
    "\n",
    "\n",
    "**NOTE**:  The output for the Steinhart-Hart equation is in Kelvin, so you should use Kelvin when generating a,b,c, but report your values of temperature in deg C.\n"
   ]
  },
  {
   "cell_type": "code",
   "execution_count": 95,
   "metadata": {},
   "outputs": [],
   "source": [
    "# Load the libraries we need.\n",
    "import numpy as np\n",
    "import pandas as pd\n",
    "import matplotlib.pyplot as plt\n",
    "import datetime as dt\n",
    "import numpy.linalg as linalg\n",
    "from scipy.optimize import curve_fit\n",
    "#%matplotlib qt\n",
    "\n",
    "from matplotlib.dates import DateFormatter\n",
    "myFmt = DateFormatter(\"%H:%M\")"
   ]
  },
  {
   "cell_type": "code",
   "execution_count": 1,
   "metadata": {},
   "outputs": [],
   "source": [
    "# Load your recorded measurements and plot the time series to confirm clean data.\n",
    "\n",
    "# df = pd.read_csv(filename, parse_dates=[0]);  # Note, use the parse_dates input to tell pandas which column has \n",
    "# datetimes in it.\n",
    "# df.info()\n",
    "\n",
    "\n",
    "\n",
    "# Plot the Resistance vs. datetime to determine if there is some data that needs to be cut out.  \n",
    "\n",
    "\n",
    "\n",
    "\n",
    "# This line makes the datetime axis easier to read\n",
    "# ax.xaxis.set_major_formatter(myFmt)\n"
   ]
  },
  {
   "cell_type": "markdown",
   "metadata": {},
   "source": [
    "### Clean up your data as needed \n",
    "(if your data is already clean, proceed)."
   ]
  },
  {
   "cell_type": "code",
   "execution_count": 97,
   "metadata": {},
   "outputs": [],
   "source": [
    "# Cut out bad data points from the beginning and end, or from the transition between ice bath and boiling bath.\n",
    "# These bad data will introduce bias into your results. \n",
    "# Note, pandas lets you compare datetime values against text strings, e.g.  df['time'] > '2021-10-19 09:51:00'\n",
    "\n",
    "\n",
    "#cut.sum()\n",
    "\n",
    "# df.drop(df.index[cut])"
   ]
  },
  {
   "cell_type": "markdown",
   "metadata": {},
   "source": [
    "### What is $T_{bath}$?\n",
    "\n",
    "We explicitly chose to calibrate in boiling and icy water, because we know the temperature at these two phase transitions, on the celcius scale without having to measure it.   Therefore, these are the values of $T_bath$.  You need to create a column vector, called $T_bath$.  Every row (time) that you measured $R_{100}$ the value of $T_bath$ should be 100.   Every row (time) that measured $R_0$, the value of $T_{bath}$ should be 0.\n",
    "\n",
    "Hint:  If you also measured temperature, you can round to the 10's place to create a vector or 0 and 100 that matches your measured resistences.\n",
    "\n",
    "```\n",
    "Tbath = np.round(df['Temp'],-1)+273.16;\n",
    "```"
   ]
  },
  {
   "cell_type": "markdown",
   "metadata": {},
   "source": [
    "### Fit the model using the Resistence and $T_{bath}$ data.\n",
    "\n",
    "Choose one of the two approaches:\n",
    "1. Use curve_fit() from scipy.optimize. Refer to the [Scipy help](https://docs.scipy.org/doc/scipy/reference/generated/scipy.optimize.curve_fit.html) for details of curve_fit()\n",
    "\n",
    "1. solve the linear algebraic equation below, with design matrix A. Assemble the elements of $ x = \\left(A^TA)^{-1}\\times A^T T_{bath} \\right) $. The columns in A are a column of 1's and a column of measurements of $R_{100}$ and $R_{0}$, or resistance at 100 and 0 celcius.\n",
    "\n"
   ]
  },
  {
   "cell_type": "code",
   "execution_count": 3,
   "metadata": {},
   "outputs": [],
   "source": [
    "# Choice 1, define the objective function, which defines the inputs to the Steinhar-Hart equation. You will pass \n",
    "# this function to curve_fit.  You can name this function, what you want.\n",
    "# https://docs.scipy.org/doc/scipy/reference/generated/scipy.optimize.curve_fit.html\n",
    "\n",
    "\n",
    "#def steinhart_hart(R,a,b,c):\n",
    "#    # Return the output of the Steinhart-Hart equation, given R and the parameters, a,b,c\n",
    "#    return \n",
    "\n",
    "\n",
    "# Make a column vector with values of Tbath.\n",
    "\n",
    "\n",
    "# Make a pandas pd.series() of values of Resistence from the bath calibration.  You will input these to curve_fit()\n",
    "\n",
    "\n",
    "# Set up and solve the curve_fit.  Capture the values of a,b,c which are output from curve_fit()\n",
    "# pp,__ = curve_fit(objective_fun,R, 1/Tbath)\n",
    "#a,b,c = pp\n",
    "\n",
    "# Report the values of a,b,c - how do they compare with coefficients we used last week?\n"
   ]
  },
  {
   "cell_type": "code",
   "execution_count": 2,
   "metadata": {},
   "outputs": [],
   "source": [
    "# Choice 2, use linear algebra to solve for a, b, c where\n",
    "# x = [a,b,c]^T\n",
    "# A = [1, np.log(R_i), np.log(R_i)^3]\n",
    "# x = inv(A^T*A)*A^T*Tbath\n",
    "\n",
    "\n",
    "# Assemble the columns of the design matrix, A.\n",
    "\n",
    "\n",
    "# Use linalg.inv() and np.matmul() to carry out the matrix multiplication.\n"
   ]
  },
  {
   "cell_type": "markdown",
   "metadata": {},
   "source": [
    "### Plot and quantify the fit."
   ]
  },
  {
   "cell_type": "code",
   "execution_count": 4,
   "metadata": {},
   "outputs": [],
   "source": [
    "# Model the temperature.\n",
    "\n",
    "# Use your measured resistence during calibration and the new S-H coefficients to compute Tmod, \n",
    "# the modeled temperature.\n",
    "\n",
    "\n",
    "\n",
    "# Make a plot of Resistance vs. Tbath and Resistence vs. Tmod.  Are Tmod and Tbath visually consistent?\n"
   ]
  },
  {
   "cell_type": "markdown",
   "metadata": {},
   "source": [
    "#### Compute and report the Pearson correlation coefficient to show how well your curve fits to the data.\n",
    "\n",
    "$$ R^2 = 1 - \\frac{ \\sum\\left(T_{bath,i} - T_{mod,i} \\right)^2}{\\left(\\sum T_{bath,i} - n\\bar{T_{bath}}\\right)^2}   $$\n",
    "\n",
    "> Here, the values of $T_{bath,i}$ are the 'observations' of temperature at 0 and 100 C and $\\hat{T}_i$ are the predicted values from the least-squares fit.   "
   ]
  },
  {
   "cell_type": "code",
   "execution_count": null,
   "metadata": {},
   "outputs": [],
   "source": []
  },
  {
   "cell_type": "markdown",
   "metadata": {},
   "source": [
    "**What to turn in?** Turn in your completed .ipynb and make sure to attach the files containing data you recorded during the calibration in class."
   ]
  }
 ],
 "metadata": {
  "anaconda-cloud": {},
  "kernelspec": {
   "display_name": "Python 3",
   "language": "python",
   "name": "python3"
  },
  "language_info": {
   "codemirror_mode": {
    "name": "ipython",
    "version": 3
   },
   "file_extension": ".py",
   "mimetype": "text/x-python",
   "name": "python",
   "nbconvert_exporter": "python",
   "pygments_lexer": "ipython3",
   "version": "3.8.8"
  }
 },
 "nbformat": 4,
 "nbformat_minor": 1
}
