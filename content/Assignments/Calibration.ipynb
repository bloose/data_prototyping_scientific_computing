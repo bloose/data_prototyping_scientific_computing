{
 "cells": [
  {
   "cell_type": "markdown",
   "metadata": {},
   "source": [
    "## Thermistor calibration."
   ]
  },
  {
   "cell_type": "markdown",
   "metadata": {},
   "source": [
    "### Step 1:  Calibration data collection\n",
    "\n",
    "1. Use your therm_plotter.ipynb script to help you make a file of datetime, temperature, and resistence.\n",
    "1. Place your thermistor in the bath and then start logging with your thermplotter.\n",
    "1. Collect measurements of **Resistence** in a bath of ice water. Collect a minimum of N = 100 measurements over several minutes. This means your delay() should be 1 second or so. \n",
    "1. Move your thermistor to the other bath and collect measurements of **Resistence** in boiling water. Collect a minimum of N = 100 measurements over several minutes.\n",
    "1. Save the data in a .csv file for loading with this .ipynb.\n",
    "1. Plot the data and check that it is clean, no spikes or intermediate temps.  Cut away the bad data as needed.\n",
    "1. Create an dataframe of $T_{Reference}$ that matches the resistance data you collected at 0 and 100 C.\n",
    "1. Use a curve fitting algorithm (curve_fit() in Python, nls() in R) or the least-squares solution below to determine the new fit coefficients in the Steinhart-Hart equation.  These take an objective function - a module with the Steinhar-Hart equation programmed in.\n",
    "1. Quantify the goodness of fit using Pearson's Correlation Coefficient. \n"
   ]
  },
  {
   "cell_type": "markdown",
   "metadata": {},
   "source": [
    "### Step 2:  Complete this worksheet.\n",
    "\n",
    "You will use the measurements of temperature and resistance to determine your own value of a,b, and c from the Steinhart-Hart equation:\n",
    "\n",
    "$$ \\frac{1}{T_{bath}} = a + b \\cdot log_e(R) + c \\cdot log_e(R)^3 $$\n",
    "\n",
    "Use the Steinhart-Hart equation. Solve for the three coefficients, a, b, c that are in the Steinhart-Hart equation.  \n",
    "\n",
    "\n",
    "**NOTE**:  The output for the Steinhart-Hart equation is in Kelvin, so you should use Kelvin when generating a,b,c, but report your values of temperature in deg C.\n",
    "\n"
   ]
  },
  {
   "cell_type": "code",
   "execution_count": null,
   "metadata": {},
   "outputs": [],
   "source": [
    "###/////////////// Python /////////////\n",
    "# Load the libraries we need.\n",
    "# import numpy as np\n",
    "# import pandas as pd\n",
    "# import matplotlib.pyplot as plt\n",
    "# import datetime as dt\n",
    "# import numpy.linalg as linalg\n",
    "# from scipy.optimize import curve_fit\n",
    "#%matplotlib qt\n",
    "\n",
    "#from matplotlib.dates import DateFormatter\n",
    "#myFmt = DateFormatter(\"%H:%M\")\n",
    "\n",
    "###/////////////// R /////////////\n",
    "#library(tidyverse)\n",
    "#library(lubridate)\n",
    "#library(xts) # adds ability to merge data frames on date.\n",
    "#library(dplyr)\n",
    "#library(zoo)\n",
    "#library(patchwork)\n"
   ]
  },
  {
   "cell_type": "code",
   "execution_count": null,
   "metadata": {},
   "outputs": [],
   "source": [
    "# Load your recorded measurements and plot the time series to confirm clean data.\n",
    "\n",
    "# df = pd.read_csv(filename, parse_dates=[0]);  # Note, use the parse_dates input to tell pandas which column has \n",
    "# datetimes in it.\n",
    "# df.info() # Python\n",
    "# summary(df) # R\n",
    "\n",
    "# Load the calibration data with pd.read_csv() or read.csv() in R.\n",
    "\n",
    "\n",
    "# Plot the Resistance vs. datetime to determine if there is some data that needs to be cut out.  \n",
    "\n",
    "\n"
   ]
  },
  {
   "cell_type": "markdown",
   "metadata": {},
   "source": [
    "### Clean up your data as needed \n",
    "(if your data is already clean, proceed)."
   ]
  },
  {
   "cell_type": "code",
   "execution_count": null,
   "metadata": {},
   "outputs": [],
   "source": [
    "# Cut out bad data points from the beginning and end, or from the transition between ice bath and boiling bath.\n",
    "# These bad data will introduce bias into your results. \n",
    "# Note, R and pands lets you compare datetime values against text strings, e.g.  df['time'] > '2021-10-19 09:51:00' to\n",
    "# make a boolean array and eliminate rows where the boolean array is false. \n",
    "# cut = (df['time'] > '2021-10-19 09:51:00') & (df['time'] < '2021-10-19 09:53:00')\n",
    "\n",
    "# df.drop(df.index[cut])"
   ]
  },
  {
   "cell_type": "markdown",
   "metadata": {},
   "source": [
    "### What is $T_{Reference}$?\n",
    "\n",
    "We explicitly chose to calibrate in boiling and icy water, because we know the temperature at these two phase transitions, on the celcius scale without having to measure it.   Therefore, these are the values of $T_{Ref}$.  You need to create a column vector, called $T_{Ref}$.  Every row (time) that you measured $R_{100}$ the value of $T_{Ref}$ should be 100.   Every row (time) that measured $R_0$, the value of $T_{Ref}$ should be 0.\n",
    "\n",
    "Hint:  If you also measured temperature, you can round to the 10's place to create a vector or 0 and 100 that matches your measured resistences.\n",
    "\n",
    "```\n",
    "Tbath = np.round(df['Temp'],-1)+273.16;\n",
    "```"
   ]
  },
  {
   "cell_type": "markdown",
   "metadata": {},
   "source": [
    "### Fit the model using the Resistence and $T_{Ref}$ data.\n",
    "\n",
    "Choose one of the two approaches:\n",
    "1. Use curve_fit() from scipy.optimize. Refer to the [Scipy help](https://docs.scipy.org/doc/scipy/reference/generated/scipy.optimize.curve_fit.html) for details of curve_fit()\n",
    "\n",
    "1. solve the linear algebraic equation below, with design matrix A. Assemble the elements of $ x = \\left(A^TA)^{-1}\\times A^T T_{bath} \\right) $. The columns in A are a column of 1's and a column of measurements of $R_{100}$ and $R_{0}$, or resistance at 100 and 0 celcius.  Talk to Brice, he can help you set this up.\n",
    "\n"
   ]
  },
  {
   "cell_type": "code",
   "execution_count": null,
   "metadata": {},
   "outputs": [],
   "source": [
    "# Choice 1, define the objective function, which defines the inputs to the Steinhar-Hart equation. You will pass \n",
    "# this function to curve_fit.  You can name this function, what you want.\n",
    "# https://docs.scipy.org/doc/scipy/reference/generated/scipy.optimize.curve_fit.html\n",
    "\n",
    "\n",
    "\n",
    "# Make a column vector with values of TRef.\n",
    "\n",
    "\n",
    "\n",
    "# Define an R data frame or pandas pd.series() of values of Resistence from the bath calibration.  \n",
    "# You will input these to curve_fit()\n",
    "\n",
    "\n",
    "# Set up and solve the curve_fit.  Capture the values of a,b,c which are output from curve_fit()\n",
    "# pp,__ = curve_fit(objective_fun,R, 1/TRef). # In Python\n",
    "# fit <- nls(1/TRef ~ steinhart_hart(R, A, B, C), start = list(A = ..., B = ..., C = ...))\n",
    "\n",
    "# Extract the fitted parameters\n",
    "# coef(fit)\n",
    "\n",
    "\n",
    "# a,b,c = pp\n",
    "# print(a,b,c)\n"
   ]
  },
  {
   "cell_type": "code",
   "execution_count": null,
   "metadata": {},
   "outputs": [],
   "source": [
    "# Choice 2, use linear algebra to solve for a, b, c where\n",
    "# x = [a,b,c]^T\n",
    "# A = [1, np.log(R_i), np.log(R_i)^3]\n",
    "# x = inv(A^T*A)*A^T*TRef\n",
    "\n",
    "\n",
    "# Assemble the columns of the design matrix, A.\n",
    "\n",
    "\n",
    "# Use linalg.inv() and np.matmul() to carry out the matrix multiplication.\n",
    "\n"
   ]
  },
  {
   "cell_type": "markdown",
   "metadata": {},
   "source": [
    "### Plot and quantify the fit."
   ]
  },
  {
   "cell_type": "code",
   "execution_count": null,
   "metadata": {},
   "outputs": [],
   "source": [
    "# Model the temperature.\n",
    "\n",
    "# Use your measured resistences and the new S-H coefficients (A,B,C) that you determine from the calibration to compute \n",
    "# Tmod, the modeled temperature.\n",
    "\n",
    "\n",
    "\n",
    "# Make a plot of Resistance vs. Tref and Resistence vs. Tmod.  Are the modeled values visually consistent?\n",
    "\n",
    "\n"
   ]
  },
  {
   "cell_type": "markdown",
   "metadata": {},
   "source": [
    "#### Compute and report the Pearson correlation coefficient to show how well your curve fits to the data.\n",
    "\n",
    "\n",
    "$$ R^2 = 1 - \\frac{SS_{Residual}}{SS_{Total}} $$\n",
    "\n",
    "$T_{mod}$ = Temperature you get from using the new A, B, C's with the Steinhar-Hart Equation.\n",
    "\n",
    "$T_{Ref}$ = Reference temperatures in the bath at 0 and 100 C.\n",
    "\n",
    "$\\overline{T_{Ref}}$ = Mean of the Reference temperatures.\n",
    "\n",
    "$SS_{Residual} = \\sum_{i=1}^{N} (T_{mod,i} - \\overline{T_{ref,i}})^2$\n",
    "\n",
    "$SS_{Total} = \\sum_{i=1}^{N} (T_{Ref,i} - \\overline{T_{Ref}})^2$\n"
   ]
  },
  {
   "cell_type": "code",
   "execution_count": null,
   "metadata": {},
   "outputs": [],
   "source": []
  },
  {
   "cell_type": "markdown",
   "metadata": {},
   "source": [
    "**What to turn in?** Turn in your completed .ipynb and make sure to attach the files containing data you recorded during the calibration in class."
   ]
  }
 ],
 "metadata": {
  "anaconda-cloud": {},
  "kernelspec": {
   "display_name": "Python 3 (ipykernel)",
   "language": "python",
   "name": "python3"
  },
  "language_info": {
   "codemirror_mode": {
    "name": "ipython",
    "version": 3
   },
   "file_extension": ".py",
   "mimetype": "text/x-python",
   "name": "python",
   "nbconvert_exporter": "python",
   "pygments_lexer": "ipython3",
   "version": "3.11.10"
  }
 },
 "nbformat": 4,
 "nbformat_minor": 4
}
