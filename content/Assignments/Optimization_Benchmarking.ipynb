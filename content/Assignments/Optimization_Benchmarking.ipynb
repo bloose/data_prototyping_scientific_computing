{
 "cells": [
  {
   "cell_type": "markdown",
   "metadata": {},
   "source": [
    "# Writing efficient code, vectorization, and benchmarking.\n",
    "\n",
    "#### Objectives:  \n",
    "1. Understand how to use Pandas and Numpy most efficiently.\n",
    "1. Relate the notions of efficient programming to [historical benchmarks].\n",
    "1. Use vectorized operations to make your code faster."
   ]
  },
  {
   "cell_type": "code",
   "execution_count": null,
   "metadata": {},
   "outputs": [],
   "source": [
    "import pandas as pd\n",
    "import numpy as np\n",
    "from math import *\n",
    "import matplotlib.pyplot as plt"
   ]
  },
  {
   "cell_type": "markdown",
   "metadata": {},
   "source": [
    "### Processing time for array creation.\n",
    "\n",
    "**Let's explore different ways of creating an N=1000 element array:**\n",
    "\n",
    "Below are some append() operations we've done many times to list and numpy arrays.  \n",
    "\n",
    "We can determine their runtime using the `%%timeit` magic variable in Jupyter.  `%%timeit` runs multiple experiments or 'loops' to estimate the mean and standard deviation in the processing time."
   ]
  },
  {
   "cell_type": "code",
   "execution_count": null,
   "metadata": {},
   "outputs": [],
   "source": [
    "%%timeit -n 100\n",
    "# Appending items to a list array.\n",
    "N = []\n",
    "for n in range(1000):\n",
    "    N.append(n)"
   ]
  },
  {
   "cell_type": "markdown",
   "metadata": {},
   "source": [
    "### Append() operation on a numpy arrays..."
   ]
  },
  {
   "cell_type": "code",
   "execution_count": null,
   "metadata": {},
   "outputs": [],
   "source": [
    "%%timeit -n 100\n",
    "# Appending items to a Numpy array\n",
    "N = np.array([]);\n",
    "for n in range(1000):\n",
    "    N = np.append(N,n)"
   ]
  },
  {
   "cell_type": "markdown",
   "metadata": {},
   "source": [
    "### Finally, create the  array as Numpy would recommend to do it."
   ]
  },
  {
   "cell_type": "code",
   "execution_count": null,
   "metadata": {},
   "outputs": [],
   "source": [
    "%%timeit -n 100\n",
    "N = np.arange(0,1000,1)"
   ]
  },
  {
   "cell_type": "markdown",
   "metadata": {},
   "source": [
    "**Results:** Clearly, np.arange() is not using a for-loop, at least not in Python language, because this operation is much faster than even the base-python list array loop."
   ]
  },
  {
   "cell_type": "markdown",
   "metadata": {},
   "source": [
    "### How does the time required for computation scale with the value of N?  \n",
    "\n",
    "1. Instead of using `%%timeit`, use the time() module to calculate the compute time.\n",
    "1. Do this for multiple values of N.\n",
    "1. Normalize or divide the compute time by the first value, so the compute time is unitless. This lets us compare with the benchmark curves below."
   ]
  },
  {
   "cell_type": "code",
   "execution_count": null,
   "metadata": {},
   "outputs": [],
   "source": [
    "## Add the compute resources\n",
    "import time\n",
    "Ns = np.array([10,100,500,1000])\n",
    "\n",
    "t = []\n",
    "for i in Ns:\n",
    "    ti = time.time()\n",
    "    N = np.empty([0,i]);\n",
    "    for n in range(i):\n",
    "        N = np.append(N,n)\n",
    "    t.append(time.time()-ti)\n",
    "\n",
    "# Normalize the time by the initial value to get unitless quantity.\n",
    "t = np.array(t)/t[0]\n",
    "print(t)\n",
    "\n",
    "t2 = []\n",
    "for i in Ns:\n",
    "    ti = time.time()\n",
    "    N = np.arange(0,i,1)\n",
    "    t2.append(time.time()-ti)\n",
    "# Normalize the time by the initial value to get unitless quantity.\n",
    "t2 = np.array(t2)/t2[0]\n",
    "print(t2)"
   ]
  },
  {
   "cell_type": "markdown",
   "metadata": {},
   "source": [
    "## Algorithm [efficiency benchmarks](https://en.wikipedia.org/wiki/Algorithmic_efficiency) developed by Don Knuth.\n",
    "\n",
    "1. Make graphs of the Benchmark scaling relationships between N and the compute time.\n",
    "1. Compare these curves to the append() results."
   ]
  },
  {
   "cell_type": "code",
   "execution_count": null,
   "metadata": {},
   "outputs": [],
   "source": [
    "N = np.arange(0,1000,1)    # Create an O(n) vector for graphing.\n",
    "N = np.array(N,ndmin=2).T  \n",
    "Ologn = np.log(N);         # Create an O(log(n))  vector for graphing.\n",
    "Onlogn = N*np.log(N);      # Create an O(n*log(n)) vector for graphing.\n",
    "On2 = N**2;                # Create an O(n*n) vector for graphing.\n",
    "Oexp = 1.1**N              # Create an O(e^n) vector for graphing.\n",
    "AN = np.concatenate((N,Ologn,Onlogn,On2,Oexp),axis=1)\n",
    "\n",
    "plt.figure(figsize=(10,8))\n",
    "plt.plot(N,AN);\n",
    "plt.ylim(1e-1,1e5);\n",
    "plt.yscale('log')\n",
    "#plt.xscale('log')\n",
    "    \n",
    "plt.scatter(Ns,t,s=50,marker='s')\n",
    "plt.scatter(Ns,t2)\n",
    "plt.legend(['O(n)','O(logn)','O(nlogn)','O(n^2)','O(e^n)','np.append.loop','np.arange'])\n",
    "\n",
    "plt.xlabel('N',fontsize=20)\n",
    "plt.ylabel('Computing resources required',fontsize=20)\n",
    "\n",
    "#plt.savefig('Compute_resources.png')"
   ]
  },
  {
   "cell_type": "markdown",
   "metadata": {},
   "source": [
    "<img href=\"https://bloose.github.io/data_prototyping_scientific_computing/images/Compute_resources.png\" width=\"600\">"
   ]
  },
  {
   "cell_type": "markdown",
   "metadata": {},
   "source": [
    "**Results:**  The np.append() loop scales somewhere between O(log(n)) and O(n) suggesting it is relatively efficient, even though it is much slower than np.arange(), which actually decreases in compute time for larger values of N.  This suggests that np.arange() is actually O(1) or has a constant compute time.\n",
    "\n",
    "\n",
    "**NOTE**: The rest of this tutorial is copied directly from Sofia Heisler's excellent [Pycon presentation](https://github.com/s-heisler/pycon2017-optimizing-pandas) on optimizing Pandas code. "
   ]
  },
  {
   "cell_type": "markdown",
   "metadata": {},
   "source": [
    "## What does efficient code in Pandas and Numpy look like?"
   ]
  },
  {
   "cell_type": "code",
   "execution_count": null,
   "metadata": {},
   "outputs": [],
   "source": [
    "# Load in the data file for computation\n",
    "df = pd.read_csv('new_york_hotels.csv', encoding='cp1252')"
   ]
  },
  {
   "cell_type": "code",
   "execution_count": null,
   "metadata": {
    "scrolled": true
   },
   "outputs": [],
   "source": [
    "df.head()"
   ]
  },
  {
   "cell_type": "markdown",
   "metadata": {},
   "source": [
    "## Haversine definition\n",
    "Haversine function computes the great circle distance between two lat/lon locations on the globe."
   ]
  },
  {
   "cell_type": "code",
   "execution_count": null,
   "metadata": {},
   "outputs": [],
   "source": [
    "def haversine(lat1, lon1, lat2, lon2):\n",
    "    miles_constant = 3959\n",
    "    lat1, lon1, lat2, lon2 = map(np.deg2rad, [lat1, lon1, lat2, lon2])\n",
    "    dlat = lat2 - lat1 \n",
    "    dlon = lon2 - lon1 \n",
    "    a = np.sin(dlat/2)**2 + np.cos(lat1) * np.cos(lat2) * np.sin(dlon/2)**2\n",
    "    c = 2 * np.arcsin(np.sqrt(a)) \n",
    "    mi = miles_constant * c\n",
    "    return mi"
   ]
  },
  {
   "cell_type": "markdown",
   "metadata": {},
   "source": [
    "## 1. Crudest looping\n",
    "\n",
    "Using the for loop to iteratively access row-wise elements in the Pandas Dataframe does not take advantage of the vectorized capabilities that Pandas can achieve (through Numpy)."
   ]
  },
  {
   "cell_type": "code",
   "execution_count": null,
   "metadata": {},
   "outputs": [],
   "source": [
    "# Define a function to manually loop over all rows and return a series of distances\n",
    "def haversine_looping(df):\n",
    "    distance_list = []\n",
    "    for i in range(0, len(df)):\n",
    "        d = haversine(40.671, -73.985, df.iloc[i]['latitude'], df.iloc[i]['longitude'])\n",
    "        distance_list.append(d)\n",
    "    return distance_list"
   ]
  },
  {
   "cell_type": "code",
   "execution_count": null,
   "metadata": {},
   "outputs": [],
   "source": [
    "%%timeit\n",
    "# Run the haversine looping function\n",
    "df['distance'] = haversine_looping(df)"
   ]
  },
  {
   "cell_type": "code",
   "execution_count": null,
   "metadata": {},
   "outputs": [],
   "source": [
    "import time\n",
    "Ns = np.array([10,100,500,1000])\n",
    "dt = []\n",
    "for j in Ns:\n",
    "    ti = time.time()\n",
    "    distance_list = []\n",
    "    for i in range(0, j):\n",
    "        d = haversine(40.671, -73.985, df['latitude'].loc[i], df['longitude'].loc[i])\n",
    "        distance_list.append(d)\n",
    "    dt.append(time.time()-ti)\n",
    "    \n",
    "dt = np.array(dt)/dt[0]\n",
    "print(dt)"
   ]
  },
  {
   "cell_type": "code",
   "execution_count": null,
   "metadata": {},
   "outputs": [],
   "source": [
    "DF = df.loc[0:j,:].copy()"
   ]
  },
  {
   "cell_type": "markdown",
   "metadata": {},
   "source": [
    "## 2. Iterrows Haversine\n",
    "\n",
    "Pandas offers an row-wise iterator that is faster than indexing via a loop."
   ]
  },
  {
   "cell_type": "code",
   "execution_count": null,
   "metadata": {},
   "outputs": [],
   "source": [
    "%%timeit\n",
    "# Haversine applied on rows via iteration\n",
    "haversine_series = []\n",
    "for index, row in df.iterrows():\n",
    "    haversine_series.append(haversine(40.671, -73.985,\\\n",
    "                                      row['latitude'], row['longitude']))\n",
    "df['distance'] = haversine_series"
   ]
  },
  {
   "cell_type": "markdown",
   "metadata": {},
   "source": [
    "## 3. `Apply()` Haversine on rows"
   ]
  },
  {
   "cell_type": "code",
   "execution_count": null,
   "metadata": {
    "scrolled": true
   },
   "outputs": [],
   "source": [
    "%timeit df['distance'] =\\\n",
    "df.apply(lambda row: haversine(40.671, -73.985,\\\n",
    "                               row['latitude'], row['longitude']), axis=1)"
   ]
  },
  {
   "cell_type": "code",
   "execution_count": null,
   "metadata": {
    "scrolled": true
   },
   "outputs": [],
   "source": [
    "import time\n",
    "Ns = np.array([10,100,500,1000])\n",
    "dt_aply = []\n",
    "for j in Ns:\n",
    "    DF = df.loc[0:j,:].copy()\n",
    "    ti = time.time()\n",
    "    DF['distance'] = DF.apply(lambda row: haversine(40.671, -73.985,\\\n",
    "                               row['latitude'], row['longitude']), axis=1)\n",
    "    dt_aply.append(time.time()-ti)\n",
    "    \n",
    "dt_aply = np.array(dt_aply)/dt_aply[0]\n",
    "print(dt_aply)\n"
   ]
  },
  {
   "cell_type": "markdown",
   "metadata": {},
   "source": [
    "## 4. Vectorized implementation of Haversine applied on Pandas series"
   ]
  },
  {
   "cell_type": "code",
   "execution_count": null,
   "metadata": {},
   "outputs": [],
   "source": [
    "# Vectorized implementation of Haversine applied on Pandas series\n",
    "%timeit df['distance'] = haversine(40.671, -73.985,\\\n",
    "                                   df['latitude'], df['longitude'])"
   ]
  },
  {
   "cell_type": "markdown",
   "metadata": {},
   "source": [
    "## 5. Compute Haversine on rows in `Numpy` instead of `Pandas`"
   ]
  },
  {
   "cell_type": "code",
   "execution_count": null,
   "metadata": {},
   "outputs": [],
   "source": [
    "DF = df.iloc[:,[6,7]].values  # Convert Pandas columns into a Numpy array\n",
    "\n",
    "%timeit [haversine(40.671, -73.985,row[0], row[1]) for row in DF]\n",
    "\n"
   ]
  },
  {
   "cell_type": "markdown",
   "metadata": {},
   "source": [
    "## 6. Vectorized implementation of Haversine applied on NumPy arrays"
   ]
  },
  {
   "cell_type": "code",
   "execution_count": null,
   "metadata": {},
   "outputs": [],
   "source": [
    "np_lat = df['latitude'].values\n",
    "np_lon = df['longitude'].values\n",
    "\n",
    "# Vectorized implementation of Haversine applied on NumPy arrays\n",
    "%timeit df['distance'] = haversine(40.671, -73.985,\\\n",
    "                         df['latitude'].values, df['longitude'].values)"
   ]
  },
  {
   "cell_type": "code",
   "execution_count": null,
   "metadata": {},
   "outputs": [],
   "source": [
    "import time\n",
    "Ns = np.array([10,100,500,1000])\n",
    "dtv = []\n",
    "for j in Ns:\n",
    "    DF = df.loc[0:j,:].copy()\n",
    "    ti = time.time()\n",
    "    DF['distance'] = DF.apply(lambda row: haversine(40.671, -73.985,\\\n",
    "                               row['latitude'], row['longitude']), axis=1)\n",
    "    DF['distance'] = haversine(40.671, -73.985,\\\n",
    "                         DF['latitude'].values, DF['longitude'].values)\n",
    "    dtv.append(time.time()-ti)\n",
    "    \n",
    "dtv = np.array(dtv)/dtv[0]\n",
    "print(dtv)"
   ]
  },
  {
   "cell_type": "markdown",
   "metadata": {},
   "source": [
    "## Cythonize that loop\n",
    "Future: The fastest python code uses precompiled C code, which is available through the `Cython` module. "
   ]
  },
  {
   "cell_type": "markdown",
   "metadata": {},
   "source": [
    "## 6. In-class assignment:  Benchmark and graph haversine methods 1, 3 and 6.\n",
    "\n",
    "1. Evaluate the haversine functions using N = 10, 100, 500, and 1000 as in the example above. Hint: subindex df to pass only N values, instead of the full array (which is 1600).\n",
    "1. Use the `ti = time.time(); t = time.time()-ti;` code to capture the compute time for graphing.\n",
    "1. Normalize t as above.\n",
    "1. Recreate the graph above showing the curves for algorithm performance.\n",
    "1. Graph the output as a function of N's, as above."
   ]
  },
  {
   "cell_type": "markdown",
   "metadata": {},
   "source": [
    "## 7. What to turn in?\n",
    "\n",
    "* .Png or .jpg image of the benchmark graph with your results from haversine methods 1, 3, and 5 included."
   ]
  },
  {
   "cell_type": "code",
   "execution_count": null,
   "metadata": {},
   "outputs": [],
   "source": []
  }
 ],
 "metadata": {
  "kernelspec": {
   "display_name": "Python 3 (ipykernel)",
   "language": "python",
   "name": "python3"
  },
  "language_info": {
   "codemirror_mode": {
    "name": "ipython",
    "version": 3
   },
   "file_extension": ".py",
   "mimetype": "text/x-python",
   "name": "python",
   "nbconvert_exporter": "python",
   "pygments_lexer": "ipython3",
   "version": "3.9.12"
  }
 },
 "nbformat": 4,
 "nbformat_minor": 2
}
