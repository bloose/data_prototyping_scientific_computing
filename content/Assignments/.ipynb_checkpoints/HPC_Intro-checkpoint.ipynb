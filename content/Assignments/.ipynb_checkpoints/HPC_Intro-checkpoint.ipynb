{
 "cells": [
  {
   "cell_type": "markdown",
   "metadata": {},
   "source": [
    "## Remote computing at the Brown University cluster (Oscar).\n",
    "\n",
    "Use the documentation to supplement this guide https://docs.ccv.brown.edu/oscar/getting-started.\n",
    "\n",
    "### Objectives\n",
    "\n",
    "1. Learn basic unix shell navigation and commands.\n",
    "2. Set up computing environment for Python on the Oscar cluster.\n",
    "3. Use file transfer to upload/download files from the remote environment, including Python (.py) scripts and image files (.jpeg, .tif).\n",
    "4. Practice basic tasks at the Unix command line.\n",
    "5. +Set up the environment for cloud computing exercise.\n",
    "\n",
    "\n",
    "+We will compute the [NDVI](https://www.usgs.gov/core-science-systems/nli/landsat/landsat-normalized-difference-vegetation-index?qt-science_support_page_related_con=0#qt-science_support_page_related_con) Normalized Distributed Vegetation Index using LANDSAT satellite imagery]  from the bands. Check out the details at the above link. \n",
    "\n",
    "++This exercise is based on the [Pangeo LANDSAT 8 NDVI example](http://gallery.pangeo.io/repos/pangeo-data/landsat-8-tutorial-gallery/landsat8.html).\n"
   ]
  },
  {
   "cell_type": "markdown",
   "metadata": {},
   "source": [
    "Your user account and password have been provided to you by Brightspace.\n",
    "\n",
    "These should be something link:\n",
    "\n",
    "~~~\n",
    "Name: URI User 24\n",
    "Login: guest896 \n",
    "Password: Sd;lkfjasd\n",
    "~~~\n",
    "\n",
    "To access the HPC, we will use Secure Shell to make an encrypted Telnet connection.  \n",
    "* On Windows download Putty:  https://www.putty.org/ \n",
    "* On MAC Open a terminal window\n",
    "\n",
    "~~~\n",
    "$ ssh guest###@ssh.ccv.brown.edu \n",
    "~~~\n",
    "\n",
    "If this connection is successful, then you can proceed to testing out the file system.   Follow the **Unix tutorial** on navigating around the directories.\n",
    "\n",
    "Also check out Unix shell commands to better understand how to use the command line tools.   https://maker.pro/linux/tutorial/basic-linux-commands-for-beginners. You will likely need to use the Unix commands sudo, cd, rm, mkdir, ssh, sftp, and nano. \n",
    " "
   ]
  },
  {
   "cell_type": "markdown",
   "metadata": {},
   "source": [
    "Use the `myquota` command to see how much space you were allocated.\n",
    "\n",
    "~~~\n",
    "$ myquota\n",
    "~~~"
   ]
  },
  {
   "cell_type": "markdown",
   "metadata": {},
   "source": [
    "### Set up the working environment.\n",
    "\n",
    "\n",
    "* [Do this every time you log in] Oscar uses modules; modules can be loaded with the load command.  You will load them every time you log in.\n",
    "~~~\n",
    "$ module load python/3.7.4\n",
    "$ module load anaconda/3-5.2.0\n",
    "~~~\n",
    "\n",
    "* [Do this only once] Once you have loaded Python 3.7 and Anaconda modules, you need to install the Python libraries that we will use.  This command creates an Anaconda programming environment called `your_env_here`.  You will need to activate this environment every time you log in.\n",
    "~~~\n",
    "$ conda create -n <your_env_here> -c conda-forge python=3.7.4 dask mpi4py cartopy scikit-image\n",
    "$ pip install --user sat-search==0.2.3\n",
    "~~~\n",
    "\n",
    "* [Do this every time you log in] Activate the Anaconda environment you created:\n",
    "~~~\n",
    "$ source activate your_env_here\n",
    "~~~\n",
    "At the end of the session when you log out, you can enter  `source deactivate` to end the Anaconda environment.\n",
    "\n",
    "\n"
   ]
  },
  {
   "cell_type": "markdown",
   "metadata": {},
   "source": [
    "## Transfer files by sftp\n",
    "\n",
    "Secure File Transfer Protocol or sftp allows you to move files between your computer and your user directory on Oscar.\n",
    "\n",
    "To begin an sftp session type\n",
    "\n",
    "~~~\n",
    "$ ftp guest###@ssh.ccv.brown.edu \n",
    "~~~\n",
    "\n",
    "Enter your password when requested.\n",
    "\n",
    "\n",
    "\n"
   ]
  }
 ],
 "metadata": {
  "kernelspec": {
   "display_name": "Python 3",
   "language": "python",
   "name": "python3"
  },
  "language_info": {
   "codemirror_mode": {
    "name": "ipython",
    "version": 3
   },
   "file_extension": ".py",
   "mimetype": "text/x-python",
   "name": "python",
   "nbconvert_exporter": "python",
   "pygments_lexer": "ipython3",
   "version": "3.8.8"
  }
 },
 "nbformat": 4,
 "nbformat_minor": 2
}
