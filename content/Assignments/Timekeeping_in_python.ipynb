{
 "cells": [
  {
   "cell_type": "markdown",
   "metadata": {},
   "source": [
    "## Timekeeping in Python"
   ]
  },
  {
   "cell_type": "markdown",
   "metadata": {},
   "source": [
    "### Clocks and timekeeping on computers are not trivial.\n",
    "\n",
    "* Remember Y2k?  All of that was caused by the representation of 2-digit years in computer systems.\n",
    "\n",
    "* For many years, all timekeeping on computer systems was referenced to January 1, 1970 because no computer data pre-existed that.  This is known as the POSIX time.\n",
    "\n",
    "Python has multiple timekeeping modules including base python modules **date**, **time**, **datetime**.  We'll focus on **datetime**.\n",
    "\n",
    "Note:  Numpy and Pandas also have their own timekeeping, but both are compatible with the base python package of datetime.\n",
    "\n",
    "\n"
   ]
  },
  {
   "cell_type": "code",
   "execution_count": 2,
   "metadata": {},
   "outputs": [],
   "source": [
    "import pandas as pd\n",
    "import matplotlib.pyplot as plt\n",
    "import numpy as np\n",
    "import time as time\n",
    "import datetime as dt"
   ]
  },
  {
   "cell_type": "code",
   "execution_count": 3,
   "metadata": {},
   "outputs": [
    {
     "name": "stdout",
     "output_type": "stream",
     "text": [
      "2019-12-13 00:00:59\n",
      "2000-12-13 13:55:59\n"
     ]
    },
    {
     "ename": "TypeError",
     "evalue": "function missing required argument 'day' (pos 3)",
     "output_type": "error",
     "traceback": [
      "\u001b[0;31m---------------------------------------------------------------------------\u001b[0m",
      "\u001b[0;31mTypeError\u001b[0m                                 Traceback (most recent call last)",
      "\u001b[0;32m<ipython-input-3-c866a96d7482>\u001b[0m in \u001b[0;36m<module>\u001b[0;34m\u001b[0m\n\u001b[1;32m     17\u001b[0m \u001b[0;34m\u001b[0m\u001b[0m\n\u001b[1;32m     18\u001b[0m \u001b[0;31m# Specify less than the minimum\u001b[0m\u001b[0;34m\u001b[0m\u001b[0;34m\u001b[0m\u001b[0;34m\u001b[0m\u001b[0m\n\u001b[0;32m---> 19\u001b[0;31m \u001b[0mDc\u001b[0m \u001b[0;34m=\u001b[0m \u001b[0mdt\u001b[0m\u001b[0;34m.\u001b[0m\u001b[0mdatetime\u001b[0m\u001b[0;34m(\u001b[0m\u001b[0;36m2020\u001b[0m\u001b[0;34m,\u001b[0m\u001b[0;36m12\u001b[0m\u001b[0;34m)\u001b[0m\u001b[0;34m\u001b[0m\u001b[0;34m\u001b[0m\u001b[0m\n\u001b[0m\u001b[1;32m     20\u001b[0m \u001b[0mprint\u001b[0m\u001b[0;34m(\u001b[0m\u001b[0mDa\u001b[0m\u001b[0;34m)\u001b[0m\u001b[0;34m\u001b[0m\u001b[0;34m\u001b[0m\u001b[0m\n",
      "\u001b[0;31mTypeError\u001b[0m: function missing required argument 'day' (pos 3)"
     ]
    }
   ],
   "source": [
    "# A Datetime object can incorporate Year, Month, Day, Hour, Minute, Second, Millisecond.\n",
    "# At a minimum, year, month, day must be specified\n",
    "\n",
    "Da = dt.datetime(\n",
    "    year=2019,\\\n",
    "    month=12,\\\n",
    "    day=13,\\\n",
    "    second=59\n",
    ")\n",
    "print(Da)\n",
    "\n",
    "\n",
    "# Specify everything in order of Year, Month, Day, Hour, Minute, Second\n",
    "Db = dt.datetime(2000,12,13,13,55,59)\n",
    "print(Db)\n",
    "\n",
    "\n",
    "# Specify less than the minimum\n",
    "Dc = dt.datetime(2020,12)\n",
    "print(Da)\n"
   ]
  },
  {
   "cell_type": "markdown",
   "metadata": {},
   "source": [
    "Datetime objects support basic arithmetic:"
   ]
  },
  {
   "cell_type": "code",
   "execution_count": 4,
   "metadata": {},
   "outputs": [
    {
     "name": "stdout",
     "output_type": "stream",
     "text": [
      "6938 days, 10:05:00\n",
      "1990-12-03 00:00:00\n",
      "1971-11-01 13:55:00\n"
     ]
    },
    {
     "ename": "TypeError",
     "evalue": "unsupported operand type(s) for +: 'datetime.datetime' and 'datetime.datetime'",
     "output_type": "error",
     "traceback": [
      "\u001b[0;31m---------------------------------------------------------------------------\u001b[0m",
      "\u001b[0;31mTypeError\u001b[0m                                 Traceback (most recent call last)",
      "\u001b[0;32m<ipython-input-4-0090222d7c4a>\u001b[0m in \u001b[0;36m<module>\u001b[0;34m\u001b[0m\n\u001b[1;32m     12\u001b[0m \u001b[0;34m\u001b[0m\u001b[0m\n\u001b[1;32m     13\u001b[0m \u001b[0;31m# This is not permitted, because Db and Da represent absolute time since a referenec.\u001b[0m\u001b[0;34m\u001b[0m\u001b[0;34m\u001b[0m\u001b[0;34m\u001b[0m\u001b[0m\n\u001b[0;32m---> 14\u001b[0;31m \u001b[0mDf\u001b[0m \u001b[0;34m=\u001b[0m \u001b[0mDb\u001b[0m\u001b[0;34m+\u001b[0m\u001b[0mDa\u001b[0m\u001b[0;34m\u001b[0m\u001b[0;34m\u001b[0m\u001b[0m\n\u001b[0m\u001b[1;32m     15\u001b[0m \u001b[0mprint\u001b[0m\u001b[0;34m(\u001b[0m\u001b[0mDf\u001b[0m\u001b[0;34m)\u001b[0m\u001b[0;34m\u001b[0m\u001b[0;34m\u001b[0m\u001b[0m\n\u001b[1;32m     16\u001b[0m \u001b[0mget_ipython\u001b[0m\u001b[0;34m(\u001b[0m\u001b[0;34m)\u001b[0m\u001b[0;34m.\u001b[0m\u001b[0mrun_line_magic\u001b[0m\u001b[0;34m(\u001b[0m\u001b[0;34m'pinfo'\u001b[0m\u001b[0;34m,\u001b[0m \u001b[0;34m'Df'\u001b[0m\u001b[0;34m)\u001b[0m\u001b[0;34m\u001b[0m\u001b[0;34m\u001b[0m\u001b[0m\n",
      "\u001b[0;31mTypeError\u001b[0m: unsupported operand type(s) for +: 'datetime.datetime' and 'datetime.datetime'"
     ]
    }
   ],
   "source": [
    "# Subtracting \n",
    "Dg = Da-Db\n",
    "print(Dg)\n",
    "# Dg is a timedelta object\n",
    "Dg?\n",
    "Dg.total_seconds()\n",
    "\n",
    "\n",
    "# Datetime and timedelta objects can be added and subtracted\n",
    "print( dt.datetime(1990,10,31)+dt.timedelta(days=33) )\n",
    "print( dt.datetime(1990,10,31)-Dg )\n",
    "\n",
    "# This is not permitted, because Db and Da represent absolute time since a referenec.\n",
    "Df = Db+Da\n",
    "print(Df)\n",
    "Df?\n",
    "Df.total_seconds()\n",
    "\n"
   ]
  },
  {
   "cell_type": "code",
   "execution_count": 6,
   "metadata": {},
   "outputs": [
    {
     "name": "stdout",
     "output_type": "stream",
     "text": [
      "2020-10-26 16:47:18.268507\n"
     ]
    }
   ],
   "source": [
    "# Datetime provides the current time stamp using now()\n",
    "t0 = dt.datetime.now()\n",
    "print(t0)"
   ]
  },
  {
   "cell_type": "markdown",
   "metadata": {},
   "source": [
    "### Time references:\n",
    "\n",
    "* Datetime uses the **proleptic Gregorian** calendar as a reference.  Year 1, is the reference year.  Year 2020 is Year 2020.\n",
    "* This differs from e.g. the POSIX calendar, which uses 1970 as the reference year.\n",
    "* Unless specified, the datetime object is **naive**, meaning it doesn't know its time relative to geography."
   ]
  },
  {
   "cell_type": "code",
   "execution_count": 7,
   "metadata": {},
   "outputs": [
    {
     "name": "stdout",
     "output_type": "stream",
     "text": [
      "737724\n",
      "2020-10-26 00:00:00\n"
     ]
    }
   ],
   "source": [
    "# Express t0 to total number of elapsed days since January 1, of year 1.\n",
    "t1 = t0.toordinal()\n",
    "# t1 is an integer.\n",
    "print(t1)\n",
    "\n",
    "# Recover timestamp, but note that hrs,mins,seconds have been lost\n",
    "print(dt.datetime.fromordinal(t1))"
   ]
  },
  {
   "cell_type": "code",
   "execution_count": 8,
   "metadata": {},
   "outputs": [
    {
     "data": {
      "text/plain": [
       "1603745238.268507"
      ]
     },
     "execution_count": 8,
     "metadata": {},
     "output_type": "execute_result"
    }
   ],
   "source": [
    "# Express t0 as total seconds elapsed since January 1, of year 1 (the reference year).\n",
    "t0.timestamp()   # This value is a float."
   ]
  },
  {
   "cell_type": "code",
   "execution_count": 9,
   "metadata": {},
   "outputs": [
    {
     "data": {
      "text/plain": [
       "737724"
      ]
     },
     "execution_count": 9,
     "metadata": {},
     "output_type": "execute_result"
    }
   ],
   "source": [
    "# Pandas datetime library has similar, but not identical functionality as the base datetime library. \n",
    "pd.datetime.now().toordinal()"
   ]
  },
  {
   "cell_type": "code",
   "execution_count": 10,
   "metadata": {},
   "outputs": [
    {
     "data": {
      "text/plain": [
       "1603745381.325909"
      ]
     },
     "execution_count": 10,
     "metadata": {},
     "output_type": "execute_result"
    }
   ],
   "source": [
    "# Include notes on tzinfo()\n",
    "\n",
    "# Can add and subtract datetime objects.  These are stored as timedelta()\n",
    "dt.datetime.now().timestamp()"
   ]
  },
  {
   "cell_type": "code",
   "execution_count": 14,
   "metadata": {},
   "outputs": [
    {
     "name": "stdout",
     "output_type": "stream",
     "text": [
      "True\n",
      "2020-10-26 16:47:18.268507-04:00\n"
     ]
    }
   ],
   "source": [
    "print(t0.tzinfo==None)\n",
    "\n",
    "\n",
    "# pytz gives the time zone information\n",
    "import pytz\n",
    "timezone = pytz.timezone(\"America/New_York\")\n",
    "ttz = timezone.localize(t0)\n",
    "print(ttz)  #this prints offset from UTC.\n"
   ]
  },
  {
   "cell_type": "code",
   "execution_count": 15,
   "metadata": {},
   "outputs": [
    {
     "name": "stdout",
     "output_type": "stream",
     "text": [
      "2020-10-26 16:47:18.268507\n",
      "10/26/20,16:47:18\n"
     ]
    }
   ],
   "source": [
    "# Datetime objects can be converted to strings.\n",
    "print(t0)\n",
    "T = t0.strftime('%m/%d/%y,%H:%M:%S')\n",
    "print(T)"
   ]
  },
  {
   "cell_type": "markdown",
   "metadata": {},
   "source": [
    "### Recording datetime to make a timeseries\n",
    "\n",
    "Pandas can incorporate the datetime object directly into its dataframe. Numpy datetime handling is more complicated."
   ]
  },
  {
   "cell_type": "code",
   "execution_count": 17,
   "metadata": {},
   "outputs": [
    {
     "name": "stdout",
     "output_type": "stream",
     "text": [
      "                        time iterator\n",
      "0 2020-10-26 16:58:59.167577        0\n",
      "1 2020-10-26 16:58:59.675370        1\n",
      "2 2020-10-26 16:59:00.181580        2\n",
      "3 2020-10-26 16:59:00.685372        3\n",
      "4 2020-10-26 16:59:01.191103        4\n",
      "5 2020-10-26 16:59:01.697113        5\n",
      "6 2020-10-26 16:59:02.202525        6\n",
      "7 2020-10-26 16:59:02.710255        7\n",
      "8 2020-10-26 16:59:03.215874        8\n",
      "9 2020-10-26 16:59:03.723086        9\n"
     ]
    },
    {
     "data": {
      "text/html": [
       "<div>\n",
       "<style scoped>\n",
       "    .dataframe tbody tr th:only-of-type {\n",
       "        vertical-align: middle;\n",
       "    }\n",
       "\n",
       "    .dataframe tbody tr th {\n",
       "        vertical-align: top;\n",
       "    }\n",
       "\n",
       "    .dataframe thead th {\n",
       "        text-align: right;\n",
       "    }\n",
       "</style>\n",
       "<table border=\"1\" class=\"dataframe\">\n",
       "  <thead>\n",
       "    <tr style=\"text-align: right;\">\n",
       "      <th></th>\n",
       "      <th>time</th>\n",
       "      <th>iterator</th>\n",
       "    </tr>\n",
       "  </thead>\n",
       "  <tbody>\n",
       "    <tr>\n",
       "      <th>0</th>\n",
       "      <td>2020-10-26 16:58:59.167577</td>\n",
       "      <td>0</td>\n",
       "    </tr>\n",
       "    <tr>\n",
       "      <th>1</th>\n",
       "      <td>2020-10-26 16:58:59.675370</td>\n",
       "      <td>1</td>\n",
       "    </tr>\n",
       "    <tr>\n",
       "      <th>2</th>\n",
       "      <td>2020-10-26 16:59:00.181580</td>\n",
       "      <td>2</td>\n",
       "    </tr>\n",
       "    <tr>\n",
       "      <th>3</th>\n",
       "      <td>2020-10-26 16:59:00.685372</td>\n",
       "      <td>3</td>\n",
       "    </tr>\n",
       "    <tr>\n",
       "      <th>4</th>\n",
       "      <td>2020-10-26 16:59:01.191103</td>\n",
       "      <td>4</td>\n",
       "    </tr>\n",
       "  </tbody>\n",
       "</table>\n",
       "</div>"
      ],
      "text/plain": [
       "                        time iterator\n",
       "0 2020-10-26 16:58:59.167577        0\n",
       "1 2020-10-26 16:58:59.675370        1\n",
       "2 2020-10-26 16:59:00.181580        2\n",
       "3 2020-10-26 16:59:00.685372        3\n",
       "4 2020-10-26 16:59:01.191103        4"
      ]
     },
     "execution_count": 17,
     "metadata": {},
     "output_type": "execute_result"
    }
   ],
   "source": [
    "dd = pd.DataFrame(columns=('time','iterator'))\n",
    "\n",
    "\n",
    "for i in range(0,10):\n",
    "    t = dt.datetime.now()\n",
    "    dd = dd.append({'time': t,'iterator': i}, ignore_index=True)\n",
    "    #dd = dd.append({}, ignore_index=True)\n",
    "    time.sleep(0.5)\n",
    "print(dd)\n",
    "dd.head()"
   ]
  },
  {
   "cell_type": "code",
   "execution_count": 18,
   "metadata": {},
   "outputs": [
    {
     "name": "stderr",
     "output_type": "stream",
     "text": [
      "//anaconda3/lib/python3.7/site-packages/pandas/plotting/_converter.py:129: FutureWarning: Using an implicitly registered datetime converter for a matplotlib plotting method. The converter was registered by pandas on import. Future versions of pandas will require you to explicitly register matplotlib converters.\n",
      "\n",
      "To register the converters:\n",
      "\t>>> from pandas.plotting import register_matplotlib_converters\n",
      "\t>>> register_matplotlib_converters()\n",
      "  warnings.warn(msg, FutureWarning)\n"
     ]
    },
    {
     "data": {
      "image/png": "[encoded data removed]",
      "text/plain": [
       "<Figure size 432x288 with 1 Axes>"
      ]
     },
     "metadata": {
      "needs_background": "light"
     },
     "output_type": "display_data"
    }
   ],
   "source": [
    "# Importantly, the datetime vector can be plotted in matplotlib.\n",
    "plt.figure()\n",
    "plt.plot(dd['time'],dd['iterator'],'.')\n",
    "plt.xlabel('time'); plt.ylabel('iterator')\n",
    "plt.show()"
   ]
  },
  {
   "cell_type": "code",
   "execution_count": null,
   "metadata": {},
   "outputs": [],
   "source": []
  }
 ],
 "metadata": {
  "kernelspec": {
   "display_name": "Python 3",
   "language": "python",
   "name": "python3"
  },
  "language_info": {
   "codemirror_mode": {
    "name": "ipython",
    "version": 3
   },
   "file_extension": ".py",
   "mimetype": "text/x-python",
   "name": "python",
   "nbconvert_exporter": "python",
   "pygments_lexer": "ipython3",
   "version": "3.7.3"
  }
 },
 "nbformat": 4,
 "nbformat_minor": 2
}
