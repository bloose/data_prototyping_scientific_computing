{
 "cells": [
  {
   "cell_type": "markdown",
   "metadata": {},
   "source": [
    "## Timekeeping in Python, R"
   ]
  },
  {
   "cell_type": "markdown",
   "metadata": {},
   "source": [
    "### Clocks and timekeeping on computers are not trivial.\n",
    "\n",
    "* Remember Y2k?  All of that was caused by the representation of 2-digit years in computer systems.\n",
    "\n",
    "* For many years, all timekeeping on computer systems was referenced to January 1, 1970 because no computer data pre-existed that.  This is known as the POSIX time.\n",
    "\n",
    "Python has multiple timekeeping modules including base python modules **date**, **time**, **datetime**.  We'll focus on **datetime**.\n",
    "\n",
    "Note:  Numpy and Pandas also have their own timekeeping, but both are compatible with the base python package of datetime.\n",
    "\n",
    "\n"
   ]
  },
  {
   "cell_type": "code",
   "execution_count": null,
   "metadata": {},
   "outputs": [],
   "source": [
    "# PYTHON\n",
    "import pandas as pd\n",
    "import matplotlib.pyplot as plt\n",
    "import numpy as np\n",
    "import time as time\n",
    "import datetime as dt"
   ]
  },
  {
   "cell_type": "code",
   "execution_count": null,
   "metadata": {},
   "outputs": [],
   "source": [
    "# R\n",
    "#install.packages(\"lubridate\")\n",
    "library(lubridate)\n",
    "\n",
    "Da = ymd(\"2019-12-13\")\n",
    "Db <- ymd_hms(\"2000-12-13 13:55:59\")\n",
    "\n",
    "print(Da)"
   ]
  },
  {
   "cell_type": "code",
   "execution_count": null,
   "metadata": {},
   "outputs": [],
   "source": [
    "# A Datetime object can incorporate Year, Month, Day, Hour, Minute, Second, Millisecond.\n",
    "# At a minimum, year, month, day must be specified\n",
    "\n",
    "Da = dt.datetime(\n",
    "    year=2019,\\\n",
    "    month=12,\\\n",
    "    day=13,\\\n",
    "    second=59\n",
    ")\n",
    "print(Da)\n",
    "\n",
    "\n",
    "# Specify everything in order of Year, Month, Day, Hour, Minute, Second\n",
    "Db = dt.datetime(2000,12,13,13,55,59)\n",
    "print(Db)\n",
    "\n",
    "\n",
    "# Specify less than the minimum\n",
    "Dc = dt.datetime(2020,12,1)\n",
    "print(Dc)\n"
   ]
  },
  {
   "cell_type": "markdown",
   "metadata": {},
   "source": [
    "Datetime objects support basic arithmetic:"
   ]
  },
  {
   "cell_type": "code",
   "execution_count": null,
   "metadata": {},
   "outputs": [],
   "source": [
    "# PYTHON,\n",
    "# Subtracting \n",
    "Dg = Da-Db\n",
    "print(Dg)\n",
    "# Dg is a timedelta object\n",
    "Dg?\n",
    "Dg.total_seconds()\n",
    "\n",
    "\n",
    "# Datetime and timedelta objects can be added and subtracted\n",
    "print( dt.datetime(1990,10,31)+dt.timedelta(days=33) )\n",
    "print( dt.datetime(1990,10,31)-Dg )\n",
    "\n",
    "# This is not permitted, because Db and Da represent absolute time since a reference.\n",
    "Df = Db+Da\n",
    "print(Df)\n",
    "Df?\n",
    "Df.total_seconds()\n",
    "\n"
   ]
  },
  {
   "cell_type": "code",
   "execution_count": null,
   "metadata": {},
   "outputs": [],
   "source": [
    "Dg?"
   ]
  },
  {
   "cell_type": "code",
   "execution_count": null,
   "metadata": {},
   "outputs": [],
   "source": [
    "# Datetime provides the current time stamp using now()\n",
    "t0 = dt.datetime.now()\n",
    "print(t0)"
   ]
  },
  {
   "cell_type": "markdown",
   "metadata": {},
   "source": [
    "### Time references:\n",
    "\n",
    "* Datetime uses the **proleptic Gregorian** calendar as a reference.  Year 1, is the reference year.  Year 2020 is Year 2020.\n",
    "* This differs from e.g. the POSIX calendar, which uses 1970 as the reference year.\n",
    "* Unless specified, the datetime object is **naive**, meaning it doesn't know its time relative to geography."
   ]
  },
  {
   "cell_type": "code",
   "execution_count": null,
   "metadata": {},
   "outputs": [],
   "source": [
    "# R\n",
    "# Datetime provides the current time stamp using now()\n",
    "t0 <- ymd_hms(Sys.time()) \n",
    "print(t0)\n",
    "t1 <- as.integer(t0) # This creates seconds from the start of the POSIX calendar.\n",
    "print(t1)"
   ]
  },
  {
   "cell_type": "code",
   "execution_count": null,
   "metadata": {},
   "outputs": [],
   "source": [
    "# Express t0 to total number of elapsed days since January 1, of year 1.\n",
    "t0 = dt.datetime.now()\n",
    "t1 = t0.toordinal() # This creates days from the proleptic Gregorian calendar.\n",
    "# t1 is an integer.\n",
    "print(t1)\n",
    "\n",
    "# Recover timestamp, but note that hrs,mins,seconds have been lost\n",
    "print(dt.datetime.fromordinal(t1))\n",
    "\n",
    "# Express t0 as total seconds elapsed since January 1, of year 1 (the reference year).\n",
    "t0.timestamp()   # This value is a float, and its the number of seconds from the start of the POSIX calendar."
   ]
  },
  {
   "cell_type": "code",
   "execution_count": null,
   "metadata": {},
   "outputs": [],
   "source": [
    "# Include notes on tzinfo()\n",
    "\n",
    "# Can add and subtract datetime objects.  These are stored as timedelta()\n",
    "dt.datetime.now().timestamp()"
   ]
  },
  {
   "cell_type": "code",
   "execution_count": null,
   "metadata": {},
   "outputs": [],
   "source": [
    "# PYTHON\n",
    "print(t0.tzinfo==None)\n",
    "# pytz gives the time zone information\n",
    "import pytz\n",
    "timezone = pytz.timezone(\"America/New_York\")\n",
    "ttz = timezone.localize(t0)\n",
    "print(ttz)  #this prints offset from UTC.\n"
   ]
  },
  {
   "cell_type": "code",
   "execution_count": null,
   "metadata": {},
   "outputs": [],
   "source": [
    "# R\n",
    "# Check if t0 has a time zone\n",
    "print(is.null(attr(t0, \"tzone\")))\n",
    "\n",
    "# Set time zone to America/New_York\n",
    "ttz <- with_tz(t0, \"America/New_York\")\n",
    "\n",
    "# Print the datetime with time zone information\n",
    "print(ttz)\n"
   ]
  },
  {
   "cell_type": "code",
   "execution_count": null,
   "metadata": {},
   "outputs": [],
   "source": [
    "# PYTHON\n",
    "# Datetime objects can be converted to strings.\n",
    "print(t0)\n",
    "T = t0.strftime('%m/%d/%y,%H:%M:%S')\n",
    "print(T)"
   ]
  },
  {
   "cell_type": "code",
   "execution_count": null,
   "metadata": {},
   "outputs": [],
   "source": [
    "# R\n",
    "# Format the datetime as a string\n",
    "print(t0)\n",
    "T <- format(t0, \"%m/%d/%y,%H:%M:%S\")\n",
    "\n",
    "# Print the formatted string\n",
    "print(t0)"
   ]
  },
  {
   "cell_type": "markdown",
   "metadata": {},
   "source": [
    "### Recording datetime to make a timeseries\n",
    "\n",
    "Dataframes can incorporate the datetime object directly into its dataframe. In Python, Pandas is one library that was built for working with dataframes.   In R, base R creates dataframes by default."
   ]
  },
  {
   "cell_type": "code",
   "execution_count": null,
   "metadata": {},
   "outputs": [],
   "source": [
    "# Python\n",
    "dd = pd.DataFrame(columns=('time','iterator')) # Create a pandas dataframe with 2 columns.\n",
    "\n",
    "\n",
    "for i in range(0,10):\n",
    "    t = dt.datetime.now()\n",
    "    dd = dd.append({'time': t,'iterator': i}, ignore_index=True)\n",
    "    #dd = dd.append({}, ignore_index=True)\n",
    "    time.sleep(0.5)\n",
    "print(dd)\n",
    "dd.head()"
   ]
  },
  {
   "cell_type": "code",
   "execution_count": null,
   "metadata": {},
   "outputs": [],
   "source": [
    "# Python\n",
    "# Importantly, the datetime vector can be plotted in matplotlib.\n",
    "plt.figure()\n",
    "plt.plot(dd['time'],dd['iterator'],'.')\n",
    "plt.xlabel('time'); plt.ylabel('iterator')\n",
    "plt.show()"
   ]
  },
  {
   "cell_type": "code",
   "execution_count": null,
   "metadata": {},
   "outputs": [],
   "source": [
    "# R\n",
    "# Create an empty data frame with columns 'time' and 'iterator'\n",
    "dd <- data.frame(time = character(), iterator = numeric())\n",
    "\n",
    "# Loop 10 times\n",
    "for (i in 1:10) {\n",
    "  # Get current datetime\n",
    "  t <- ymd_hms(Sys.time())\n",
    "  \n",
    "  # Append a new row with current time and iterator value\n",
    "  dd <- rbind(dd, list(time = t, iterator = i))\n",
    "  \n",
    "  # Sleep for 0.5 seconds\n",
    "  Sys.sleep(1)\n",
    "}\n",
    "\n",
    "# Print the entire data frame\n",
    "print(dd)\n",
    "\n",
    "# Print the first 5 rows\n",
    "head(dd)"
   ]
  },
  {
   "cell_type": "code",
   "execution_count": null,
   "metadata": {},
   "outputs": [],
   "source": [
    "# R\n",
    "# NOTE:  R doesn't have datetime as a data type, so it is harder to graph date and time on one axis.  \n",
    "# This example graphs them in numeric seconds\n",
    "library(ggplot2)\n",
    "# Create a scatter plot\n",
    "ggplot(dd, aes(x = time, y = iterator)) +\n",
    "  geom_point(color = \"blue\") +  # Plot points with blue color\n",
    "  labs(x = \"Time\", y = \"Iterator\") +  # Set axis labels\n",
    "  theme_minimal()  # Apply a clean theme\n"
   ]
  }
 ],
 "metadata": {
  "kernelspec": {
   "display_name": "R",
   "language": "R",
   "name": "ir"
  },
  "language_info": {
   "codemirror_mode": "r",
   "file_extension": ".r",
   "mimetype": "text/x-r-source",
   "name": "R",
   "pygments_lexer": "r",
   "version": "4.1.3"
  }
 },
 "nbformat": 4,
 "nbformat_minor": 4
}
