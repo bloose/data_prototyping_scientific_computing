{
 "cells": [
  {
   "cell_type": "markdown",
   "metadata": {
    "nbpresent": {
     "id": "07c056f8-7949-4dd6-985c-6d2e0ab1dbe3"
    }
   },
   "source": [
    "# Intro to Python Programming Language #\n",
    "### (With a short intro to Jupyter along the way) ###\n",
    "\n",
    "> Some content copied from the [official python tutorial](https://docs.python.org/3/tutorial/).  See the tutorial for much more in-depth coverage.\n",
    "\n",
    "> Follows reading in 'Real World Instrumentation', Chapter 3 (pgs. 61 to 121).\n",
    "\n",
    "> Other Resources: https://www.youtube.com/watch?v=rkx5_MRAV3A\n",
    "\n",
    "Instructions:  First spend some time navigating the Jupyter workspace.  Also try out the IPy workspace and the Spyder workspace. These are all called Integrated Development Environments (IDEs).  They give you a command line to execute your scripts.  They often have a text editor for writing code.  They can help you display your variables to look at what is in the workspace."
   ]
  },
  {
   "cell_type": "markdown",
   "metadata": {
    "nbpresent": {
     "id": "957c7b1d-67a6-4fa4-98f0-a3857a24c08c"
    },
    "slideshow": {
     "slide_type": "slide"
    }
   },
   "source": [
    "### Importing modules and packages\n",
    "> Python does not explicitly load the libraries of functions (called modules).  This saves on memory and data efficiency, but it means we must load the ones that we need.  There are several different approaches to loading modules.  Here, we will use the object oriented approach and load each module into a variable name that we can call or operate on.  The most common modules that we need are numpy, matplotlib, and os\n"
   ]
  },
  {
   "cell_type": "code",
   "execution_count": null,
   "metadata": {
    "nbpresent": {
     "id": "e1b0fcc5-d45d-4684-94ab-e85322cbad14"
    }
   },
   "outputs": [],
   "source": [
    "# Import Numpy\n",
    "import numpy as np\n",
    "# Import plotting library\n",
    "import matplotlib.pyplot as plt\n",
    "# import.... \n",
    "from os import *"
   ]
  },
  {
   "cell_type": "markdown",
   "metadata": {},
   "source": [
    "## Data types in Python ## \n",
    "\n",
    "**Note**:  As you make code, you must pay particular attention to data types.  Each data type has restrictions on what kind of operations can be peformed, e.g. you can't do arithmetic on a text string. Many of the errors and problems that you will encounter arise when you try to use a function or operation that was not meant for a data type.  **File this away for future reference.**"
   ]
  },
  {
   "cell_type": "code",
   "execution_count": null,
   "metadata": {},
   "outputs": [],
   "source": [
    "# Comments are anything that comes after the \"#\" symbol\n",
    "a = 1.57       # assign 1.57 to variable a\n",
    "b = 'hello' # assign \"hello\" to variable b"
   ]
  },
  {
   "cell_type": "code",
   "execution_count": null,
   "metadata": {},
   "outputs": [],
   "source": [
    "type(a)"
   ]
  },
  {
   "cell_type": "code",
   "execution_count": null,
   "metadata": {},
   "outputs": [],
   "source": [
    "# query the data type\n",
    "b?"
   ]
  },
  {
   "cell_type": "code",
   "execution_count": null,
   "metadata": {},
   "outputs": [],
   "source": [
    "# can recast some data types as others:\n",
    "# Note that i\n",
    "print(int(a))"
   ]
  },
  {
   "cell_type": "markdown",
   "metadata": {
    "nbpresent": {
     "id": "090464b2-4093-4998-871c-a64ced1c4a07"
    }
   },
   "source": [
    "## Arithmetic operators:  \n",
    "\n",
    "~~~\n",
    "    +, -,*, /, **\n",
    "~~~"
   ]
  },
  {
   "cell_type": "code",
   "execution_count": null,
   "metadata": {
    "nbpresent": {
     "id": "d99ec3e0-838c-49cd-9713-a52d0642c403"
    }
   },
   "outputs": [],
   "source": [
    "a = 2\n",
    "b = 4\n",
    "# Divide\n",
    "a/b\n",
    "c = a/b; print(c)"
   ]
  },
  {
   "cell_type": "markdown",
   "metadata": {},
   "source": [
    "**Multiply a and b:**"
   ]
  },
  {
   "cell_type": "code",
   "execution_count": null,
   "metadata": {},
   "outputs": [],
   "source": [
    "#Answer:\n",
    "print(a*b)\n",
    "print(b*a)"
   ]
  },
  {
   "cell_type": "markdown",
   "metadata": {
    "nbpresent": {
     "id": "84283273-7ff9-4d9f-910a-0cff6c1937d1"
    }
   },
   "source": [
    "**Compute a to the power of b:**"
   ]
  },
  {
   "cell_type": "code",
   "execution_count": null,
   "metadata": {
    "nbpresent": {
     "id": "91318012-05c8-4695-a13c-f0dae5710480"
    }
   },
   "outputs": [],
   "source": [
    "#Answer:\n",
    "a**b"
   ]
  },
  {
   "cell_type": "code",
   "execution_count": null,
   "metadata": {},
   "outputs": [],
   "source": [
    "# but not all types can be converted:\n",
    "bnbr2 ='hello'\n",
    "int(bnbr2)"
   ]
  },
  {
   "cell_type": "markdown",
   "metadata": {},
   "source": [
    "### Getting help()"
   ]
  },
  {
   "cell_type": "code",
   "execution_count": null,
   "metadata": {},
   "outputs": [],
   "source": [
    "plt?\n",
    "help(plt.plot)"
   ]
  },
  {
   "cell_type": "markdown",
   "metadata": {
    "nbpresent": {
     "id": "0810eef4-2a96-4941-820e-9aa648be3cb6"
    },
    "slideshow": {
     "slide_type": "subslide"
    }
   },
   "source": [
    "### Lists, tuples, and dicts"
   ]
  },
  {
   "cell_type": "code",
   "execution_count": null,
   "metadata": {
    "nbpresent": {
     "id": "b8105e7b-2976-473b-9ed7-8ea3ffe49864"
    }
   },
   "outputs": [],
   "source": [
    "# This is a list. It has multiple elements and can be of mixed data types.\n",
    "barnyard = [3,'chicken','4','pig',2.2,'goat']\n",
    "\n",
    "# The list can be sub-indexed to access one element at a time:\n",
    "print(barnyard[1])\n",
    "\n",
    "# The list is mutable, meaning it can be changed\n",
    "barnyard.append('horse')\n",
    "print(barnyard)"
   ]
  },
  {
   "cell_type": "code",
   "execution_count": null,
   "metadata": {
    "nbpresent": {
     "id": "b8105e7b-2976-473b-9ed7-8ea3ffe49864"
    }
   },
   "outputs": [],
   "source": [
    "# This is a tuple. It has multiple elements and can be of mixed data types, but it is immutable.\n",
    "junkyard = ('Ford','Chevy','John Deere')\n",
    "\n",
    "# The tuple can be sub-indexed :\n",
    "print(junkyard[2])\n",
    "\n",
    "# The tuple is immutable, it can not be increased or decreased.  This is another example of an operation that is \n",
    "# prohibited by data type.\n",
    "junkyard.append('Tesla')\n",
    "print(junkyard)"
   ]
  },
  {
   "cell_type": "markdown",
   "metadata": {},
   "source": [
    "## Conditionals:  if, elif, else"
   ]
  },
  {
   "cell_type": "code",
   "execution_count": null,
   "metadata": {},
   "outputs": [],
   "source": [
    "x = 100\n",
    "if x > 0:\n",
    "    print('Positive Number')\n",
    "elif x < 0:\n",
    "    print('Negative Number')\n",
    "else:\n",
    "    print ('Zero!')"
   ]
  },
  {
   "cell_type": "markdown",
   "metadata": {
    "nbpresent": {
     "id": "45acb467-f89c-4a38-81db-68154e9f28f9"
    },
    "slideshow": {
     "slide_type": "fragment"
    }
   },
   "source": [
    "\n",
    "\n",
    "## ----- Complete the exercises below, adding your answers as notes. ---- ##"
   ]
  },
  {
   "cell_type": "markdown",
   "metadata": {
    "nbpresent": {
     "id": "4ed0fd72-71d8-4bd3-9efd-327a2da0e5f0"
    }
   },
   "source": [
    "### What data types are barnyard1, barnyard2, barnyard3, and barnum?\n",
    "\n",
    "```barnyard1 = ['3','chicken','4','pig','2','goat']```\n",
    "\n",
    "```barnyard2 = 55```\n",
    "\n",
    "```barnyard3 = 'horses'```\n",
    "\n",
    "```barnum = 4.5```\n"
   ]
  },
  {
   "cell_type": "code",
   "execution_count": null,
   "metadata": {},
   "outputs": [],
   "source": [
    "# Answer: What data types? "
   ]
  },
  {
   "cell_type": "markdown",
   "metadata": {},
   "source": [
    "### Indexing: ###\n",
    "Arrays,lists, and touples can all be indexed. Python uses ':' (colons) to separate the index bounds,e.g. start:stop or from:to.  All indices are encapsulated within a hard bracket []. \n",
    "\n",
    "**Example 1:** barnyard1[3:5] #This tells python to subindex elements from barnyard1 starting at 3 and ending at, but not including, 5. In practice, elements 3 and 4 will be indexed.\n",
    "\n",
    "**Example 2:** barnyard1[0] #This tells python to subindex the first element.\n",
    "\n",
    "So far we have indexed with a step = 1.  It is also possible to index using steps of e.g. 1, 2, 3.   This looks like:\n",
    "barnyard1[start:stop:step]\n",
    "\n",
    "**Example 3:** barnyard1[1:7:3] #This tells python to subindex from the 2nd element through the 6th element by steps of 3."
   ]
  },
  {
   "cell_type": "markdown",
   "metadata": {
    "nbpresent": {
     "id": "7e19e53a-312f-4646-b60d-04177383cd9a"
    }
   },
   "source": [
    "### Indexing: What does this code do?  Answer, then uncomment and execute to check your answer."
   ]
  },
  {
   "cell_type": "code",
   "execution_count": null,
   "metadata": {
    "nbpresent": {
     "id": "535256d6-dd85-4784-8588-433d5e7065ff"
    },
    "slideshow": {
     "slide_type": "notes"
    }
   },
   "outputs": [],
   "source": [
    "# Which element is returned?\n",
    "barnyard2 = [3.14,'chicken',4.5,'pig',2,'goat',33,'cows',12,'guinea foul']\n",
    "barnyard2[-1]"
   ]
  },
  {
   "cell_type": "code",
   "execution_count": null,
   "metadata": {
    "nbpresent": {
     "id": "535256d6-dd85-4784-8588-433d5e7065ff"
    },
    "slideshow": {
     "slide_type": "notes"
    }
   },
   "outputs": [],
   "source": [
    "# What does this code do?  Answer and then uncomment to test.\n",
    "#newobj = barnyard2[::3]\n",
    "#print(newobj)\n",
    "\n",
    "#newobj = barnyard2[2::2]\n",
    "#print(newobj)"
   ]
  },
  {
   "cell_type": "code",
   "execution_count": null,
   "metadata": {},
   "outputs": [],
   "source": [
    "# What does this code do?  Answer and then uncomment to test.\n",
    "#print(barnyard2[::-2])"
   ]
  },
  {
   "cell_type": "code",
   "execution_count": null,
   "metadata": {},
   "outputs": [],
   "source": [
    "# Note that Python does not make a separate copy unless it is forced to do so.\n",
    "b = barnyard2\n",
    "\n",
    "# b is a pointer to the original list barnyard2\n",
    "b[4] = 'gorillaz'\n",
    "\n",
    "# Barnyard got modified as well. Woops.\n",
    "print(barnyard2)\n",
    "print(b)"
   ]
  },
  {
   "cell_type": "code",
   "execution_count": null,
   "metadata": {},
   "outputs": [],
   "source": [
    "# Make an explicit copy\n",
    "b = barnyard2.copy()\n",
    "\n",
    "b[4] = 'goat'\n",
    "print(b); print(barnyard2)"
   ]
  },
  {
   "cell_type": "code",
   "execution_count": null,
   "metadata": {},
   "outputs": [],
   "source": [
    "# Subindex the text element in list position 1 - what is the result?\n",
    "barnyard2[1][3]\n",
    "\n"
   ]
  },
  {
   "cell_type": "code",
   "execution_count": null,
   "metadata": {
    "nbpresent": {
     "id": "fc2d2212-25aa-42aa-bde3-5c2a496beaad"
    },
    "slideshow": {
     "slide_type": "notes"
    }
   },
   "outputs": [],
   "source": [
    "#Make a new list that is 6 elements long, insert the value 6 into each element. \n",
    "alist = [6,6,6,6,6,6]\n",
    "\n",
    "# Append the term 'text' and the number 83.08 to your list.\n",
    "alist.append('text')\n",
    "alist.append(83.08)\n",
    "\n",
    "#Why does this fail?\n",
    "alist[8] = 'more text'\n"
   ]
  },
  {
   "cell_type": "code",
   "execution_count": null,
   "metadata": {},
   "outputs": [],
   "source": [
    "#print(alist)"
   ]
  },
  {
   "cell_type": "markdown",
   "metadata": {},
   "source": [
    "### ------ Some conceptual programming distinctions ------- ###"
   ]
  },
  {
   "cell_type": "markdown",
   "metadata": {},
   "source": [
    "###  Functional programming.\n",
    "\n",
    "Functional programming decomposes a programming task into a set of inputs and outputs.  In ** strictly ** functional programming, only the outputs are modified.\n",
    "\n",
    "### Procedural vs. declarative programming.\n",
    "** Procedural ** programming tells the computer how to complete a set of tasks.  \n",
    "\n",
    "Example of procedural:\n",
    "\n",
    "     >> First do...\n",
    "     >> Next do ...\n",
    "     >> Last print...\n",
    "     \n",
    "Example of declarative:\n",
    "\n",
    "     >> Give me all the values between 'beginning' and 'end'.   # The language decides what is more efficient.\n",
    "     \n",
    "\n",
    "### Additional data types in Python\n",
    "<img src=\"https://bloose.github.io/data_prototyping_scientific_computing/images/data_types_Table3.1.png\" alt=\"drawing\" width=\"400\"/>"
   ]
  },
  {
   "cell_type": "markdown",
   "metadata": {},
   "source": [
    "### Break into your teams.  Ask each group to investigate one aspect of the programming environment and then report back with a simple lesson for the class.  Team lists are on Brightspace.\n"
   ]
  },
  {
   "cell_type": "markdown",
   "metadata": {},
   "source": [
    "# Additional Notes #\n",
    "\n",
    "*NOTE:*  You can use the tab to autocomplete.\n",
    "*NOTE:*  You can use the up/down arrow keys to cycle through the command history.\n",
    "\n",
    "The following identifiers are used as reserved words, or keywords of the language, and cannot be used as ordinary identifiers. They must be spelled exactly as written here:\n",
    "\n",
    "    False      class      finally    is         return\n",
    "    None       continue   for        lambda     try\n",
    "    True       def        from       nonlocal   while\n",
    "    and        del        global     not        with\n",
    "    as         elif       if         or         yield\n",
    "    assert     else       import     pass\n",
    "    break      except     in         raise\n",
    "    \n",
    "Additionally, the following a built in functions which are always available in your namespace once you open a python interpreter\n",
    "\n",
    "    abs() dict() help() min() setattr() all() dir() hex() next() slice() any()\n",
    "    divmod() id() object() sorted() ascii() enumerate() input() oct() staticmethod()\n",
    "    bin() eval() int() open() str() bool() exec() isinstance() ord() sum() bytearray()\n",
    "    filter() issubclass() pow() super() bytes() float() iter() print() tuple()\n",
    "    callable() format() len() property() type() chr() frozenset() list() range()\n",
    "    vars() classmethod() getattr() locals() repr() zip() compile() globals() map()\n",
    "    reversed() __import__() complex() hasattr() max() round() delattr() hash()\n",
    "    memoryview() set()"
   ]
  },
  {
   "cell_type": "code",
   "execution_count": null,
   "metadata": {},
   "outputs": [],
   "source": []
  }
 ],
 "metadata": {
  "kernelspec": {
   "display_name": "Python 3 (ipykernel)",
   "language": "python",
   "name": "python3"
  },
  "language_info": {
   "codemirror_mode": {
    "name": "ipython",
    "version": 3
   },
   "file_extension": ".py",
   "mimetype": "text/x-python",
   "name": "python",
   "nbconvert_exporter": "python",
   "pygments_lexer": "ipython3",
   "version": "3.9.12"
  },
  "nbpresent": {
   "slides": {
    "17ce48ab-fe3f-401e-b35d-799fa0612d0e": {
     "id": "17ce48ab-fe3f-401e-b35d-799fa0612d0e",
     "layout": "manual",
     "prev": null,
     "regions": {
      "28c307b5-e97e-436c-ae4d-1711f47c1dd0": {
       "attrs": {
        "height": 1,
        "pad": 0.01,
        "treemap:weight": 1,
        "width": 0.5,
        "x": 0,
        "y": 0
       },
       "id": "28c307b5-e97e-436c-ae4d-1711f47c1dd0"
      },
      "4f16de67-a87d-4319-8729-419edb8f0a11": {
       "attrs": {
        "height": 0.8,
        "width": 0.8,
        "x": 0.1,
        "y": 0.1
       },
       "id": "4f16de67-a87d-4319-8729-419edb8f0a11"
      },
      "528d703f-e1ff-4133-9c03-c56106924575": {
       "attrs": {
        "height": 0.8,
        "width": 0.8,
        "x": 0.1,
        "y": 0.1
       },
       "id": "528d703f-e1ff-4133-9c03-c56106924575"
      },
      "9a71a855-a3ac-4617-b6a5-c9b90ac3b477": {
       "attrs": {
        "height": 1,
        "pad": 0.01,
        "treemap:weight": 1,
        "width": 0.5,
        "x": 0.5,
        "y": 0
       },
       "content": {
        "cell": "07c056f8-7949-4dd6-985c-6d2e0ab1dbe3",
        "part": "source"
       },
       "id": "9a71a855-a3ac-4617-b6a5-c9b90ac3b477"
      }
     }
    }
   },
   "themes": {}
  }
 },
 "nbformat": 4,
 "nbformat_minor": 4
}
